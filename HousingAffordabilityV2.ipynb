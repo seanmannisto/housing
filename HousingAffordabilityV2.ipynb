{
  "cells": [
    {
      "cell_type": "markdown",
      "id": "a0f22662",
      "metadata": {
        "id": "a0f22662"
      },
      "source": [
        "## Housing Affordability by Sean Mannisto"
      ]
    },
    {
      "cell_type": "markdown",
      "source": [
        "This notebook:\n",
        "- Creates the dataset for my Tableau visualization of housing affordability at:\n",
        "https://public.tableau.com/app/profile/sean.mannisto/viz/HousingPricetoIncomeRatios/Sheet1\n",
        "\n",
        "- Creates a color and size-coded scatterplot of all US counties and their relative housing affordability\n",
        "\n",
        "- Calculates a Multiple Linear Regression Model\n",
        "\n",
        "- Calculates and plots statistics"
      ],
      "metadata": {
        "id": "UfxLAogPh4qS"
      },
      "id": "UfxLAogPh4qS"
    },
    {
      "cell_type": "markdown",
      "id": "ef7ea448",
      "metadata": {
        "id": "ef7ea448"
      },
      "source": [
        " Original Datasets:\n",
        "\n",
        " - Zillow \"Housing Value Index All Homes Time Series Smoothed Seasonally Adjusted\"\n",
        " https://www.zillow.com/research/data/\n",
        "\n",
        " - USDA \"Unemployment and median household income for the U.S., States, and counties, 2000-2021\" \n",
        " https://www.ers.usda.gov/data-products/county-level-data-sets/county-level-data-sets-download-data/\n",
        "\n",
        "- US Census \"Annual County Resident Population Estimates by Age, Sex, Race, and Hispanic Origin: April 1, 2020 to July 1, 2021\"\n",
        "https://www2.census.gov/programs-surveys/popest/datasets/2020-2021/counties/asrh/\n",
        "\n",
        "- US Census API American Community Survey\n",
        "\n",
        "Federal Information Processing Standards (FIPS) code will be used as an index for each county\n"
      ]
    },
    {
      "cell_type": "markdown",
      "id": "6c214126",
      "metadata": {
        "id": "6c214126"
      },
      "source": [
        "Load in libraries"
      ]
    },
    {
      "cell_type": "code",
      "execution_count": 181,
      "id": "2353e8c6",
      "metadata": {
        "id": "2353e8c6",
        "scrolled": true
      },
      "outputs": [],
      "source": [
        "import pandas as pd\n",
        "import numpy as np\n",
        "import math\n",
        "from matplotlib import pyplot as plt\n",
        "import matplotlib.dates as mdates\n",
        "from sklearn.model_selection import train_test_split\n",
        "from sklearn.linear_model import LinearRegression\n",
        "from sklearn.metrics import mean_squared_error\n",
        "import requests\n",
        "from requests.api import head\n",
        "import statsmodels.api as sm\n"
      ]
    },
    {
      "cell_type": "code",
      "source": [
        "!pip install colorspacious\n",
        "from colorspacious import cspace_converter"
      ],
      "metadata": {
        "colab": {
          "base_uri": "https://localhost:8080/"
        },
        "id": "mjuIvnG3B8MV",
        "outputId": "773ea36c-a37e-49cf-e1c1-344eae861359"
      },
      "id": "mjuIvnG3B8MV",
      "execution_count": 182,
      "outputs": [
        {
          "output_type": "stream",
          "name": "stdout",
          "text": [
            "Looking in indexes: https://pypi.org/simple, https://us-python.pkg.dev/colab-wheels/public/simple/\n",
            "Requirement already satisfied: colorspacious in /usr/local/lib/python3.8/dist-packages (1.1.2)\n",
            "Requirement already satisfied: numpy in /usr/local/lib/python3.8/dist-packages (from colorspacious) (1.21.6)\n"
          ]
        }
      ]
    },
    {
      "cell_type": "markdown",
      "source": [
        "Set URLs, API key, "
      ],
      "metadata": {
        "id": "lWqDRIS8Cb3X"
      },
      "id": "lWqDRIS8Cb3X"
    },
    {
      "cell_type": "code",
      "source": [
        "# set Zillow Housing Value Index URL\n",
        "zhvi_url = \"https://files.zillowstatic.com/research/public_csvs/zhvi/County_zhvi_uc_sfrcondo_tier_0.33_0.67_sm_sa_month.csv?t=1670291347\"\n",
        "\n",
        "# set most recent ZHVI date\n",
        "#mostrecentZHVI = \"2022-12-31\"\n",
        "\n",
        "# set USDA URL\n",
        "unemp_url = \"https://www.ers.usda.gov/webdocs/DataFiles/48747/Unemployment.xlsx?v=7156\"\n",
        "\n",
        "# set my Census API key as a variable\n",
        "api_key = \"f229871d75fd694d4cd998c8f640e953e8b97157\"\n",
        "\n",
        "i=1"
      ],
      "metadata": {
        "id": "kilfa-L3Aepd"
      },
      "id": "kilfa-L3Aepd",
      "execution_count": 396,
      "outputs": []
    },
    {
      "cell_type": "markdown",
      "id": "878f98e3",
      "metadata": {
        "id": "878f98e3"
      },
      "source": [
        "Load Zillow Housing Value Index data"
      ]
    },
    {
      "cell_type": "code",
      "execution_count": 184,
      "id": "15fb1e75",
      "metadata": {
        "id": "15fb1e75",
        "colab": {
          "base_uri": "https://localhost:8080/",
          "height": 236
        },
        "outputId": "f04d1dd5-bbad-467a-bda7-a9dc25510cf3"
      },
      "outputs": [
        {
          "output_type": "execute_result",
          "data": {
            "text/plain": [
              "   RegionID  SizeRank          RegionName RegionType StateName State  \\\n",
              "0      3101         0  Los Angeles County     county        CA    CA   \n",
              "1       139         1         Cook County     county        IL    IL   \n",
              "2      1090         2       Harris County     county        TX    TX   \n",
              "3      2402         3     Maricopa County     county        AZ    AZ   \n",
              "4      2841         4    San Diego County     county        CA    CA   \n",
              "\n",
              "                                  Metro  StateCodeFIPS  MunicipalCodeFIPS  \\\n",
              "0    Los Angeles-Long Beach-Anaheim, CA              6                 37   \n",
              "1    Chicago-Naperville-Elgin, IL-IN-WI             17                 31   \n",
              "2  Houston-The Woodlands-Sugar Land, TX             48                201   \n",
              "3             Phoenix-Mesa-Chandler, AZ              4                 13   \n",
              "4    San Diego-Chula Vista-Carlsbad, CA              6                 73   \n",
              "\n",
              "   2000-01-31  ...  2022-03-31  2022-04-30  2022-05-31  2022-06-30  \\\n",
              "0    217219.0  ...    849467.0    867274.0    882623.0    884311.0   \n",
              "1    173902.0  ...    301166.0    303308.0    306745.0    309530.0   \n",
              "2    115286.0  ...    269990.0    275086.0    280076.0    283929.0   \n",
              "3    142739.0  ...    457069.0    468583.0    477443.0    483784.0   \n",
              "4    225274.0  ...    887685.0    906908.0    920069.0    919535.0   \n",
              "\n",
              "   2022-07-31  2022-08-31  2022-09-30  2022-10-31  2022-11-30  2022-12-31  \n",
              "0    883805.0    870575.0    859871.0    848269.0    846262.0    845596.0  \n",
              "1    311511.0    311997.0    312558.0    313027.0    313775.0    312317.0  \n",
              "2    286477.0    288032.0    288399.0    289143.0    289720.0    289591.0  \n",
              "3    481374.0    474787.0    464870.0    459841.0    454753.0    451699.0  \n",
              "4    908231.0    897158.0    890169.0    885101.0    880975.0    874095.0  \n",
              "\n",
              "[5 rows x 285 columns]"
            ],
            "text/html": [
              "\n",
              "  <div id=\"df-c240a63d-e45f-4706-8a64-887259559bab\">\n",
              "    <div class=\"colab-df-container\">\n",
              "      <div>\n",
              "<style scoped>\n",
              "    .dataframe tbody tr th:only-of-type {\n",
              "        vertical-align: middle;\n",
              "    }\n",
              "\n",
              "    .dataframe tbody tr th {\n",
              "        vertical-align: top;\n",
              "    }\n",
              "\n",
              "    .dataframe thead th {\n",
              "        text-align: right;\n",
              "    }\n",
              "</style>\n",
              "<table border=\"1\" class=\"dataframe\">\n",
              "  <thead>\n",
              "    <tr style=\"text-align: right;\">\n",
              "      <th></th>\n",
              "      <th>RegionID</th>\n",
              "      <th>SizeRank</th>\n",
              "      <th>RegionName</th>\n",
              "      <th>RegionType</th>\n",
              "      <th>StateName</th>\n",
              "      <th>State</th>\n",
              "      <th>Metro</th>\n",
              "      <th>StateCodeFIPS</th>\n",
              "      <th>MunicipalCodeFIPS</th>\n",
              "      <th>2000-01-31</th>\n",
              "      <th>...</th>\n",
              "      <th>2022-03-31</th>\n",
              "      <th>2022-04-30</th>\n",
              "      <th>2022-05-31</th>\n",
              "      <th>2022-06-30</th>\n",
              "      <th>2022-07-31</th>\n",
              "      <th>2022-08-31</th>\n",
              "      <th>2022-09-30</th>\n",
              "      <th>2022-10-31</th>\n",
              "      <th>2022-11-30</th>\n",
              "      <th>2022-12-31</th>\n",
              "    </tr>\n",
              "  </thead>\n",
              "  <tbody>\n",
              "    <tr>\n",
              "      <th>0</th>\n",
              "      <td>3101</td>\n",
              "      <td>0</td>\n",
              "      <td>Los Angeles County</td>\n",
              "      <td>county</td>\n",
              "      <td>CA</td>\n",
              "      <td>CA</td>\n",
              "      <td>Los Angeles-Long Beach-Anaheim, CA</td>\n",
              "      <td>6</td>\n",
              "      <td>37</td>\n",
              "      <td>217219.0</td>\n",
              "      <td>...</td>\n",
              "      <td>849467.0</td>\n",
              "      <td>867274.0</td>\n",
              "      <td>882623.0</td>\n",
              "      <td>884311.0</td>\n",
              "      <td>883805.0</td>\n",
              "      <td>870575.0</td>\n",
              "      <td>859871.0</td>\n",
              "      <td>848269.0</td>\n",
              "      <td>846262.0</td>\n",
              "      <td>845596.0</td>\n",
              "    </tr>\n",
              "    <tr>\n",
              "      <th>1</th>\n",
              "      <td>139</td>\n",
              "      <td>1</td>\n",
              "      <td>Cook County</td>\n",
              "      <td>county</td>\n",
              "      <td>IL</td>\n",
              "      <td>IL</td>\n",
              "      <td>Chicago-Naperville-Elgin, IL-IN-WI</td>\n",
              "      <td>17</td>\n",
              "      <td>31</td>\n",
              "      <td>173902.0</td>\n",
              "      <td>...</td>\n",
              "      <td>301166.0</td>\n",
              "      <td>303308.0</td>\n",
              "      <td>306745.0</td>\n",
              "      <td>309530.0</td>\n",
              "      <td>311511.0</td>\n",
              "      <td>311997.0</td>\n",
              "      <td>312558.0</td>\n",
              "      <td>313027.0</td>\n",
              "      <td>313775.0</td>\n",
              "      <td>312317.0</td>\n",
              "    </tr>\n",
              "    <tr>\n",
              "      <th>2</th>\n",
              "      <td>1090</td>\n",
              "      <td>2</td>\n",
              "      <td>Harris County</td>\n",
              "      <td>county</td>\n",
              "      <td>TX</td>\n",
              "      <td>TX</td>\n",
              "      <td>Houston-The Woodlands-Sugar Land, TX</td>\n",
              "      <td>48</td>\n",
              "      <td>201</td>\n",
              "      <td>115286.0</td>\n",
              "      <td>...</td>\n",
              "      <td>269990.0</td>\n",
              "      <td>275086.0</td>\n",
              "      <td>280076.0</td>\n",
              "      <td>283929.0</td>\n",
              "      <td>286477.0</td>\n",
              "      <td>288032.0</td>\n",
              "      <td>288399.0</td>\n",
              "      <td>289143.0</td>\n",
              "      <td>289720.0</td>\n",
              "      <td>289591.0</td>\n",
              "    </tr>\n",
              "    <tr>\n",
              "      <th>3</th>\n",
              "      <td>2402</td>\n",
              "      <td>3</td>\n",
              "      <td>Maricopa County</td>\n",
              "      <td>county</td>\n",
              "      <td>AZ</td>\n",
              "      <td>AZ</td>\n",
              "      <td>Phoenix-Mesa-Chandler, AZ</td>\n",
              "      <td>4</td>\n",
              "      <td>13</td>\n",
              "      <td>142739.0</td>\n",
              "      <td>...</td>\n",
              "      <td>457069.0</td>\n",
              "      <td>468583.0</td>\n",
              "      <td>477443.0</td>\n",
              "      <td>483784.0</td>\n",
              "      <td>481374.0</td>\n",
              "      <td>474787.0</td>\n",
              "      <td>464870.0</td>\n",
              "      <td>459841.0</td>\n",
              "      <td>454753.0</td>\n",
              "      <td>451699.0</td>\n",
              "    </tr>\n",
              "    <tr>\n",
              "      <th>4</th>\n",
              "      <td>2841</td>\n",
              "      <td>4</td>\n",
              "      <td>San Diego County</td>\n",
              "      <td>county</td>\n",
              "      <td>CA</td>\n",
              "      <td>CA</td>\n",
              "      <td>San Diego-Chula Vista-Carlsbad, CA</td>\n",
              "      <td>6</td>\n",
              "      <td>73</td>\n",
              "      <td>225274.0</td>\n",
              "      <td>...</td>\n",
              "      <td>887685.0</td>\n",
              "      <td>906908.0</td>\n",
              "      <td>920069.0</td>\n",
              "      <td>919535.0</td>\n",
              "      <td>908231.0</td>\n",
              "      <td>897158.0</td>\n",
              "      <td>890169.0</td>\n",
              "      <td>885101.0</td>\n",
              "      <td>880975.0</td>\n",
              "      <td>874095.0</td>\n",
              "    </tr>\n",
              "  </tbody>\n",
              "</table>\n",
              "<p>5 rows × 285 columns</p>\n",
              "</div>\n",
              "      <button class=\"colab-df-convert\" onclick=\"convertToInteractive('df-c240a63d-e45f-4706-8a64-887259559bab')\"\n",
              "              title=\"Convert this dataframe to an interactive table.\"\n",
              "              style=\"display:none;\">\n",
              "        \n",
              "  <svg xmlns=\"http://www.w3.org/2000/svg\" height=\"24px\"viewBox=\"0 0 24 24\"\n",
              "       width=\"24px\">\n",
              "    <path d=\"M0 0h24v24H0V0z\" fill=\"none\"/>\n",
              "    <path d=\"M18.56 5.44l.94 2.06.94-2.06 2.06-.94-2.06-.94-.94-2.06-.94 2.06-2.06.94zm-11 1L8.5 8.5l.94-2.06 2.06-.94-2.06-.94L8.5 2.5l-.94 2.06-2.06.94zm10 10l.94 2.06.94-2.06 2.06-.94-2.06-.94-.94-2.06-.94 2.06-2.06.94z\"/><path d=\"M17.41 7.96l-1.37-1.37c-.4-.4-.92-.59-1.43-.59-.52 0-1.04.2-1.43.59L10.3 9.45l-7.72 7.72c-.78.78-.78 2.05 0 2.83L4 21.41c.39.39.9.59 1.41.59.51 0 1.02-.2 1.41-.59l7.78-7.78 2.81-2.81c.8-.78.8-2.07 0-2.86zM5.41 20L4 18.59l7.72-7.72 1.47 1.35L5.41 20z\"/>\n",
              "  </svg>\n",
              "      </button>\n",
              "      \n",
              "  <style>\n",
              "    .colab-df-container {\n",
              "      display:flex;\n",
              "      flex-wrap:wrap;\n",
              "      gap: 12px;\n",
              "    }\n",
              "\n",
              "    .colab-df-convert {\n",
              "      background-color: #E8F0FE;\n",
              "      border: none;\n",
              "      border-radius: 50%;\n",
              "      cursor: pointer;\n",
              "      display: none;\n",
              "      fill: #1967D2;\n",
              "      height: 32px;\n",
              "      padding: 0 0 0 0;\n",
              "      width: 32px;\n",
              "    }\n",
              "\n",
              "    .colab-df-convert:hover {\n",
              "      background-color: #E2EBFA;\n",
              "      box-shadow: 0px 1px 2px rgba(60, 64, 67, 0.3), 0px 1px 3px 1px rgba(60, 64, 67, 0.15);\n",
              "      fill: #174EA6;\n",
              "    }\n",
              "\n",
              "    [theme=dark] .colab-df-convert {\n",
              "      background-color: #3B4455;\n",
              "      fill: #D2E3FC;\n",
              "    }\n",
              "\n",
              "    [theme=dark] .colab-df-convert:hover {\n",
              "      background-color: #434B5C;\n",
              "      box-shadow: 0px 1px 3px 1px rgba(0, 0, 0, 0.15);\n",
              "      filter: drop-shadow(0px 1px 2px rgba(0, 0, 0, 0.3));\n",
              "      fill: #FFFFFF;\n",
              "    }\n",
              "  </style>\n",
              "\n",
              "      <script>\n",
              "        const buttonEl =\n",
              "          document.querySelector('#df-c240a63d-e45f-4706-8a64-887259559bab button.colab-df-convert');\n",
              "        buttonEl.style.display =\n",
              "          google.colab.kernel.accessAllowed ? 'block' : 'none';\n",
              "\n",
              "        async function convertToInteractive(key) {\n",
              "          const element = document.querySelector('#df-c240a63d-e45f-4706-8a64-887259559bab');\n",
              "          const dataTable =\n",
              "            await google.colab.kernel.invokeFunction('convertToInteractive',\n",
              "                                                     [key], {});\n",
              "          if (!dataTable) return;\n",
              "\n",
              "          const docLinkHtml = 'Like what you see? Visit the ' +\n",
              "            '<a target=\"_blank\" href=https://colab.research.google.com/notebooks/data_table.ipynb>data table notebook</a>'\n",
              "            + ' to learn more about interactive tables.';\n",
              "          element.innerHTML = '';\n",
              "          dataTable['output_type'] = 'display_data';\n",
              "          await google.colab.output.renderOutput(dataTable, element);\n",
              "          const docLink = document.createElement('div');\n",
              "          docLink.innerHTML = docLinkHtml;\n",
              "          element.appendChild(docLink);\n",
              "        }\n",
              "      </script>\n",
              "    </div>\n",
              "  </div>\n",
              "  "
            ]
          },
          "metadata": {},
          "execution_count": 184
        }
      ],
      "source": [
        "# Download and read CSV\n",
        "zhvi = pd.read_csv(zhvi_url)\n",
        "zhvi.head()\n"
      ]
    },
    {
      "cell_type": "code",
      "source": [
        "# Set most recent date to \"recent_ZHVI\" column\n",
        "zhvi[\"recent_ZHVI\"] = zhvi.iloc[:,-1]"
      ],
      "metadata": {
        "id": "OWXnrsQ-F470"
      },
      "id": "OWXnrsQ-F470",
      "execution_count": 185,
      "outputs": []
    },
    {
      "cell_type": "markdown",
      "id": "9671ad9b",
      "metadata": {
        "id": "9671ad9b"
      },
      "source": [
        "Reformat FIPS and Fill NaN with blank strings"
      ]
    },
    {
      "cell_type": "code",
      "execution_count": 186,
      "id": "41805afc",
      "metadata": {
        "id": "41805afc"
      },
      "outputs": [],
      "source": [
        "# Convert State and Municipal FIPS into single FIPS code. Format as 5 digits\n",
        "zhvi[\"FIPS\"] = zhvi[\"StateCodeFIPS\"]*1000 + zhvi[\"MunicipalCodeFIPS\"]\n",
        "zhvi[\"FIPS\"] = zhvi[\"FIPS\"].apply(lambda x: '{0:0>5}'.format(x))\n",
        "\n",
        "zhvi[['Metro']] = zhvi[['Metro']].fillna('')"
      ]
    },
    {
      "cell_type": "markdown",
      "source": [
        "Define Function to Plot County Housing Price over Time\n",
        "Parameters:\n",
        "  - Number of counties to plot\n",
        "  - Number of columns wide\n",
        "  - True or False: Top N Counties or Random Sample "
      ],
      "metadata": {
        "id": "_D6bIEl1BhgP"
      },
      "id": "_D6bIEl1BhgP"
    },
    {
      "cell_type": "code",
      "source": [
        "# Define the function to plot a selected number of counties\n",
        "# \n",
        "# Note: Horizontal Scale changes to fully fit the available date range. \n",
        "#       Not all counties have the full time frame of data. \n",
        "#       Vertical scale is based the max price between the chosen counties\n",
        "#       Scale can change between iterations of the plot function\n",
        "\n",
        "\n",
        "\n",
        "def plot_ZHVI_county(num_counties:int, plot_width:int, top=True):\n",
        "  if top == True:\n",
        "    # Get the top populated counties\n",
        "    sel_coun = zhvi[zhvi[\"SizeRank\"] <= num_counties] \n",
        "  else:\n",
        "    # Get a random sample of counties\n",
        "    sel_coun = zhvi.sample(n=10)\n",
        "\n",
        "\n",
        "# filter only the columns with valid date names\n",
        "  sel_coun = sel_coun.filter(regex='\\d{4}-\\d{2}-\\d{2}', axis=1)\n",
        "\n",
        "# set the maximum value of y-axis\n",
        "  ymax = np.nanmax(sel_coun.values)\n",
        "\n",
        "# Calculate the number of rows for the plot\n",
        "  plot_height = num_counties // plot_width + (num_counties % plot_width != 0)\n",
        "\n",
        "# Calculate Figure Height\n",
        "  fig_height = plot_height*5\n",
        "\n",
        "# Create a figure with multiple subplots\n",
        "  fig, axs = plt.subplots(nrows=plot_height, ncols=plot_width, figsize=(20, fig_height),\n",
        "                       tight_layout=True)\n",
        "\n",
        "# Plot the housing prices for each county on a separate subplot\n",
        "  for i, county in enumerate(sel_coun.index[:num_counties]):\n",
        "      row = i // plot_width\n",
        "      col = i % plot_width\n",
        "    # Extract the date values from the columns and use them as the x-axis\n",
        "      x = [pd.to_datetime(col) for col in sel_coun.columns]\n",
        "      #x = [pd.date_range(start='2000-01-01', end='2024-12-31')]\n",
        "      #axs[row, col].xaxis.set_major_formatter(mdates.DateFormatter('%Y-%m'))\n",
        "      y = sel_coun.loc[county]\n",
        "      \n",
        "      axs[row, col].plot(x, y)\n",
        "\n",
        "      # If there is an associated Metro Area, include it in the title \n",
        "      if zhvi.loc[county,'Metro'] != '':\n",
        "        axs[row, col].set_title(zhvi.loc[county,'RegionName']+'\\n'+zhvi.loc[county,'Metro'])\n",
        "      # Otherwise just add the state\n",
        "      else:\n",
        "        axs[row, col].set_title(zhvi.loc[county,'RegionName']+\", \"+zhvi.loc[county,'State'])\n",
        "      axs[row, col].set_ylim(0, ymax)\n",
        "    \n",
        "  plt.show()"
      ],
      "metadata": {
        "id": "T_eG3cxIE0QW"
      },
      "id": "T_eG3cxIE0QW",
      "execution_count": 386,
      "outputs": []
    },
    {
      "cell_type": "code",
      "source": [
        "\n",
        "plot_ZHVI_county(num_counties=8, plot_width=4, top=False)\n",
        "\n",
        "plt.savefig('Sample_County_Price_Time.png')"
      ],
      "metadata": {
        "colab": {
          "base_uri": "https://localhost:8080/",
          "height": 746
        },
        "id": "3XZ8U9xTXYiU",
        "outputId": "067c67c9-b9c9-4f3b-d94a-7864f257c7e9"
      },
      "id": "3XZ8U9xTXYiU",
      "execution_count": 395,
      "outputs": [
        {
          "output_type": "display_data",
          "data": {
            "text/plain": [
              "<Figure size 1440x720 with 8 Axes>"
            ],
            "image/png": "[encoded data removed]"
          },
          "metadata": {
            "needs_background": "light"
          }
        },
        {
          "output_type": "display_data",
          "data": {
            "text/plain": [
              "<Figure size 1440x1080 with 0 Axes>"
            ]
          },
          "metadata": {}
        }
      ]
    },
    {
      "cell_type": "code",
      "source": [],
      "metadata": {
        "id": "WIEyhIsdEwrr"
      },
      "id": "WIEyhIsdEwrr",
      "execution_count": 188,
      "outputs": []
    },
    {
      "cell_type": "markdown",
      "source": [
        "Set relevant columns to new price dataframe and drop entries with no price data"
      ],
      "metadata": {
        "id": "J0vVKGwJCrgA"
      },
      "id": "J0vVKGwJCrgA"
    },
    {
      "cell_type": "code",
      "source": [
        "# Only FIPS code, Name, Most Recent Price \n",
        "zhvi2 = zhvi[[\"FIPS\", \"RegionName\", \"recent_ZHVI\"]]\n",
        "\n",
        "# Drop null rows\n",
        "zhvi2 = zhvi2.dropna(subset=['recent_ZHVI'])\n",
        "#zhvi2.head()"
      ],
      "metadata": {
        "id": "4iMoD1hXBNKJ"
      },
      "id": "4iMoD1hXBNKJ",
      "execution_count": 189,
      "outputs": []
    },
    {
      "cell_type": "markdown",
      "id": "bd54d9e8",
      "metadata": {
        "id": "bd54d9e8"
      },
      "source": [
        "Download and read in USDA employment and income CSV to dataframe"
      ]
    },
    {
      "cell_type": "code",
      "execution_count": 190,
      "id": "ff89e998",
      "metadata": {
        "id": "ff89e998"
      },
      "outputs": [],
      "source": [
        "# The first 3 rows are source information, so header index is set to start at row 4.\n",
        "unemployment = pd.read_excel(unemp_url, \"Unemployment Med HH Income\", header = 4)\n"
      ]
    },
    {
      "cell_type": "code",
      "source": [
        "# Shape of the dataframe\n",
        "print(\"Dataframe Shape: \"+ str(unemployment.shape))\n",
        "# Preview\n",
        "unemployment.head()"
      ],
      "metadata": {
        "colab": {
          "base_uri": "https://localhost:8080/",
          "height": 386
        },
        "id": "dE_9AnOh-HFE",
        "outputId": "a188f0c3-84c3-47d8-980f-8adc776e3294"
      },
      "id": "dE_9AnOh-HFE",
      "execution_count": 191,
      "outputs": [
        {
          "output_type": "stream",
          "name": "stdout",
          "text": [
            "Dataframe Shape: (3277, 96)\n"
          ]
        },
        {
          "output_type": "execute_result",
          "data": {
            "text/plain": [
              "   FIPS_code State           Area_name  Rural_urban_continuum_code_2013  \\\n",
              "0          0    US       United States                              NaN   \n",
              "1       1000    AL             Alabama                              NaN   \n",
              "2       1001    AL  Autauga County, AL                              2.0   \n",
              "3       1003    AL  Baldwin County, AL                              3.0   \n",
              "4       1005    AL  Barbour County, AL                              6.0   \n",
              "\n",
              "   Urban_influence_code_2013  Metro_2013  Civilian_labor_force_2000  \\\n",
              "0                        NaN         NaN                142601576.0   \n",
              "1                        NaN         NaN                  2147173.0   \n",
              "2                        2.0         1.0                    21861.0   \n",
              "3                        2.0         1.0                    69979.0   \n",
              "4                        6.0         0.0                    11449.0   \n",
              "\n",
              "   Employed_2000  Unemployed_2000  Unemployment_rate_2000  ...  \\\n",
              "0    136904853.0        5696723.0                3.994853  ...   \n",
              "1      2047731.0          99442.0                4.600000  ...   \n",
              "2        20971.0            890.0                4.100000  ...   \n",
              "3        67370.0           2609.0                3.700000  ...   \n",
              "4        10812.0            637.0                5.600000  ...   \n",
              "\n",
              "   Civilian_labor_force_2020  Employed_2020  Unemployed_2020  \\\n",
              "0                161207103.0    148183367.0       13023736.0   \n",
              "1                  2268309.0      2121149.0         147160.0   \n",
              "2                    26405.0        24985.0           1420.0   \n",
              "3                    98910.0        92751.0           6159.0   \n",
              "4                     8680.0         8004.0            676.0   \n",
              "\n",
              "   Unemployment_rate_2020  Civilian_labor_force_2021  Employed_2021  \\\n",
              "0                8.078885                161758337.0    153099687.0   \n",
              "1                6.500000                  2246993.0      2169721.0   \n",
              "2                5.400000                    26341.0        25599.0   \n",
              "3                6.200000                    99427.0        96481.0   \n",
              "4                7.800000                     8197.0         7728.0   \n",
              "\n",
              "   Unemployed_2021  Unemployment_rate_2021  Median_Household_Income_2020  \\\n",
              "0        8658650.0                5.352831                       67340.0   \n",
              "1          77272.0                3.400000                       53958.0   \n",
              "2            742.0                2.800000                       67565.0   \n",
              "3           2946.0                3.000000                       71135.0   \n",
              "4            469.0                5.700000                       38866.0   \n",
              "\n",
              "   Med_HH_Income_Percent_of_State_Total_2020  \n",
              "0                                        NaN  \n",
              "1                                 100.000000  \n",
              "2                                 125.217762  \n",
              "3                                 131.834019  \n",
              "4                                  72.030097  \n",
              "\n",
              "[5 rows x 96 columns]"
            ],
            "text/html": [
              "\n",
              "  <div id=\"df-517efa26-e0d2-4a9d-9897-c781b3c12c4a\">\n",
              "    <div class=\"colab-df-container\">\n",
              "      <div>\n",
              "<style scoped>\n",
              "    .dataframe tbody tr th:only-of-type {\n",
              "        vertical-align: middle;\n",
              "    }\n",
              "\n",
              "    .dataframe tbody tr th {\n",
              "        vertical-align: top;\n",
              "    }\n",
              "\n",
              "    .dataframe thead th {\n",
              "        text-align: right;\n",
              "    }\n",
              "</style>\n",
              "<table border=\"1\" class=\"dataframe\">\n",
              "  <thead>\n",
              "    <tr style=\"text-align: right;\">\n",
              "      <th></th>\n",
              "      <th>FIPS_code</th>\n",
              "      <th>State</th>\n",
              "      <th>Area_name</th>\n",
              "      <th>Rural_urban_continuum_code_2013</th>\n",
              "      <th>Urban_influence_code_2013</th>\n",
              "      <th>Metro_2013</th>\n",
              "      <th>Civilian_labor_force_2000</th>\n",
              "      <th>Employed_2000</th>\n",
              "      <th>Unemployed_2000</th>\n",
              "      <th>Unemployment_rate_2000</th>\n",
              "      <th>...</th>\n",
              "      <th>Civilian_labor_force_2020</th>\n",
              "      <th>Employed_2020</th>\n",
              "      <th>Unemployed_2020</th>\n",
              "      <th>Unemployment_rate_2020</th>\n",
              "      <th>Civilian_labor_force_2021</th>\n",
              "      <th>Employed_2021</th>\n",
              "      <th>Unemployed_2021</th>\n",
              "      <th>Unemployment_rate_2021</th>\n",
              "      <th>Median_Household_Income_2020</th>\n",
              "      <th>Med_HH_Income_Percent_of_State_Total_2020</th>\n",
              "    </tr>\n",
              "  </thead>\n",
              "  <tbody>\n",
              "    <tr>\n",
              "      <th>0</th>\n",
              "      <td>0</td>\n",
              "      <td>US</td>\n",
              "      <td>United States</td>\n",
              "      <td>NaN</td>\n",
              "      <td>NaN</td>\n",
              "      <td>NaN</td>\n",
              "      <td>142601576.0</td>\n",
              "      <td>136904853.0</td>\n",
              "      <td>5696723.0</td>\n",
              "      <td>3.994853</td>\n",
              "      <td>...</td>\n",
              "      <td>161207103.0</td>\n",
              "      <td>148183367.0</td>\n",
              "      <td>13023736.0</td>\n",
              "      <td>8.078885</td>\n",
              "      <td>161758337.0</td>\n",
              "      <td>153099687.0</td>\n",
              "      <td>8658650.0</td>\n",
              "      <td>5.352831</td>\n",
              "      <td>67340.0</td>\n",
              "      <td>NaN</td>\n",
              "    </tr>\n",
              "    <tr>\n",
              "      <th>1</th>\n",
              "      <td>1000</td>\n",
              "      <td>AL</td>\n",
              "      <td>Alabama</td>\n",
              "      <td>NaN</td>\n",
              "      <td>NaN</td>\n",
              "      <td>NaN</td>\n",
              "      <td>2147173.0</td>\n",
              "      <td>2047731.0</td>\n",
              "      <td>99442.0</td>\n",
              "      <td>4.600000</td>\n",
              "      <td>...</td>\n",
              "      <td>2268309.0</td>\n",
              "      <td>2121149.0</td>\n",
              "      <td>147160.0</td>\n",
              "      <td>6.500000</td>\n",
              "      <td>2246993.0</td>\n",
              "      <td>2169721.0</td>\n",
              "      <td>77272.0</td>\n",
              "      <td>3.400000</td>\n",
              "      <td>53958.0</td>\n",
              "      <td>100.000000</td>\n",
              "    </tr>\n",
              "    <tr>\n",
              "      <th>2</th>\n",
              "      <td>1001</td>\n",
              "      <td>AL</td>\n",
              "      <td>Autauga County, AL</td>\n",
              "      <td>2.0</td>\n",
              "      <td>2.0</td>\n",
              "      <td>1.0</td>\n",
              "      <td>21861.0</td>\n",
              "      <td>20971.0</td>\n",
              "      <td>890.0</td>\n",
              "      <td>4.100000</td>\n",
              "      <td>...</td>\n",
              "      <td>26405.0</td>\n",
              "      <td>24985.0</td>\n",
              "      <td>1420.0</td>\n",
              "      <td>5.400000</td>\n",
              "      <td>26341.0</td>\n",
              "      <td>25599.0</td>\n",
              "      <td>742.0</td>\n",
              "      <td>2.800000</td>\n",
              "      <td>67565.0</td>\n",
              "      <td>125.217762</td>\n",
              "    </tr>\n",
              "    <tr>\n",
              "      <th>3</th>\n",
              "      <td>1003</td>\n",
              "      <td>AL</td>\n",
              "      <td>Baldwin County, AL</td>\n",
              "      <td>3.0</td>\n",
              "      <td>2.0</td>\n",
              "      <td>1.0</td>\n",
              "      <td>69979.0</td>\n",
              "      <td>67370.0</td>\n",
              "      <td>2609.0</td>\n",
              "      <td>3.700000</td>\n",
              "      <td>...</td>\n",
              "      <td>98910.0</td>\n",
              "      <td>92751.0</td>\n",
              "      <td>6159.0</td>\n",
              "      <td>6.200000</td>\n",
              "      <td>99427.0</td>\n",
              "      <td>96481.0</td>\n",
              "      <td>2946.0</td>\n",
              "      <td>3.000000</td>\n",
              "      <td>71135.0</td>\n",
              "      <td>131.834019</td>\n",
              "    </tr>\n",
              "    <tr>\n",
              "      <th>4</th>\n",
              "      <td>1005</td>\n",
              "      <td>AL</td>\n",
              "      <td>Barbour County, AL</td>\n",
              "      <td>6.0</td>\n",
              "      <td>6.0</td>\n",
              "      <td>0.0</td>\n",
              "      <td>11449.0</td>\n",
              "      <td>10812.0</td>\n",
              "      <td>637.0</td>\n",
              "      <td>5.600000</td>\n",
              "      <td>...</td>\n",
              "      <td>8680.0</td>\n",
              "      <td>8004.0</td>\n",
              "      <td>676.0</td>\n",
              "      <td>7.800000</td>\n",
              "      <td>8197.0</td>\n",
              "      <td>7728.0</td>\n",
              "      <td>469.0</td>\n",
              "      <td>5.700000</td>\n",
              "      <td>38866.0</td>\n",
              "      <td>72.030097</td>\n",
              "    </tr>\n",
              "  </tbody>\n",
              "</table>\n",
              "<p>5 rows × 96 columns</p>\n",
              "</div>\n",
              "      <button class=\"colab-df-convert\" onclick=\"convertToInteractive('df-517efa26-e0d2-4a9d-9897-c781b3c12c4a')\"\n",
              "              title=\"Convert this dataframe to an interactive table.\"\n",
              "              style=\"display:none;\">\n",
              "        \n",
              "  <svg xmlns=\"http://www.w3.org/2000/svg\" height=\"24px\"viewBox=\"0 0 24 24\"\n",
              "       width=\"24px\">\n",
              "    <path d=\"M0 0h24v24H0V0z\" fill=\"none\"/>\n",
              "    <path d=\"M18.56 5.44l.94 2.06.94-2.06 2.06-.94-2.06-.94-.94-2.06-.94 2.06-2.06.94zm-11 1L8.5 8.5l.94-2.06 2.06-.94-2.06-.94L8.5 2.5l-.94 2.06-2.06.94zm10 10l.94 2.06.94-2.06 2.06-.94-2.06-.94-.94-2.06-.94 2.06-2.06.94z\"/><path d=\"M17.41 7.96l-1.37-1.37c-.4-.4-.92-.59-1.43-.59-.52 0-1.04.2-1.43.59L10.3 9.45l-7.72 7.72c-.78.78-.78 2.05 0 2.83L4 21.41c.39.39.9.59 1.41.59.51 0 1.02-.2 1.41-.59l7.78-7.78 2.81-2.81c.8-.78.8-2.07 0-2.86zM5.41 20L4 18.59l7.72-7.72 1.47 1.35L5.41 20z\"/>\n",
              "  </svg>\n",
              "      </button>\n",
              "      \n",
              "  <style>\n",
              "    .colab-df-container {\n",
              "      display:flex;\n",
              "      flex-wrap:wrap;\n",
              "      gap: 12px;\n",
              "    }\n",
              "\n",
              "    .colab-df-convert {\n",
              "      background-color: #E8F0FE;\n",
              "      border: none;\n",
              "      border-radius: 50%;\n",
              "      cursor: pointer;\n",
              "      display: none;\n",
              "      fill: #1967D2;\n",
              "      height: 32px;\n",
              "      padding: 0 0 0 0;\n",
              "      width: 32px;\n",
              "    }\n",
              "\n",
              "    .colab-df-convert:hover {\n",
              "      background-color: #E2EBFA;\n",
              "      box-shadow: 0px 1px 2px rgba(60, 64, 67, 0.3), 0px 1px 3px 1px rgba(60, 64, 67, 0.15);\n",
              "      fill: #174EA6;\n",
              "    }\n",
              "\n",
              "    [theme=dark] .colab-df-convert {\n",
              "      background-color: #3B4455;\n",
              "      fill: #D2E3FC;\n",
              "    }\n",
              "\n",
              "    [theme=dark] .colab-df-convert:hover {\n",
              "      background-color: #434B5C;\n",
              "      box-shadow: 0px 1px 3px 1px rgba(0, 0, 0, 0.15);\n",
              "      filter: drop-shadow(0px 1px 2px rgba(0, 0, 0, 0.3));\n",
              "      fill: #FFFFFF;\n",
              "    }\n",
              "  </style>\n",
              "\n",
              "      <script>\n",
              "        const buttonEl =\n",
              "          document.querySelector('#df-517efa26-e0d2-4a9d-9897-c781b3c12c4a button.colab-df-convert');\n",
              "        buttonEl.style.display =\n",
              "          google.colab.kernel.accessAllowed ? 'block' : 'none';\n",
              "\n",
              "        async function convertToInteractive(key) {\n",
              "          const element = document.querySelector('#df-517efa26-e0d2-4a9d-9897-c781b3c12c4a');\n",
              "          const dataTable =\n",
              "            await google.colab.kernel.invokeFunction('convertToInteractive',\n",
              "                                                     [key], {});\n",
              "          if (!dataTable) return;\n",
              "\n",
              "          const docLinkHtml = 'Like what you see? Visit the ' +\n",
              "            '<a target=\"_blank\" href=https://colab.research.google.com/notebooks/data_table.ipynb>data table notebook</a>'\n",
              "            + ' to learn more about interactive tables.';\n",
              "          element.innerHTML = '';\n",
              "          dataTable['output_type'] = 'display_data';\n",
              "          await google.colab.output.renderOutput(dataTable, element);\n",
              "          const docLink = document.createElement('div');\n",
              "          docLink.innerHTML = docLinkHtml;\n",
              "          element.appendChild(docLink);\n",
              "        }\n",
              "      </script>\n",
              "    </div>\n",
              "  </div>\n",
              "  "
            ]
          },
          "metadata": {},
          "execution_count": 191
        }
      ]
    },
    {
      "cell_type": "markdown",
      "id": "27744efd",
      "metadata": {
        "id": "27744efd"
      },
      "source": [
        "Save nationwide stats for later, then remove the statewide and nationwide rows "
      ]
    },
    {
      "cell_type": "code",
      "execution_count": 192,
      "id": "f9620da0",
      "metadata": {
        "id": "f9620da0"
      },
      "outputs": [],
      "source": [
        "# Nationwide Stats\n",
        "US_LF = unemployment.iloc[0][\"Civilian_labor_force_2021\"]\n",
        "US_MHI = unemployment.iloc[0][\"Median_Household_Income_2020\"]\n",
        "\n",
        "# Check the \"Rural_urban_continuum_code_2013\" column for rows with null values.\n",
        "unemployment = unemployment.loc[pd.notna(unemployment['Rural_urban_continuum_code_2013'])]"
      ]
    },
    {
      "cell_type": "markdown",
      "id": "6ac66ecf",
      "metadata": {
        "id": "6ac66ecf"
      },
      "source": [
        "Standardize FIPS code"
      ]
    },
    {
      "cell_type": "code",
      "execution_count": 193,
      "id": "e97886c4",
      "metadata": {
        "id": "e97886c4"
      },
      "outputs": [],
      "source": [
        "# Format FIPS code to 5 digits using lambda function on a copy\n",
        "unemployment = unemployment.copy()\n",
        "unemployment.loc[:, \"FIPS_code\"]=unemployment.loc[:, \"FIPS_code\"].apply(lambda x: '{0:0>5}'.format(x))"
      ]
    },
    {
      "cell_type": "markdown",
      "id": "929df842",
      "metadata": {
        "id": "929df842"
      },
      "source": [
        "Set as new income dataframe with only the relevant columns."
      ]
    },
    {
      "cell_type": "code",
      "execution_count": 194,
      "id": "2a6790d5",
      "metadata": {
        "colab": {
          "base_uri": "https://localhost:8080/",
          "height": 206
        },
        "id": "2a6790d5",
        "outputId": "fe52c742-aa4c-40f3-a35c-5242160af46d"
      },
      "outputs": [
        {
          "output_type": "execute_result",
          "data": {
            "text/plain": [
              "  FIPS_code           Area_name  Civilian_labor_force_2021  \\\n",
              "2     01001  Autauga County, AL                    26341.0   \n",
              "3     01003  Baldwin County, AL                    99427.0   \n",
              "4     01005  Barbour County, AL                     8197.0   \n",
              "5     01007     Bibb County, AL                     8560.0   \n",
              "6     01009   Blount County, AL                    25127.0   \n",
              "\n",
              "   Median_Household_Income_2020  Rural_urban_continuum_code_2013  \n",
              "2                       67565.0                              2.0  \n",
              "3                       71135.0                              3.0  \n",
              "4                       38866.0                              6.0  \n",
              "5                       50907.0                              1.0  \n",
              "6                       55203.0                              1.0  "
            ],
            "text/html": [
              "\n",
              "  <div id=\"df-1994eeef-144e-4d71-8e66-290315279fdb\">\n",
              "    <div class=\"colab-df-container\">\n",
              "      <div>\n",
              "<style scoped>\n",
              "    .dataframe tbody tr th:only-of-type {\n",
              "        vertical-align: middle;\n",
              "    }\n",
              "\n",
              "    .dataframe tbody tr th {\n",
              "        vertical-align: top;\n",
              "    }\n",
              "\n",
              "    .dataframe thead th {\n",
              "        text-align: right;\n",
              "    }\n",
              "</style>\n",
              "<table border=\"1\" class=\"dataframe\">\n",
              "  <thead>\n",
              "    <tr style=\"text-align: right;\">\n",
              "      <th></th>\n",
              "      <th>FIPS_code</th>\n",
              "      <th>Area_name</th>\n",
              "      <th>Civilian_labor_force_2021</th>\n",
              "      <th>Median_Household_Income_2020</th>\n",
              "      <th>Rural_urban_continuum_code_2013</th>\n",
              "    </tr>\n",
              "  </thead>\n",
              "  <tbody>\n",
              "    <tr>\n",
              "      <th>2</th>\n",
              "      <td>01001</td>\n",
              "      <td>Autauga County, AL</td>\n",
              "      <td>26341.0</td>\n",
              "      <td>67565.0</td>\n",
              "      <td>2.0</td>\n",
              "    </tr>\n",
              "    <tr>\n",
              "      <th>3</th>\n",
              "      <td>01003</td>\n",
              "      <td>Baldwin County, AL</td>\n",
              "      <td>99427.0</td>\n",
              "      <td>71135.0</td>\n",
              "      <td>3.0</td>\n",
              "    </tr>\n",
              "    <tr>\n",
              "      <th>4</th>\n",
              "      <td>01005</td>\n",
              "      <td>Barbour County, AL</td>\n",
              "      <td>8197.0</td>\n",
              "      <td>38866.0</td>\n",
              "      <td>6.0</td>\n",
              "    </tr>\n",
              "    <tr>\n",
              "      <th>5</th>\n",
              "      <td>01007</td>\n",
              "      <td>Bibb County, AL</td>\n",
              "      <td>8560.0</td>\n",
              "      <td>50907.0</td>\n",
              "      <td>1.0</td>\n",
              "    </tr>\n",
              "    <tr>\n",
              "      <th>6</th>\n",
              "      <td>01009</td>\n",
              "      <td>Blount County, AL</td>\n",
              "      <td>25127.0</td>\n",
              "      <td>55203.0</td>\n",
              "      <td>1.0</td>\n",
              "    </tr>\n",
              "  </tbody>\n",
              "</table>\n",
              "</div>\n",
              "      <button class=\"colab-df-convert\" onclick=\"convertToInteractive('df-1994eeef-144e-4d71-8e66-290315279fdb')\"\n",
              "              title=\"Convert this dataframe to an interactive table.\"\n",
              "              style=\"display:none;\">\n",
              "        \n",
              "  <svg xmlns=\"http://www.w3.org/2000/svg\" height=\"24px\"viewBox=\"0 0 24 24\"\n",
              "       width=\"24px\">\n",
              "    <path d=\"M0 0h24v24H0V0z\" fill=\"none\"/>\n",
              "    <path d=\"M18.56 5.44l.94 2.06.94-2.06 2.06-.94-2.06-.94-.94-2.06-.94 2.06-2.06.94zm-11 1L8.5 8.5l.94-2.06 2.06-.94-2.06-.94L8.5 2.5l-.94 2.06-2.06.94zm10 10l.94 2.06.94-2.06 2.06-.94-2.06-.94-.94-2.06-.94 2.06-2.06.94z\"/><path d=\"M17.41 7.96l-1.37-1.37c-.4-.4-.92-.59-1.43-.59-.52 0-1.04.2-1.43.59L10.3 9.45l-7.72 7.72c-.78.78-.78 2.05 0 2.83L4 21.41c.39.39.9.59 1.41.59.51 0 1.02-.2 1.41-.59l7.78-7.78 2.81-2.81c.8-.78.8-2.07 0-2.86zM5.41 20L4 18.59l7.72-7.72 1.47 1.35L5.41 20z\"/>\n",
              "  </svg>\n",
              "      </button>\n",
              "      \n",
              "  <style>\n",
              "    .colab-df-container {\n",
              "      display:flex;\n",
              "      flex-wrap:wrap;\n",
              "      gap: 12px;\n",
              "    }\n",
              "\n",
              "    .colab-df-convert {\n",
              "      background-color: #E8F0FE;\n",
              "      border: none;\n",
              "      border-radius: 50%;\n",
              "      cursor: pointer;\n",
              "      display: none;\n",
              "      fill: #1967D2;\n",
              "      height: 32px;\n",
              "      padding: 0 0 0 0;\n",
              "      width: 32px;\n",
              "    }\n",
              "\n",
              "    .colab-df-convert:hover {\n",
              "      background-color: #E2EBFA;\n",
              "      box-shadow: 0px 1px 2px rgba(60, 64, 67, 0.3), 0px 1px 3px 1px rgba(60, 64, 67, 0.15);\n",
              "      fill: #174EA6;\n",
              "    }\n",
              "\n",
              "    [theme=dark] .colab-df-convert {\n",
              "      background-color: #3B4455;\n",
              "      fill: #D2E3FC;\n",
              "    }\n",
              "\n",
              "    [theme=dark] .colab-df-convert:hover {\n",
              "      background-color: #434B5C;\n",
              "      box-shadow: 0px 1px 3px 1px rgba(0, 0, 0, 0.15);\n",
              "      filter: drop-shadow(0px 1px 2px rgba(0, 0, 0, 0.3));\n",
              "      fill: #FFFFFF;\n",
              "    }\n",
              "  </style>\n",
              "\n",
              "      <script>\n",
              "        const buttonEl =\n",
              "          document.querySelector('#df-1994eeef-144e-4d71-8e66-290315279fdb button.colab-df-convert');\n",
              "        buttonEl.style.display =\n",
              "          google.colab.kernel.accessAllowed ? 'block' : 'none';\n",
              "\n",
              "        async function convertToInteractive(key) {\n",
              "          const element = document.querySelector('#df-1994eeef-144e-4d71-8e66-290315279fdb');\n",
              "          const dataTable =\n",
              "            await google.colab.kernel.invokeFunction('convertToInteractive',\n",
              "                                                     [key], {});\n",
              "          if (!dataTable) return;\n",
              "\n",
              "          const docLinkHtml = 'Like what you see? Visit the ' +\n",
              "            '<a target=\"_blank\" href=https://colab.research.google.com/notebooks/data_table.ipynb>data table notebook</a>'\n",
              "            + ' to learn more about interactive tables.';\n",
              "          element.innerHTML = '';\n",
              "          dataTable['output_type'] = 'display_data';\n",
              "          await google.colab.output.renderOutput(dataTable, element);\n",
              "          const docLink = document.createElement('div');\n",
              "          docLink.innerHTML = docLinkHtml;\n",
              "          element.appendChild(docLink);\n",
              "        }\n",
              "      </script>\n",
              "    </div>\n",
              "  </div>\n",
              "  "
            ]
          },
          "metadata": {},
          "execution_count": 194
        }
      ],
      "source": [
        "unemployment = unemployment[[\"FIPS_code\", \"Area_name\", \"Civilian_labor_force_2021\", \"Median_Household_Income_2020\", \"Rural_urban_continuum_code_2013\"]]\n",
        "unemployment.head()\n"
      ]
    },
    {
      "cell_type": "markdown",
      "id": "8c825012",
      "metadata": {
        "id": "8c825012"
      },
      "source": [
        "Join unemployment and house price dataframes"
      ]
    },
    {
      "cell_type": "code",
      "execution_count": 195,
      "id": "7085acee",
      "metadata": {
        "id": "7085acee",
        "scrolled": true,
        "colab": {
          "base_uri": "https://localhost:8080/",
          "height": 206
        },
        "outputId": "1803d693-8ad8-4d44-fef7-b91520deb2ac"
      },
      "outputs": [
        {
          "output_type": "execute_result",
          "data": {
            "text/plain": [
              "  FIPS_code           Area_name  Civilian_labor_force_2021  \\\n",
              "0     01001  Autauga County, AL                    26341.0   \n",
              "1     01003  Baldwin County, AL                    99427.0   \n",
              "2     01005  Barbour County, AL                     8197.0   \n",
              "3     01007     Bibb County, AL                     8560.0   \n",
              "4     01009   Blount County, AL                    25127.0   \n",
              "\n",
              "   Median_Household_Income_2020  Rural_urban_continuum_code_2013   FIPS  \\\n",
              "0                       67565.0                              2.0  01001   \n",
              "1                       71135.0                              3.0  01003   \n",
              "2                       38866.0                              6.0  01005   \n",
              "3                       50907.0                              1.0  01007   \n",
              "4                       55203.0                              1.0  01009   \n",
              "\n",
              "       RegionName  recent_ZHVI  \n",
              "0  Autauga County     247745.0  \n",
              "1  Baldwin County     378538.0  \n",
              "2  Barbour County     137713.0  \n",
              "3     Bibb County     183821.0  \n",
              "4   Blount County     265515.0  "
            ],
            "text/html": [
              "\n",
              "  <div id=\"df-0bc12714-94fc-4b84-93cf-41c5be27d23f\">\n",
              "    <div class=\"colab-df-container\">\n",
              "      <div>\n",
              "<style scoped>\n",
              "    .dataframe tbody tr th:only-of-type {\n",
              "        vertical-align: middle;\n",
              "    }\n",
              "\n",
              "    .dataframe tbody tr th {\n",
              "        vertical-align: top;\n",
              "    }\n",
              "\n",
              "    .dataframe thead th {\n",
              "        text-align: right;\n",
              "    }\n",
              "</style>\n",
              "<table border=\"1\" class=\"dataframe\">\n",
              "  <thead>\n",
              "    <tr style=\"text-align: right;\">\n",
              "      <th></th>\n",
              "      <th>FIPS_code</th>\n",
              "      <th>Area_name</th>\n",
              "      <th>Civilian_labor_force_2021</th>\n",
              "      <th>Median_Household_Income_2020</th>\n",
              "      <th>Rural_urban_continuum_code_2013</th>\n",
              "      <th>FIPS</th>\n",
              "      <th>RegionName</th>\n",
              "      <th>recent_ZHVI</th>\n",
              "    </tr>\n",
              "  </thead>\n",
              "  <tbody>\n",
              "    <tr>\n",
              "      <th>0</th>\n",
              "      <td>01001</td>\n",
              "      <td>Autauga County, AL</td>\n",
              "      <td>26341.0</td>\n",
              "      <td>67565.0</td>\n",
              "      <td>2.0</td>\n",
              "      <td>01001</td>\n",
              "      <td>Autauga County</td>\n",
              "      <td>247745.0</td>\n",
              "    </tr>\n",
              "    <tr>\n",
              "      <th>1</th>\n",
              "      <td>01003</td>\n",
              "      <td>Baldwin County, AL</td>\n",
              "      <td>99427.0</td>\n",
              "      <td>71135.0</td>\n",
              "      <td>3.0</td>\n",
              "      <td>01003</td>\n",
              "      <td>Baldwin County</td>\n",
              "      <td>378538.0</td>\n",
              "    </tr>\n",
              "    <tr>\n",
              "      <th>2</th>\n",
              "      <td>01005</td>\n",
              "      <td>Barbour County, AL</td>\n",
              "      <td>8197.0</td>\n",
              "      <td>38866.0</td>\n",
              "      <td>6.0</td>\n",
              "      <td>01005</td>\n",
              "      <td>Barbour County</td>\n",
              "      <td>137713.0</td>\n",
              "    </tr>\n",
              "    <tr>\n",
              "      <th>3</th>\n",
              "      <td>01007</td>\n",
              "      <td>Bibb County, AL</td>\n",
              "      <td>8560.0</td>\n",
              "      <td>50907.0</td>\n",
              "      <td>1.0</td>\n",
              "      <td>01007</td>\n",
              "      <td>Bibb County</td>\n",
              "      <td>183821.0</td>\n",
              "    </tr>\n",
              "    <tr>\n",
              "      <th>4</th>\n",
              "      <td>01009</td>\n",
              "      <td>Blount County, AL</td>\n",
              "      <td>25127.0</td>\n",
              "      <td>55203.0</td>\n",
              "      <td>1.0</td>\n",
              "      <td>01009</td>\n",
              "      <td>Blount County</td>\n",
              "      <td>265515.0</td>\n",
              "    </tr>\n",
              "  </tbody>\n",
              "</table>\n",
              "</div>\n",
              "      <button class=\"colab-df-convert\" onclick=\"convertToInteractive('df-0bc12714-94fc-4b84-93cf-41c5be27d23f')\"\n",
              "              title=\"Convert this dataframe to an interactive table.\"\n",
              "              style=\"display:none;\">\n",
              "        \n",
              "  <svg xmlns=\"http://www.w3.org/2000/svg\" height=\"24px\"viewBox=\"0 0 24 24\"\n",
              "       width=\"24px\">\n",
              "    <path d=\"M0 0h24v24H0V0z\" fill=\"none\"/>\n",
              "    <path d=\"M18.56 5.44l.94 2.06.94-2.06 2.06-.94-2.06-.94-.94-2.06-.94 2.06-2.06.94zm-11 1L8.5 8.5l.94-2.06 2.06-.94-2.06-.94L8.5 2.5l-.94 2.06-2.06.94zm10 10l.94 2.06.94-2.06 2.06-.94-2.06-.94-.94-2.06-.94 2.06-2.06.94z\"/><path d=\"M17.41 7.96l-1.37-1.37c-.4-.4-.92-.59-1.43-.59-.52 0-1.04.2-1.43.59L10.3 9.45l-7.72 7.72c-.78.78-.78 2.05 0 2.83L4 21.41c.39.39.9.59 1.41.59.51 0 1.02-.2 1.41-.59l7.78-7.78 2.81-2.81c.8-.78.8-2.07 0-2.86zM5.41 20L4 18.59l7.72-7.72 1.47 1.35L5.41 20z\"/>\n",
              "  </svg>\n",
              "      </button>\n",
              "      \n",
              "  <style>\n",
              "    .colab-df-container {\n",
              "      display:flex;\n",
              "      flex-wrap:wrap;\n",
              "      gap: 12px;\n",
              "    }\n",
              "\n",
              "    .colab-df-convert {\n",
              "      background-color: #E8F0FE;\n",
              "      border: none;\n",
              "      border-radius: 50%;\n",
              "      cursor: pointer;\n",
              "      display: none;\n",
              "      fill: #1967D2;\n",
              "      height: 32px;\n",
              "      padding: 0 0 0 0;\n",
              "      width: 32px;\n",
              "    }\n",
              "\n",
              "    .colab-df-convert:hover {\n",
              "      background-color: #E2EBFA;\n",
              "      box-shadow: 0px 1px 2px rgba(60, 64, 67, 0.3), 0px 1px 3px 1px rgba(60, 64, 67, 0.15);\n",
              "      fill: #174EA6;\n",
              "    }\n",
              "\n",
              "    [theme=dark] .colab-df-convert {\n",
              "      background-color: #3B4455;\n",
              "      fill: #D2E3FC;\n",
              "    }\n",
              "\n",
              "    [theme=dark] .colab-df-convert:hover {\n",
              "      background-color: #434B5C;\n",
              "      box-shadow: 0px 1px 3px 1px rgba(0, 0, 0, 0.15);\n",
              "      filter: drop-shadow(0px 1px 2px rgba(0, 0, 0, 0.3));\n",
              "      fill: #FFFFFF;\n",
              "    }\n",
              "  </style>\n",
              "\n",
              "      <script>\n",
              "        const buttonEl =\n",
              "          document.querySelector('#df-0bc12714-94fc-4b84-93cf-41c5be27d23f button.colab-df-convert');\n",
              "        buttonEl.style.display =\n",
              "          google.colab.kernel.accessAllowed ? 'block' : 'none';\n",
              "\n",
              "        async function convertToInteractive(key) {\n",
              "          const element = document.querySelector('#df-0bc12714-94fc-4b84-93cf-41c5be27d23f');\n",
              "          const dataTable =\n",
              "            await google.colab.kernel.invokeFunction('convertToInteractive',\n",
              "                                                     [key], {});\n",
              "          if (!dataTable) return;\n",
              "\n",
              "          const docLinkHtml = 'Like what you see? Visit the ' +\n",
              "            '<a target=\"_blank\" href=https://colab.research.google.com/notebooks/data_table.ipynb>data table notebook</a>'\n",
              "            + ' to learn more about interactive tables.';\n",
              "          element.innerHTML = '';\n",
              "          dataTable['output_type'] = 'display_data';\n",
              "          await google.colab.output.renderOutput(dataTable, element);\n",
              "          const docLink = document.createElement('div');\n",
              "          docLink.innerHTML = docLinkHtml;\n",
              "          element.appendChild(docLink);\n",
              "        }\n",
              "      </script>\n",
              "    </div>\n",
              "  </div>\n",
              "  "
            ]
          },
          "metadata": {},
          "execution_count": 195
        }
      ],
      "source": [
        "# Merge on FIPS code columns\n",
        "merged1 = pd.merge(left=unemployment, right=zhvi2, left_on='FIPS_code', right_on='FIPS')\n",
        "merged1.head()"
      ]
    },
    {
      "cell_type": "markdown",
      "source": [
        "Get median Property/Real Estate Tax from Census API"
      ],
      "metadata": {
        "id": "VWtC_Yfbleb3"
      },
      "id": "VWtC_Yfbleb3"
    },
    {
      "cell_type": "code",
      "source": [
        "# Table B25103: Mortgage Status by Median Real Estate Taxes Paid (Dollars)\n",
        "# B25103_001E is \"Median Real Estate Taxes Paid (Dollars)\"\n",
        "# Concatenate the API endpoint URL\n",
        "data_code = \"B25103_001E\"\n",
        "data_name = \"med_tax\"\n",
        "endpoint = \"https://api.census.gov/data/2021/acs/acs5?get=NAME,\" + data_code + \"&for=county:*&in=state:*&key=\" + api_key\n",
        "\n",
        "# send the GET request\n",
        "response = requests.get(endpoint)"
      ],
      "metadata": {
        "id": "gSVDKSwik_qw"
      },
      "id": "gSVDKSwik_qw",
      "execution_count": 196,
      "outputs": []
    },
    {
      "cell_type": "code",
      "source": [
        "# parse the JSON data\n",
        "data = response.json()\n",
        "\n",
        "# convert the JSON data into a pandas DataFrame\n",
        "tax_df = pd.DataFrame(data)\n",
        "\n",
        "# convert 1st row to column headers\n",
        "tax_df.columns = tax_df.iloc[0]\n",
        "tax_df = tax_df[1:]\n",
        "\n",
        "# rename the column\n",
        "tax_df.rename(columns={data_code:data_name}, inplace = True)\n",
        "\n",
        "# print a random sample of the data\n",
        "#print(df.loc[1850:1855])\n",
        "print(tax_df.sample(n=10))"
      ],
      "metadata": {
        "colab": {
          "base_uri": "https://localhost:8080/"
        },
        "id": "JYtzOzKSlrf1",
        "outputId": "335148d0-e77d-4263-f5c3-daf19f9e9370"
      },
      "id": "JYtzOzKSlrf1",
      "execution_count": 197,
      "outputs": [
        {
          "output_type": "stream",
          "name": "stdout",
          "text": [
            "0                             NAME med_tax state county\n",
            "1115      Acadia Parish, Louisiana     354    22    001\n",
            "2985  Snohomish County, Washington    4426    53    061\n",
            "2693        Montague County, Texas    1578    48    337\n",
            "2270     Erie County, Pennsylvania    2633    42    049\n",
            "1055         Knox County, Kentucky     745    21    121\n",
            "3141         Uinta County, Wyoming    1191    56    041\n",
            "3082    Langlade County, Wisconsin    1867    55    067\n",
            "2857   Gloucester County, Virginia    1522    51    073\n",
            "552            Maui County, Hawaii    1339    15    009\n",
            "2914         Wise County, Virginia     632    51    195\n"
          ]
        }
      ]
    },
    {
      "cell_type": "code",
      "source": [
        "# Convert State and Municipal FIPS into single FIPS code. Format as 5 digits\n",
        "tax_df['FIPS_code'] = tax_df.apply(lambda row: '{0:0>2}'.format(row[\"state\"]) + '{0:0>3}'.format(row[\"county\"]), axis=1)\n",
        "print(tax_df.sample(n=6))"
      ],
      "metadata": {
        "colab": {
          "base_uri": "https://localhost:8080/"
        },
        "id": "m-dJcUJtlrZU",
        "outputId": "ce5db609-d825-4035-b0af-5101966385ce"
      },
      "id": "m-dJcUJtlrZU",
      "execution_count": 198,
      "outputs": [
        {
          "output_type": "stream",
          "name": "stdout",
          "text": [
            "0                               NAME med_tax state county FIPS_code\n",
            "2322  Bamberg County, South Carolina     721    45    009     45009\n",
            "2265   Crawford County, Pennsylvania    1941    42    039     42039\n",
            "336            Duval County, Florida    1861    12    031     12031\n",
            "2387      Faulk County, South Dakota     902    46    049     46049\n",
            "1280           Luce County, Michigan    1001    26    095     26095\n",
            "585            Madison County, Idaho    1581    16    065     16065\n"
          ]
        }
      ]
    },
    {
      "cell_type": "code",
      "source": [
        "merged2=pd.merge(left=merged1, right=tax_df, left_on='FIPS_code', right_on='FIPS_code')"
      ],
      "metadata": {
        "id": "9gs1mjfalrRU"
      },
      "id": "9gs1mjfalrRU",
      "execution_count": 199,
      "outputs": []
    },
    {
      "cell_type": "markdown",
      "id": "48f5cce1",
      "metadata": {
        "id": "48f5cce1"
      },
      "source": [
        "Load population data from the Census website"
      ]
    },
    {
      "cell_type": "code",
      "execution_count": 229,
      "id": "473cfa40",
      "metadata": {
        "colab": {
          "base_uri": "https://localhost:8080/",
          "height": 236
        },
        "id": "473cfa40",
        "outputId": "20b8bcae-da02-4953-8851-e95add0d5797"
      },
      "outputs": [
        {
          "output_type": "execute_result",
          "data": {
            "text/plain": [
              "    SUMLEV  STATE  COUNTY   STNAME         CTYNAME  YEAR  POPESTIMATE  \\\n",
              "2       50      1       1  Alabama  Autauga County     3        59095   \n",
              "5       50      1       3  Alabama  Baldwin County     3       239294   \n",
              "8       50      1       5  Alabama  Barbour County     3        24964   \n",
              "11      50      1       7  Alabama     Bibb County     3        22477   \n",
              "14      50      1       9  Alabama   Blount County     3        59041   \n",
              "\n",
              "    POPEST_MALE  POPEST_FEM  UNDER5_TOT  ...  AGE7579_FEM  AGE8084_TOT  \\\n",
              "2         28733       30362        3388  ...         1065         1154   \n",
              "5        116422      122872       12252  ...         5091         5728   \n",
              "8         13305       11659        1307  ...          567          549   \n",
              "11        12134       10343        1180  ...          402          460   \n",
              "14        29407       29634        3433  ...         1177         1270   \n",
              "\n",
              "    AGE8084_MALE  AGE8084_FEM  AGE85PLUS_TOT  AGE85PLUS_MALE  AGE85PLUS_FEM  \\\n",
              "2            490          664            896             352            544   \n",
              "5           2619         3109           4232            1775           2457   \n",
              "8            231          318            477             157            320   \n",
              "11           190          270            359             118            241   \n",
              "14           567          703           1048             394            654   \n",
              "\n",
              "    MEDIAN_AGE_TOT  MEDIAN_AGE_MALE  MEDIAN_AGE_FEM  \n",
              "2             39.3             38.3            40.3  \n",
              "5             44.0             42.8            45.0  \n",
              "8             41.2             39.3            44.2  \n",
              "11            40.3             38.7            42.8  \n",
              "14            41.2             40.5            41.9  \n",
              "\n",
              "[5 rows x 96 columns]"
            ],
            "text/html": [
              "\n",
              "  <div id=\"df-c4d04cdf-b322-456e-9b34-5d96860f0627\">\n",
              "    <div class=\"colab-df-container\">\n",
              "      <div>\n",
              "<style scoped>\n",
              "    .dataframe tbody tr th:only-of-type {\n",
              "        vertical-align: middle;\n",
              "    }\n",
              "\n",
              "    .dataframe tbody tr th {\n",
              "        vertical-align: top;\n",
              "    }\n",
              "\n",
              "    .dataframe thead th {\n",
              "        text-align: right;\n",
              "    }\n",
              "</style>\n",
              "<table border=\"1\" class=\"dataframe\">\n",
              "  <thead>\n",
              "    <tr style=\"text-align: right;\">\n",
              "      <th></th>\n",
              "      <th>SUMLEV</th>\n",
              "      <th>STATE</th>\n",
              "      <th>COUNTY</th>\n",
              "      <th>STNAME</th>\n",
              "      <th>CTYNAME</th>\n",
              "      <th>YEAR</th>\n",
              "      <th>POPESTIMATE</th>\n",
              "      <th>POPEST_MALE</th>\n",
              "      <th>POPEST_FEM</th>\n",
              "      <th>UNDER5_TOT</th>\n",
              "      <th>...</th>\n",
              "      <th>AGE7579_FEM</th>\n",
              "      <th>AGE8084_TOT</th>\n",
              "      <th>AGE8084_MALE</th>\n",
              "      <th>AGE8084_FEM</th>\n",
              "      <th>AGE85PLUS_TOT</th>\n",
              "      <th>AGE85PLUS_MALE</th>\n",
              "      <th>AGE85PLUS_FEM</th>\n",
              "      <th>MEDIAN_AGE_TOT</th>\n",
              "      <th>MEDIAN_AGE_MALE</th>\n",
              "      <th>MEDIAN_AGE_FEM</th>\n",
              "    </tr>\n",
              "  </thead>\n",
              "  <tbody>\n",
              "    <tr>\n",
              "      <th>2</th>\n",
              "      <td>50</td>\n",
              "      <td>1</td>\n",
              "      <td>1</td>\n",
              "      <td>Alabama</td>\n",
              "      <td>Autauga County</td>\n",
              "      <td>3</td>\n",
              "      <td>59095</td>\n",
              "      <td>28733</td>\n",
              "      <td>30362</td>\n",
              "      <td>3388</td>\n",
              "      <td>...</td>\n",
              "      <td>1065</td>\n",
              "      <td>1154</td>\n",
              "      <td>490</td>\n",
              "      <td>664</td>\n",
              "      <td>896</td>\n",
              "      <td>352</td>\n",
              "      <td>544</td>\n",
              "      <td>39.3</td>\n",
              "      <td>38.3</td>\n",
              "      <td>40.3</td>\n",
              "    </tr>\n",
              "    <tr>\n",
              "      <th>5</th>\n",
              "      <td>50</td>\n",
              "      <td>1</td>\n",
              "      <td>3</td>\n",
              "      <td>Alabama</td>\n",
              "      <td>Baldwin County</td>\n",
              "      <td>3</td>\n",
              "      <td>239294</td>\n",
              "      <td>116422</td>\n",
              "      <td>122872</td>\n",
              "      <td>12252</td>\n",
              "      <td>...</td>\n",
              "      <td>5091</td>\n",
              "      <td>5728</td>\n",
              "      <td>2619</td>\n",
              "      <td>3109</td>\n",
              "      <td>4232</td>\n",
              "      <td>1775</td>\n",
              "      <td>2457</td>\n",
              "      <td>44.0</td>\n",
              "      <td>42.8</td>\n",
              "      <td>45.0</td>\n",
              "    </tr>\n",
              "    <tr>\n",
              "      <th>8</th>\n",
              "      <td>50</td>\n",
              "      <td>1</td>\n",
              "      <td>5</td>\n",
              "      <td>Alabama</td>\n",
              "      <td>Barbour County</td>\n",
              "      <td>3</td>\n",
              "      <td>24964</td>\n",
              "      <td>13305</td>\n",
              "      <td>11659</td>\n",
              "      <td>1307</td>\n",
              "      <td>...</td>\n",
              "      <td>567</td>\n",
              "      <td>549</td>\n",
              "      <td>231</td>\n",
              "      <td>318</td>\n",
              "      <td>477</td>\n",
              "      <td>157</td>\n",
              "      <td>320</td>\n",
              "      <td>41.2</td>\n",
              "      <td>39.3</td>\n",
              "      <td>44.2</td>\n",
              "    </tr>\n",
              "    <tr>\n",
              "      <th>11</th>\n",
              "      <td>50</td>\n",
              "      <td>1</td>\n",
              "      <td>7</td>\n",
              "      <td>Alabama</td>\n",
              "      <td>Bibb County</td>\n",
              "      <td>3</td>\n",
              "      <td>22477</td>\n",
              "      <td>12134</td>\n",
              "      <td>10343</td>\n",
              "      <td>1180</td>\n",
              "      <td>...</td>\n",
              "      <td>402</td>\n",
              "      <td>460</td>\n",
              "      <td>190</td>\n",
              "      <td>270</td>\n",
              "      <td>359</td>\n",
              "      <td>118</td>\n",
              "      <td>241</td>\n",
              "      <td>40.3</td>\n",
              "      <td>38.7</td>\n",
              "      <td>42.8</td>\n",
              "    </tr>\n",
              "    <tr>\n",
              "      <th>14</th>\n",
              "      <td>50</td>\n",
              "      <td>1</td>\n",
              "      <td>9</td>\n",
              "      <td>Alabama</td>\n",
              "      <td>Blount County</td>\n",
              "      <td>3</td>\n",
              "      <td>59041</td>\n",
              "      <td>29407</td>\n",
              "      <td>29634</td>\n",
              "      <td>3433</td>\n",
              "      <td>...</td>\n",
              "      <td>1177</td>\n",
              "      <td>1270</td>\n",
              "      <td>567</td>\n",
              "      <td>703</td>\n",
              "      <td>1048</td>\n",
              "      <td>394</td>\n",
              "      <td>654</td>\n",
              "      <td>41.2</td>\n",
              "      <td>40.5</td>\n",
              "      <td>41.9</td>\n",
              "    </tr>\n",
              "  </tbody>\n",
              "</table>\n",
              "<p>5 rows × 96 columns</p>\n",
              "</div>\n",
              "      <button class=\"colab-df-convert\" onclick=\"convertToInteractive('df-c4d04cdf-b322-456e-9b34-5d96860f0627')\"\n",
              "              title=\"Convert this dataframe to an interactive table.\"\n",
              "              style=\"display:none;\">\n",
              "        \n",
              "  <svg xmlns=\"http://www.w3.org/2000/svg\" height=\"24px\"viewBox=\"0 0 24 24\"\n",
              "       width=\"24px\">\n",
              "    <path d=\"M0 0h24v24H0V0z\" fill=\"none\"/>\n",
              "    <path d=\"M18.56 5.44l.94 2.06.94-2.06 2.06-.94-2.06-.94-.94-2.06-.94 2.06-2.06.94zm-11 1L8.5 8.5l.94-2.06 2.06-.94-2.06-.94L8.5 2.5l-.94 2.06-2.06.94zm10 10l.94 2.06.94-2.06 2.06-.94-2.06-.94-.94-2.06-.94 2.06-2.06.94z\"/><path d=\"M17.41 7.96l-1.37-1.37c-.4-.4-.92-.59-1.43-.59-.52 0-1.04.2-1.43.59L10.3 9.45l-7.72 7.72c-.78.78-.78 2.05 0 2.83L4 21.41c.39.39.9.59 1.41.59.51 0 1.02-.2 1.41-.59l7.78-7.78 2.81-2.81c.8-.78.8-2.07 0-2.86zM5.41 20L4 18.59l7.72-7.72 1.47 1.35L5.41 20z\"/>\n",
              "  </svg>\n",
              "      </button>\n",
              "      \n",
              "  <style>\n",
              "    .colab-df-container {\n",
              "      display:flex;\n",
              "      flex-wrap:wrap;\n",
              "      gap: 12px;\n",
              "    }\n",
              "\n",
              "    .colab-df-convert {\n",
              "      background-color: #E8F0FE;\n",
              "      border: none;\n",
              "      border-radius: 50%;\n",
              "      cursor: pointer;\n",
              "      display: none;\n",
              "      fill: #1967D2;\n",
              "      height: 32px;\n",
              "      padding: 0 0 0 0;\n",
              "      width: 32px;\n",
              "    }\n",
              "\n",
              "    .colab-df-convert:hover {\n",
              "      background-color: #E2EBFA;\n",
              "      box-shadow: 0px 1px 2px rgba(60, 64, 67, 0.3), 0px 1px 3px 1px rgba(60, 64, 67, 0.15);\n",
              "      fill: #174EA6;\n",
              "    }\n",
              "\n",
              "    [theme=dark] .colab-df-convert {\n",
              "      background-color: #3B4455;\n",
              "      fill: #D2E3FC;\n",
              "    }\n",
              "\n",
              "    [theme=dark] .colab-df-convert:hover {\n",
              "      background-color: #434B5C;\n",
              "      box-shadow: 0px 1px 3px 1px rgba(0, 0, 0, 0.15);\n",
              "      filter: drop-shadow(0px 1px 2px rgba(0, 0, 0, 0.3));\n",
              "      fill: #FFFFFF;\n",
              "    }\n",
              "  </style>\n",
              "\n",
              "      <script>\n",
              "        const buttonEl =\n",
              "          document.querySelector('#df-c4d04cdf-b322-456e-9b34-5d96860f0627 button.colab-df-convert');\n",
              "        buttonEl.style.display =\n",
              "          google.colab.kernel.accessAllowed ? 'block' : 'none';\n",
              "\n",
              "        async function convertToInteractive(key) {\n",
              "          const element = document.querySelector('#df-c4d04cdf-b322-456e-9b34-5d96860f0627');\n",
              "          const dataTable =\n",
              "            await google.colab.kernel.invokeFunction('convertToInteractive',\n",
              "                                                     [key], {});\n",
              "          if (!dataTable) return;\n",
              "\n",
              "          const docLinkHtml = 'Like what you see? Visit the ' +\n",
              "            '<a target=\"_blank\" href=https://colab.research.google.com/notebooks/data_table.ipynb>data table notebook</a>'\n",
              "            + ' to learn more about interactive tables.';\n",
              "          element.innerHTML = '';\n",
              "          dataTable['output_type'] = 'display_data';\n",
              "          await google.colab.output.renderOutput(dataTable, element);\n",
              "          const docLink = document.createElement('div');\n",
              "          docLink.innerHTML = docLinkHtml;\n",
              "          element.appendChild(docLink);\n",
              "        }\n",
              "      </script>\n",
              "    </div>\n",
              "  </div>\n",
              "  "
            ]
          },
          "metadata": {},
          "execution_count": 229
        }
      ],
      "source": [
        "pop = pd.read_csv(\"https://www2.census.gov/programs-surveys/popest/datasets/2020-2021/counties/asrh/cc-est2021-agesex-all.csv\", encoding='latin-1')\n",
        "# Keep only the entries for the most recent year \"3\"\n",
        "pop = pop.loc[pop['YEAR'] == 3]\n",
        "# Preview\n",
        "pop.head()"
      ]
    },
    {
      "cell_type": "markdown",
      "source": [
        "Reformat FIPS code column Keep only the desired columns"
      ],
      "metadata": {
        "id": "dnlTa8_Us-VL"
      },
      "id": "dnlTa8_Us-VL"
    },
    {
      "cell_type": "code",
      "execution_count": 230,
      "id": "daa894ed",
      "metadata": {
        "id": "daa894ed"
      },
      "outputs": [],
      "source": [
        "# Convert State and Municipal FIPS into single FIPS code. Format as 5 digits\n",
        "pop[\"FIPS2\"] = pop[\"STATE\"]*1000 + pop[\"COUNTY\"]\n",
        "pop[\"FIPS2\"] = pop[\"FIPS2\"].apply(lambda x: '{0:0>5}'.format(x)) \n",
        "\n",
        "# Population, FIPS, and State\n",
        "pop = pop[[\"POPESTIMATE\", \"FIPS2\", \"STNAME\"]]"
      ]
    },
    {
      "cell_type": "markdown",
      "source": [
        "Merge population with previous dataframe"
      ],
      "metadata": {
        "id": "tFNUQs-EdDyb"
      },
      "id": "tFNUQs-EdDyb"
    },
    {
      "cell_type": "code",
      "source": [
        "merged3=pd.merge(left=merged2, right=pop, left_on='FIPS_code', right_on='FIPS2')\n",
        "merged3.head()"
      ],
      "metadata": {
        "colab": {
          "base_uri": "https://localhost:8080/",
          "height": 206
        },
        "id": "dUsWfrhPYg6n",
        "outputId": "465da51a-aee1-4de8-fb48-a257ccf1a897"
      },
      "id": "dUsWfrhPYg6n",
      "execution_count": 362,
      "outputs": [
        {
          "output_type": "execute_result",
          "data": {
            "text/plain": [
              "  FIPS_code           Area_name  Civilian_labor_force_2021  \\\n",
              "0     01001  Autauga County, AL                    26341.0   \n",
              "1     01003  Baldwin County, AL                    99427.0   \n",
              "2     01005  Barbour County, AL                     8197.0   \n",
              "3     01007     Bibb County, AL                     8560.0   \n",
              "4     01009   Blount County, AL                    25127.0   \n",
              "\n",
              "   Median_Household_Income_2020  Rural_urban_continuum_code_2013   FIPS  \\\n",
              "0                       67565.0                              2.0  01001   \n",
              "1                       71135.0                              3.0  01003   \n",
              "2                       38866.0                              6.0  01005   \n",
              "3                       50907.0                              1.0  01007   \n",
              "4                       55203.0                              1.0  01009   \n",
              "\n",
              "       RegionName  recent_ZHVI                     NAME med_tax state county  \\\n",
              "0  Autauga County     247745.0  Autauga County, Alabama     491    01    001   \n",
              "1  Baldwin County     378538.0  Baldwin County, Alabama     718    01    003   \n",
              "2  Barbour County     137713.0  Barbour County, Alabama     338    01    005   \n",
              "3     Bibb County     183821.0     Bibb County, Alabama     263    01    007   \n",
              "4   Blount County     265515.0   Blount County, Alabama     416    01    009   \n",
              "\n",
              "   POPESTIMATE  FIPS2   STNAME  \n",
              "0        59095  01001  Alabama  \n",
              "1       239294  01003  Alabama  \n",
              "2        24964  01005  Alabama  \n",
              "3        22477  01007  Alabama  \n",
              "4        59041  01009  Alabama  "
            ],
            "text/html": [
              "\n",
              "  <div id=\"df-2ed2ab68-27b8-4d37-816b-83ba50373074\">\n",
              "    <div class=\"colab-df-container\">\n",
              "      <div>\n",
              "<style scoped>\n",
              "    .dataframe tbody tr th:only-of-type {\n",
              "        vertical-align: middle;\n",
              "    }\n",
              "\n",
              "    .dataframe tbody tr th {\n",
              "        vertical-align: top;\n",
              "    }\n",
              "\n",
              "    .dataframe thead th {\n",
              "        text-align: right;\n",
              "    }\n",
              "</style>\n",
              "<table border=\"1\" class=\"dataframe\">\n",
              "  <thead>\n",
              "    <tr style=\"text-align: right;\">\n",
              "      <th></th>\n",
              "      <th>FIPS_code</th>\n",
              "      <th>Area_name</th>\n",
              "      <th>Civilian_labor_force_2021</th>\n",
              "      <th>Median_Household_Income_2020</th>\n",
              "      <th>Rural_urban_continuum_code_2013</th>\n",
              "      <th>FIPS</th>\n",
              "      <th>RegionName</th>\n",
              "      <th>recent_ZHVI</th>\n",
              "      <th>NAME</th>\n",
              "      <th>med_tax</th>\n",
              "      <th>state</th>\n",
              "      <th>county</th>\n",
              "      <th>POPESTIMATE</th>\n",
              "      <th>FIPS2</th>\n",
              "      <th>STNAME</th>\n",
              "    </tr>\n",
              "  </thead>\n",
              "  <tbody>\n",
              "    <tr>\n",
              "      <th>0</th>\n",
              "      <td>01001</td>\n",
              "      <td>Autauga County, AL</td>\n",
              "      <td>26341.0</td>\n",
              "      <td>67565.0</td>\n",
              "      <td>2.0</td>\n",
              "      <td>01001</td>\n",
              "      <td>Autauga County</td>\n",
              "      <td>247745.0</td>\n",
              "      <td>Autauga County, Alabama</td>\n",
              "      <td>491</td>\n",
              "      <td>01</td>\n",
              "      <td>001</td>\n",
              "      <td>59095</td>\n",
              "      <td>01001</td>\n",
              "      <td>Alabama</td>\n",
              "    </tr>\n",
              "    <tr>\n",
              "      <th>1</th>\n",
              "      <td>01003</td>\n",
              "      <td>Baldwin County, AL</td>\n",
              "      <td>99427.0</td>\n",
              "      <td>71135.0</td>\n",
              "      <td>3.0</td>\n",
              "      <td>01003</td>\n",
              "      <td>Baldwin County</td>\n",
              "      <td>378538.0</td>\n",
              "      <td>Baldwin County, Alabama</td>\n",
              "      <td>718</td>\n",
              "      <td>01</td>\n",
              "      <td>003</td>\n",
              "      <td>239294</td>\n",
              "      <td>01003</td>\n",
              "      <td>Alabama</td>\n",
              "    </tr>\n",
              "    <tr>\n",
              "      <th>2</th>\n",
              "      <td>01005</td>\n",
              "      <td>Barbour County, AL</td>\n",
              "      <td>8197.0</td>\n",
              "      <td>38866.0</td>\n",
              "      <td>6.0</td>\n",
              "      <td>01005</td>\n",
              "      <td>Barbour County</td>\n",
              "      <td>137713.0</td>\n",
              "      <td>Barbour County, Alabama</td>\n",
              "      <td>338</td>\n",
              "      <td>01</td>\n",
              "      <td>005</td>\n",
              "      <td>24964</td>\n",
              "      <td>01005</td>\n",
              "      <td>Alabama</td>\n",
              "    </tr>\n",
              "    <tr>\n",
              "      <th>3</th>\n",
              "      <td>01007</td>\n",
              "      <td>Bibb County, AL</td>\n",
              "      <td>8560.0</td>\n",
              "      <td>50907.0</td>\n",
              "      <td>1.0</td>\n",
              "      <td>01007</td>\n",
              "      <td>Bibb County</td>\n",
              "      <td>183821.0</td>\n",
              "      <td>Bibb County, Alabama</td>\n",
              "      <td>263</td>\n",
              "      <td>01</td>\n",
              "      <td>007</td>\n",
              "      <td>22477</td>\n",
              "      <td>01007</td>\n",
              "      <td>Alabama</td>\n",
              "    </tr>\n",
              "    <tr>\n",
              "      <th>4</th>\n",
              "      <td>01009</td>\n",
              "      <td>Blount County, AL</td>\n",
              "      <td>25127.0</td>\n",
              "      <td>55203.0</td>\n",
              "      <td>1.0</td>\n",
              "      <td>01009</td>\n",
              "      <td>Blount County</td>\n",
              "      <td>265515.0</td>\n",
              "      <td>Blount County, Alabama</td>\n",
              "      <td>416</td>\n",
              "      <td>01</td>\n",
              "      <td>009</td>\n",
              "      <td>59041</td>\n",
              "      <td>01009</td>\n",
              "      <td>Alabama</td>\n",
              "    </tr>\n",
              "  </tbody>\n",
              "</table>\n",
              "</div>\n",
              "      <button class=\"colab-df-convert\" onclick=\"convertToInteractive('df-2ed2ab68-27b8-4d37-816b-83ba50373074')\"\n",
              "              title=\"Convert this dataframe to an interactive table.\"\n",
              "              style=\"display:none;\">\n",
              "        \n",
              "  <svg xmlns=\"http://www.w3.org/2000/svg\" height=\"24px\"viewBox=\"0 0 24 24\"\n",
              "       width=\"24px\">\n",
              "    <path d=\"M0 0h24v24H0V0z\" fill=\"none\"/>\n",
              "    <path d=\"M18.56 5.44l.94 2.06.94-2.06 2.06-.94-2.06-.94-.94-2.06-.94 2.06-2.06.94zm-11 1L8.5 8.5l.94-2.06 2.06-.94-2.06-.94L8.5 2.5l-.94 2.06-2.06.94zm10 10l.94 2.06.94-2.06 2.06-.94-2.06-.94-.94-2.06-.94 2.06-2.06.94z\"/><path d=\"M17.41 7.96l-1.37-1.37c-.4-.4-.92-.59-1.43-.59-.52 0-1.04.2-1.43.59L10.3 9.45l-7.72 7.72c-.78.78-.78 2.05 0 2.83L4 21.41c.39.39.9.59 1.41.59.51 0 1.02-.2 1.41-.59l7.78-7.78 2.81-2.81c.8-.78.8-2.07 0-2.86zM5.41 20L4 18.59l7.72-7.72 1.47 1.35L5.41 20z\"/>\n",
              "  </svg>\n",
              "      </button>\n",
              "      \n",
              "  <style>\n",
              "    .colab-df-container {\n",
              "      display:flex;\n",
              "      flex-wrap:wrap;\n",
              "      gap: 12px;\n",
              "    }\n",
              "\n",
              "    .colab-df-convert {\n",
              "      background-color: #E8F0FE;\n",
              "      border: none;\n",
              "      border-radius: 50%;\n",
              "      cursor: pointer;\n",
              "      display: none;\n",
              "      fill: #1967D2;\n",
              "      height: 32px;\n",
              "      padding: 0 0 0 0;\n",
              "      width: 32px;\n",
              "    }\n",
              "\n",
              "    .colab-df-convert:hover {\n",
              "      background-color: #E2EBFA;\n",
              "      box-shadow: 0px 1px 2px rgba(60, 64, 67, 0.3), 0px 1px 3px 1px rgba(60, 64, 67, 0.15);\n",
              "      fill: #174EA6;\n",
              "    }\n",
              "\n",
              "    [theme=dark] .colab-df-convert {\n",
              "      background-color: #3B4455;\n",
              "      fill: #D2E3FC;\n",
              "    }\n",
              "\n",
              "    [theme=dark] .colab-df-convert:hover {\n",
              "      background-color: #434B5C;\n",
              "      box-shadow: 0px 1px 3px 1px rgba(0, 0, 0, 0.15);\n",
              "      filter: drop-shadow(0px 1px 2px rgba(0, 0, 0, 0.3));\n",
              "      fill: #FFFFFF;\n",
              "    }\n",
              "  </style>\n",
              "\n",
              "      <script>\n",
              "        const buttonEl =\n",
              "          document.querySelector('#df-2ed2ab68-27b8-4d37-816b-83ba50373074 button.colab-df-convert');\n",
              "        buttonEl.style.display =\n",
              "          google.colab.kernel.accessAllowed ? 'block' : 'none';\n",
              "\n",
              "        async function convertToInteractive(key) {\n",
              "          const element = document.querySelector('#df-2ed2ab68-27b8-4d37-816b-83ba50373074');\n",
              "          const dataTable =\n",
              "            await google.colab.kernel.invokeFunction('convertToInteractive',\n",
              "                                                     [key], {});\n",
              "          if (!dataTable) return;\n",
              "\n",
              "          const docLinkHtml = 'Like what you see? Visit the ' +\n",
              "            '<a target=\"_blank\" href=https://colab.research.google.com/notebooks/data_table.ipynb>data table notebook</a>'\n",
              "            + ' to learn more about interactive tables.';\n",
              "          element.innerHTML = '';\n",
              "          dataTable['output_type'] = 'display_data';\n",
              "          await google.colab.output.renderOutput(dataTable, element);\n",
              "          const docLink = document.createElement('div');\n",
              "          docLink.innerHTML = docLinkHtml;\n",
              "          element.appendChild(docLink);\n",
              "        }\n",
              "      </script>\n",
              "    </div>\n",
              "  </div>\n",
              "  "
            ]
          },
          "metadata": {},
          "execution_count": 362
        }
      ]
    },
    {
      "cell_type": "code",
      "execution_count": 363,
      "id": "2b3a25d3",
      "metadata": {
        "id": "2b3a25d3"
      },
      "outputs": [],
      "source": [
        "# Calculate Price to Income Ratio\n",
        "PIR = \"Price_Income_Ratio\"\n",
        "merged3[PIR] = merged3['recent_ZHVI'] / merged3[\"Median_Household_Income_2020\"]\n",
        "\n",
        "# Rename and rearrange columns\n",
        "merged3.rename(columns = {'Civilian_labor_force_2021':'Labor_Force', 'Median_Household_Income_2020':'Income', \"recent_ZHVI\":\"House_Price\", 'POPESTIMATE':'Population', 'Rural_urban_continuum_code_2013':'Rural_urban', 'med_tax':\"Property_Tax\"}, inplace = True)\n",
        "merged3 = merged3[[\"FIPS_code\", \"Area_name\", PIR, \"House_Price\", \"Income\",\"Property_Tax\", \"Labor_Force\", \"Population\", \"Rural_urban\", \"STNAME\"]]\n",
        "\n",
        "# Convert from int to float\n",
        "#merged3['Property_Tax'] = merged3['Property_Tax'].astype(float)\n",
        "merged3 = merged3.astype({'Property_Tax':'float','Population':'float'})\n"
      ]
    },
    {
      "cell_type": "code",
      "source": [
        "merged3.head()"
      ],
      "metadata": {
        "colab": {
          "base_uri": "https://localhost:8080/",
          "height": 206
        },
        "id": "z9YbZBentKx4",
        "outputId": "9ce967a4-190e-4178-bdbf-a0f0035d2ee4"
      },
      "id": "z9YbZBentKx4",
      "execution_count": 364,
      "outputs": [
        {
          "output_type": "execute_result",
          "data": {
            "text/plain": [
              "  FIPS_code           Area_name  Price_Income_Ratio  House_Price   Income  \\\n",
              "0     01001  Autauga County, AL            3.666765     247745.0  67565.0   \n",
              "1     01003  Baldwin County, AL            5.321403     378538.0  71135.0   \n",
              "2     01005  Barbour County, AL            3.543277     137713.0  38866.0   \n",
              "3     01007     Bibb County, AL            3.610918     183821.0  50907.0   \n",
              "4     01009   Blount County, AL            4.809793     265515.0  55203.0   \n",
              "\n",
              "   Property_Tax  Labor_Force  Population  Rural_urban   STNAME  \n",
              "0         491.0      26341.0     59095.0          2.0  Alabama  \n",
              "1         718.0      99427.0    239294.0          3.0  Alabama  \n",
              "2         338.0       8197.0     24964.0          6.0  Alabama  \n",
              "3         263.0       8560.0     22477.0          1.0  Alabama  \n",
              "4         416.0      25127.0     59041.0          1.0  Alabama  "
            ],
            "text/html": [
              "\n",
              "  <div id=\"df-498a0d66-3ab5-4220-87bc-381c7f5eb489\">\n",
              "    <div class=\"colab-df-container\">\n",
              "      <div>\n",
              "<style scoped>\n",
              "    .dataframe tbody tr th:only-of-type {\n",
              "        vertical-align: middle;\n",
              "    }\n",
              "\n",
              "    .dataframe tbody tr th {\n",
              "        vertical-align: top;\n",
              "    }\n",
              "\n",
              "    .dataframe thead th {\n",
              "        text-align: right;\n",
              "    }\n",
              "</style>\n",
              "<table border=\"1\" class=\"dataframe\">\n",
              "  <thead>\n",
              "    <tr style=\"text-align: right;\">\n",
              "      <th></th>\n",
              "      <th>FIPS_code</th>\n",
              "      <th>Area_name</th>\n",
              "      <th>Price_Income_Ratio</th>\n",
              "      <th>House_Price</th>\n",
              "      <th>Income</th>\n",
              "      <th>Property_Tax</th>\n",
              "      <th>Labor_Force</th>\n",
              "      <th>Population</th>\n",
              "      <th>Rural_urban</th>\n",
              "      <th>STNAME</th>\n",
              "    </tr>\n",
              "  </thead>\n",
              "  <tbody>\n",
              "    <tr>\n",
              "      <th>0</th>\n",
              "      <td>01001</td>\n",
              "      <td>Autauga County, AL</td>\n",
              "      <td>3.666765</td>\n",
              "      <td>247745.0</td>\n",
              "      <td>67565.0</td>\n",
              "      <td>491.0</td>\n",
              "      <td>26341.0</td>\n",
              "      <td>59095.0</td>\n",
              "      <td>2.0</td>\n",
              "      <td>Alabama</td>\n",
              "    </tr>\n",
              "    <tr>\n",
              "      <th>1</th>\n",
              "      <td>01003</td>\n",
              "      <td>Baldwin County, AL</td>\n",
              "      <td>5.321403</td>\n",
              "      <td>378538.0</td>\n",
              "      <td>71135.0</td>\n",
              "      <td>718.0</td>\n",
              "      <td>99427.0</td>\n",
              "      <td>239294.0</td>\n",
              "      <td>3.0</td>\n",
              "      <td>Alabama</td>\n",
              "    </tr>\n",
              "    <tr>\n",
              "      <th>2</th>\n",
              "      <td>01005</td>\n",
              "      <td>Barbour County, AL</td>\n",
              "      <td>3.543277</td>\n",
              "      <td>137713.0</td>\n",
              "      <td>38866.0</td>\n",
              "      <td>338.0</td>\n",
              "      <td>8197.0</td>\n",
              "      <td>24964.0</td>\n",
              "      <td>6.0</td>\n",
              "      <td>Alabama</td>\n",
              "    </tr>\n",
              "    <tr>\n",
              "      <th>3</th>\n",
              "      <td>01007</td>\n",
              "      <td>Bibb County, AL</td>\n",
              "      <td>3.610918</td>\n",
              "      <td>183821.0</td>\n",
              "      <td>50907.0</td>\n",
              "      <td>263.0</td>\n",
              "      <td>8560.0</td>\n",
              "      <td>22477.0</td>\n",
              "      <td>1.0</td>\n",
              "      <td>Alabama</td>\n",
              "    </tr>\n",
              "    <tr>\n",
              "      <th>4</th>\n",
              "      <td>01009</td>\n",
              "      <td>Blount County, AL</td>\n",
              "      <td>4.809793</td>\n",
              "      <td>265515.0</td>\n",
              "      <td>55203.0</td>\n",
              "      <td>416.0</td>\n",
              "      <td>25127.0</td>\n",
              "      <td>59041.0</td>\n",
              "      <td>1.0</td>\n",
              "      <td>Alabama</td>\n",
              "    </tr>\n",
              "  </tbody>\n",
              "</table>\n",
              "</div>\n",
              "      <button class=\"colab-df-convert\" onclick=\"convertToInteractive('df-498a0d66-3ab5-4220-87bc-381c7f5eb489')\"\n",
              "              title=\"Convert this dataframe to an interactive table.\"\n",
              "              style=\"display:none;\">\n",
              "        \n",
              "  <svg xmlns=\"http://www.w3.org/2000/svg\" height=\"24px\"viewBox=\"0 0 24 24\"\n",
              "       width=\"24px\">\n",
              "    <path d=\"M0 0h24v24H0V0z\" fill=\"none\"/>\n",
              "    <path d=\"M18.56 5.44l.94 2.06.94-2.06 2.06-.94-2.06-.94-.94-2.06-.94 2.06-2.06.94zm-11 1L8.5 8.5l.94-2.06 2.06-.94-2.06-.94L8.5 2.5l-.94 2.06-2.06.94zm10 10l.94 2.06.94-2.06 2.06-.94-2.06-.94-.94-2.06-.94 2.06-2.06.94z\"/><path d=\"M17.41 7.96l-1.37-1.37c-.4-.4-.92-.59-1.43-.59-.52 0-1.04.2-1.43.59L10.3 9.45l-7.72 7.72c-.78.78-.78 2.05 0 2.83L4 21.41c.39.39.9.59 1.41.59.51 0 1.02-.2 1.41-.59l7.78-7.78 2.81-2.81c.8-.78.8-2.07 0-2.86zM5.41 20L4 18.59l7.72-7.72 1.47 1.35L5.41 20z\"/>\n",
              "  </svg>\n",
              "      </button>\n",
              "      \n",
              "  <style>\n",
              "    .colab-df-container {\n",
              "      display:flex;\n",
              "      flex-wrap:wrap;\n",
              "      gap: 12px;\n",
              "    }\n",
              "\n",
              "    .colab-df-convert {\n",
              "      background-color: #E8F0FE;\n",
              "      border: none;\n",
              "      border-radius: 50%;\n",
              "      cursor: pointer;\n",
              "      display: none;\n",
              "      fill: #1967D2;\n",
              "      height: 32px;\n",
              "      padding: 0 0 0 0;\n",
              "      width: 32px;\n",
              "    }\n",
              "\n",
              "    .colab-df-convert:hover {\n",
              "      background-color: #E2EBFA;\n",
              "      box-shadow: 0px 1px 2px rgba(60, 64, 67, 0.3), 0px 1px 3px 1px rgba(60, 64, 67, 0.15);\n",
              "      fill: #174EA6;\n",
              "    }\n",
              "\n",
              "    [theme=dark] .colab-df-convert {\n",
              "      background-color: #3B4455;\n",
              "      fill: #D2E3FC;\n",
              "    }\n",
              "\n",
              "    [theme=dark] .colab-df-convert:hover {\n",
              "      background-color: #434B5C;\n",
              "      box-shadow: 0px 1px 3px 1px rgba(0, 0, 0, 0.15);\n",
              "      filter: drop-shadow(0px 1px 2px rgba(0, 0, 0, 0.3));\n",
              "      fill: #FFFFFF;\n",
              "    }\n",
              "  </style>\n",
              "\n",
              "      <script>\n",
              "        const buttonEl =\n",
              "          document.querySelector('#df-498a0d66-3ab5-4220-87bc-381c7f5eb489 button.colab-df-convert');\n",
              "        buttonEl.style.display =\n",
              "          google.colab.kernel.accessAllowed ? 'block' : 'none';\n",
              "\n",
              "        async function convertToInteractive(key) {\n",
              "          const element = document.querySelector('#df-498a0d66-3ab5-4220-87bc-381c7f5eb489');\n",
              "          const dataTable =\n",
              "            await google.colab.kernel.invokeFunction('convertToInteractive',\n",
              "                                                     [key], {});\n",
              "          if (!dataTable) return;\n",
              "\n",
              "          const docLinkHtml = 'Like what you see? Visit the ' +\n",
              "            '<a target=\"_blank\" href=https://colab.research.google.com/notebooks/data_table.ipynb>data table notebook</a>'\n",
              "            + ' to learn more about interactive tables.';\n",
              "          element.innerHTML = '';\n",
              "          dataTable['output_type'] = 'display_data';\n",
              "          await google.colab.output.renderOutput(dataTable, element);\n",
              "          const docLink = document.createElement('div');\n",
              "          docLink.innerHTML = docLinkHtml;\n",
              "          element.appendChild(docLink);\n",
              "        }\n",
              "      </script>\n",
              "    </div>\n",
              "  </div>\n",
              "  "
            ]
          },
          "metadata": {},
          "execution_count": 364
        }
      ]
    },
    {
      "cell_type": "markdown",
      "id": "ba78c0e8",
      "metadata": {
        "id": "ba78c0e8"
      },
      "source": [
        "Export to CSV"
      ]
    },
    {
      "cell_type": "code",
      "execution_count": 365,
      "id": "a193144a",
      "metadata": {
        "id": "a193144a"
      },
      "outputs": [],
      "source": [
        "merged3.to_csv('merged.csv', encoding='utf-8', index=False)"
      ]
    },
    {
      "cell_type": "markdown",
      "id": "7862dd89",
      "metadata": {
        "id": "7862dd89"
      },
      "source": [
        "Calculate mean, standard deviation, percentiles, min/max\n",
        "\n",
        "Set as new dataframe and export"
      ]
    },
    {
      "cell_type": "code",
      "execution_count": 411,
      "id": "0ca683c9",
      "metadata": {
        "id": "0ca683c9",
        "colab": {
          "base_uri": "https://localhost:8080/",
          "height": 143
        },
        "outputId": "c47a812f-3443-4488-e8dd-77afa9d3bc49"
      },
      "outputs": [
        {
          "output_type": "execute_result",
          "data": {
            "text/plain": [
              "                             Mean         W_Mean         St_Dev           Min  \\\n",
              "Price_Income_Ratio       4.119392       5.660800       1.883804      1.087423   \n",
              "House_Price         249393.265845  419373.859860  168165.991808  39840.000000   \n",
              "Income               58018.909507   70828.223896   14684.018108  26866.000000   \n",
              "\n",
              "                              25%         Median            75%           Max  \n",
              "Price_Income_Ratio       2.920106       3.692877       4.745922  2.437296e+01  \n",
              "House_Price         146302.000000  203040.500000  302350.750000  2.332809e+06  \n",
              "Income               48286.750000   55627.000000   64502.750000  1.603050e+05  "
            ],
            "text/html": [
              "\n",
              "  <div id=\"df-3d3a2b28-73fd-42b2-a084-d6021e08cf9c\">\n",
              "    <div class=\"colab-df-container\">\n",
              "      <div>\n",
              "<style scoped>\n",
              "    .dataframe tbody tr th:only-of-type {\n",
              "        vertical-align: middle;\n",
              "    }\n",
              "\n",
              "    .dataframe tbody tr th {\n",
              "        vertical-align: top;\n",
              "    }\n",
              "\n",
              "    .dataframe thead th {\n",
              "        text-align: right;\n",
              "    }\n",
              "</style>\n",
              "<table border=\"1\" class=\"dataframe\">\n",
              "  <thead>\n",
              "    <tr style=\"text-align: right;\">\n",
              "      <th></th>\n",
              "      <th>Mean</th>\n",
              "      <th>W_Mean</th>\n",
              "      <th>St_Dev</th>\n",
              "      <th>Min</th>\n",
              "      <th>25%</th>\n",
              "      <th>Median</th>\n",
              "      <th>75%</th>\n",
              "      <th>Max</th>\n",
              "    </tr>\n",
              "  </thead>\n",
              "  <tbody>\n",
              "    <tr>\n",
              "      <th>Price_Income_Ratio</th>\n",
              "      <td>4.119392</td>\n",
              "      <td>5.660800</td>\n",
              "      <td>1.883804</td>\n",
              "      <td>1.087423</td>\n",
              "      <td>2.920106</td>\n",
              "      <td>3.692877</td>\n",
              "      <td>4.745922</td>\n",
              "      <td>2.437296e+01</td>\n",
              "    </tr>\n",
              "    <tr>\n",
              "      <th>House_Price</th>\n",
              "      <td>249393.265845</td>\n",
              "      <td>419373.859860</td>\n",
              "      <td>168165.991808</td>\n",
              "      <td>39840.000000</td>\n",
              "      <td>146302.000000</td>\n",
              "      <td>203040.500000</td>\n",
              "      <td>302350.750000</td>\n",
              "      <td>2.332809e+06</td>\n",
              "    </tr>\n",
              "    <tr>\n",
              "      <th>Income</th>\n",
              "      <td>58018.909507</td>\n",
              "      <td>70828.223896</td>\n",
              "      <td>14684.018108</td>\n",
              "      <td>26866.000000</td>\n",
              "      <td>48286.750000</td>\n",
              "      <td>55627.000000</td>\n",
              "      <td>64502.750000</td>\n",
              "      <td>1.603050e+05</td>\n",
              "    </tr>\n",
              "  </tbody>\n",
              "</table>\n",
              "</div>\n",
              "      <button class=\"colab-df-convert\" onclick=\"convertToInteractive('df-3d3a2b28-73fd-42b2-a084-d6021e08cf9c')\"\n",
              "              title=\"Convert this dataframe to an interactive table.\"\n",
              "              style=\"display:none;\">\n",
              "        \n",
              "  <svg xmlns=\"http://www.w3.org/2000/svg\" height=\"24px\"viewBox=\"0 0 24 24\"\n",
              "       width=\"24px\">\n",
              "    <path d=\"M0 0h24v24H0V0z\" fill=\"none\"/>\n",
              "    <path d=\"M18.56 5.44l.94 2.06.94-2.06 2.06-.94-2.06-.94-.94-2.06-.94 2.06-2.06.94zm-11 1L8.5 8.5l.94-2.06 2.06-.94-2.06-.94L8.5 2.5l-.94 2.06-2.06.94zm10 10l.94 2.06.94-2.06 2.06-.94-2.06-.94-.94-2.06-.94 2.06-2.06.94z\"/><path d=\"M17.41 7.96l-1.37-1.37c-.4-.4-.92-.59-1.43-.59-.52 0-1.04.2-1.43.59L10.3 9.45l-7.72 7.72c-.78.78-.78 2.05 0 2.83L4 21.41c.39.39.9.59 1.41.59.51 0 1.02-.2 1.41-.59l7.78-7.78 2.81-2.81c.8-.78.8-2.07 0-2.86zM5.41 20L4 18.59l7.72-7.72 1.47 1.35L5.41 20z\"/>\n",
              "  </svg>\n",
              "      </button>\n",
              "      \n",
              "  <style>\n",
              "    .colab-df-container {\n",
              "      display:flex;\n",
              "      flex-wrap:wrap;\n",
              "      gap: 12px;\n",
              "    }\n",
              "\n",
              "    .colab-df-convert {\n",
              "      background-color: #E8F0FE;\n",
              "      border: none;\n",
              "      border-radius: 50%;\n",
              "      cursor: pointer;\n",
              "      display: none;\n",
              "      fill: #1967D2;\n",
              "      height: 32px;\n",
              "      padding: 0 0 0 0;\n",
              "      width: 32px;\n",
              "    }\n",
              "\n",
              "    .colab-df-convert:hover {\n",
              "      background-color: #E2EBFA;\n",
              "      box-shadow: 0px 1px 2px rgba(60, 64, 67, 0.3), 0px 1px 3px 1px rgba(60, 64, 67, 0.15);\n",
              "      fill: #174EA6;\n",
              "    }\n",
              "\n",
              "    [theme=dark] .colab-df-convert {\n",
              "      background-color: #3B4455;\n",
              "      fill: #D2E3FC;\n",
              "    }\n",
              "\n",
              "    [theme=dark] .colab-df-convert:hover {\n",
              "      background-color: #434B5C;\n",
              "      box-shadow: 0px 1px 3px 1px rgba(0, 0, 0, 0.15);\n",
              "      filter: drop-shadow(0px 1px 2px rgba(0, 0, 0, 0.3));\n",
              "      fill: #FFFFFF;\n",
              "    }\n",
              "  </style>\n",
              "\n",
              "      <script>\n",
              "        const buttonEl =\n",
              "          document.querySelector('#df-3d3a2b28-73fd-42b2-a084-d6021e08cf9c button.colab-df-convert');\n",
              "        buttonEl.style.display =\n",
              "          google.colab.kernel.accessAllowed ? 'block' : 'none';\n",
              "\n",
              "        async function convertToInteractive(key) {\n",
              "          const element = document.querySelector('#df-3d3a2b28-73fd-42b2-a084-d6021e08cf9c');\n",
              "          const dataTable =\n",
              "            await google.colab.kernel.invokeFunction('convertToInteractive',\n",
              "                                                     [key], {});\n",
              "          if (!dataTable) return;\n",
              "\n",
              "          const docLinkHtml = 'Like what you see? Visit the ' +\n",
              "            '<a target=\"_blank\" href=https://colab.research.google.com/notebooks/data_table.ipynb>data table notebook</a>'\n",
              "            + ' to learn more about interactive tables.';\n",
              "          element.innerHTML = '';\n",
              "          dataTable['output_type'] = 'display_data';\n",
              "          await google.colab.output.renderOutput(dataTable, element);\n",
              "          const docLink = document.createElement('div');\n",
              "          docLink.innerHTML = docLinkHtml;\n",
              "          element.appendChild(docLink);\n",
              "        }\n",
              "      </script>\n",
              "    </div>\n",
              "  </div>\n",
              "  "
            ]
          },
          "metadata": {},
          "execution_count": 411
        }
      ],
      "source": [
        "#Housing Price\n",
        "HP_mean = np.mean(merged3['House_Price'])\n",
        "HP_Wmean = (merged3['House_Price']*merged3['Population']).sum()/merged3['Population'].sum()\n",
        "HP_SD = np.std(merged3['House_Price'])\n",
        "HP_min = merged3['House_Price'].quantile(q=0)\n",
        "HP_25 = merged3['House_Price'].quantile(q=0.25)\n",
        "HP_50 = merged3['House_Price'].quantile(q=0.50)\n",
        "HP_75 = merged3['House_Price'].quantile(q=0.75)\n",
        "HP_max = merged3['House_Price'].quantile(q=1)\n",
        "\n",
        "#Median Income\n",
        "INC_mean = np.mean(merged3['Income'])\n",
        "INC_Wmean = (merged3['Income']*merged3['Population']).sum()/merged3['Population'].sum()\n",
        "INC_SD = np.std(merged3['Income'])\n",
        "INC_min = merged3['Income'].quantile(q=0)\n",
        "INC_25 = merged3['Income'].quantile(q=0.25)\n",
        "INC_50 = merged3['Income'].quantile(q=0.50)\n",
        "INC_75 = merged3['Income'].quantile(q=0.75)\n",
        "INC_max = merged3['Income'].quantile(q=1)\n",
        "\n",
        "#Price to Income Ratio\n",
        "PIR_mean = np.mean(merged3[PIR])\n",
        "PIR_Wmean = (merged3[PIR]*merged3['Population']).sum()/merged3['Population'].sum()\n",
        "PIR_SD = np.std(merged3[PIR])\n",
        "PIR_min = merged3[PIR].quantile(q=0)\n",
        "PIR_25 = merged3[PIR].quantile(q=0.25)\n",
        "PIR_50 = merged3[PIR].quantile(q=0.50)\n",
        "PIR_75 = merged3[PIR].quantile(q=0.75)\n",
        "PIR_max = merged3[PIR].quantile(q=1)\n",
        "\n",
        "#Merge all stats into new statsdf dataframe with headers\n",
        "statsdf = pd.DataFrame(columns=[\"Mean\", \"W_Mean\", \"St_Dev\", \"Min\", \"25%\", \"Median\", \"75%\", \"Max\"])\n",
        "statsdf.loc['Price_Income_Ratio'] = [PIR_mean, PIR_Wmean, PIR_SD, PIR_min, PIR_25, PIR_50, PIR_75, PIR_max]\n",
        "statsdf.loc['House_Price'] = [HP_mean, HP_Wmean, HP_SD, HP_min, HP_25, HP_50, HP_75, HP_max]\n",
        "statsdf.loc['Income'] = [INC_mean, INC_Wmean, INC_SD, INC_min, INC_25, INC_50, INC_75, INC_max]\n",
        "# Preview\n",
        "statsdf"
      ]
    },
    {
      "cell_type": "code",
      "source": [
        "# Export\n",
        "statsdf.to_csv('stats.csv', index=False)"
      ],
      "metadata": {
        "id": "8WfGBZoJ5eUU"
      },
      "id": "8WfGBZoJ5eUU",
      "execution_count": 412,
      "outputs": []
    },
    {
      "cell_type": "markdown",
      "source": [
        "Create Large Color-Coded Scatterplot with Highlighted Counties"
      ],
      "metadata": {
        "id": "bIb83GAjQ52H"
      },
      "id": "bIb83GAjQ52H"
    },
    {
      "cell_type": "code",
      "execution_count": 413,
      "id": "34927224",
      "metadata": {
        "colab": {
          "base_uri": "https://localhost:8080/",
          "height": 893
        },
        "id": "34927224",
        "outputId": "d215196a-3f1b-4d58-e524-134961d6cf58"
      },
      "outputs": [
        {
          "output_type": "display_data",
          "data": {
            "text/plain": [
              "<Figure size 1440x1080 with 1 Axes>"
            ],
            "image/png": "[encoded data removed]"
          },
          "metadata": {
            "needs_background": "light"
          }
        }
      ],
      "source": [
        "#Calculate value arrays to use for colors and sizes\n",
        "colors = merged3[\"Price_Income_Ratio\"].apply(lambda x: math.log((1/x)))\n",
        "sizes = (merged3[\"Population\"])**1.4/1000000\n",
        "\n",
        "# Create initial graph\n",
        "plt.rcParams[\"figure.figsize\"] = (20,15)\n",
        "plt.scatter(merged3['Income'], merged3['House_Price'], c=colors, cmap='Spectral', s=sizes, edgecolors=\"None\")\n",
        "plt.xlabel('Median Household Income')\n",
        "plt.ylabel('Median House Price x $1million')\n",
        "plt.title('Housing Price to Income by County')\n",
        "\n",
        "# Add selected counties to list after a validity check\n",
        "county_list = []\n",
        "county_names = ['Los Angeles County, CA', 'Cook County, IL', 'Lake County, IL', 'Middlesex County, NJ', 'New York County, NY', 'Miami-Dade County, FL',   'Wayne County, MI', 'Hillsborough County, FL',  'Bronx County, NY', 'Hillsborough County, NH', 'Loudoun County, VA', 'Erie County, NY', 'Multnomah County, OR', 'Nantucket County/town, MA', 'Wyoming County, WV']\n",
        "for row in merged3.index: \n",
        "    if merged3.iloc[row][\"Area_name\"] in county_names:\n",
        "        county_list.append(row)\n",
        "        \n",
        "# Annotate selected counties\n",
        "for i in county_list:\n",
        "    plt.annotate(merged3.iloc[i]['Area_name'], (merged3.iloc[i]['Income']+(math.sqrt(sizes[i])*80), merged3.iloc[i]['House_Price']+math.sqrt(sizes[i])*20), fontsize=8)\n",
        "    plt.scatter(merged3.iloc[i]['Income'], merged3.iloc[i]['House_Price'], s=sizes[i], c='None', edgecolor='black')\n",
        "\n",
        "plt.savefig('Price_to_Income_scatter1.png')\n"
      ]
    },
    {
      "cell_type": "code",
      "source": [],
      "metadata": {
        "id": "11NzOkn6uzqu"
      },
      "id": "11NzOkn6uzqu",
      "execution_count": 413,
      "outputs": []
    },
    {
      "cell_type": "markdown",
      "source": [
        "Generate Regression Model"
      ],
      "metadata": {
        "id": "oIb2hJFaOsCh"
      },
      "id": "oIb2hJFaOsCh"
    },
    {
      "cell_type": "code",
      "source": [
        "X = merged3[[\"Income\",\"Population\",\"Property_Tax\", \"STNAME\"]]\n",
        "y = merged3[[\"House_Price\"]]\n",
        "\n",
        "# Create the linear regression model\n",
        "model = LinearRegression()\n",
        "\n",
        "# Create dummy variables for the categorical features \"Rural_urban\" and \"STNAME\"\n",
        "#X = pd.get_dummies(X, columns=[\"Rural_urban\"])\n",
        "X = pd.get_dummies(X, columns=[\"STNAME\"])\n",
        "\n",
        "# Fit the model to the data\n",
        "model.fit(X, y)\n",
        "\n",
        "# Make predictions using the model\n",
        "y_pred = model.predict(X)\n",
        "\n",
        "\n",
        "\n"
      ],
      "metadata": {
        "id": "XVHKcFr38ydC"
      },
      "id": "XVHKcFr38ydC",
      "execution_count": 414,
      "outputs": []
    },
    {
      "cell_type": "code",
      "source": [
        "# Add a constant to the predictor variables\n",
        "X = sm.add_constant(X)\n",
        "\n",
        "# Fit the model using the OLS (ordinary least squares) method\n",
        "model = sm.OLS(y, X).fit()\n",
        "\n",
        "# Print the summary statistics\n",
        "print(model.summary())"
      ],
      "metadata": {
        "colab": {
          "base_uri": "https://localhost:8080/"
        },
        "id": "xwma9q9v8jOA",
        "outputId": "c079bf0d-60d2-4bba-a963-23c1133ca6fc"
      },
      "id": "xwma9q9v8jOA",
      "execution_count": 415,
      "outputs": [
        {
          "output_type": "stream",
          "name": "stdout",
          "text": [
            "                            OLS Regression Results                            \n",
            "==============================================================================\n",
            "Dep. Variable:            House_Price   R-squared:                       0.750\n",
            "Model:                            OLS   Adj. R-squared:                  0.746\n",
            "Method:                 Least Squares   F-statistic:                     158.0\n",
            "Date:                Tue, 24 Jan 2023   Prob (F-statistic):               0.00\n",
            "Time:                        03:59:52   Log-Likelihood:                -36232.\n",
            "No. Observations:                2840   AIC:                         7.257e+04\n",
            "Df Residuals:                    2786   BIC:                         7.289e+04\n",
            "Df Model:                          53                                         \n",
            "Covariance Type:            nonrobust                                         \n",
            "===============================================================================================\n",
            "                                  coef    std err          t      P>|t|      [0.025      0.975]\n",
            "-----------------------------------------------------------------------------------------------\n",
            "const                       -7.957e+04   8807.185     -9.034      0.000   -9.68e+04   -6.23e+04\n",
            "Income                          4.4759      0.193     23.159      0.000       4.097       4.855\n",
            "Population                      0.0060      0.005      1.127      0.260      -0.004       0.016\n",
            "Property_Tax                   52.9103      2.978     17.768      0.000      47.071      58.749\n",
            "STNAME_Alabama               7132.5482   1.14e+04      0.628      0.530   -1.52e+04    2.94e+04\n",
            "STNAME_Alaska               -8.861e+04   3.17e+04     -2.797      0.005   -1.51e+05   -2.65e+04\n",
            "STNAME_Arizona               1.258e+05   2.19e+04      5.741      0.000    8.28e+04    1.69e+05\n",
            "STNAME_Arkansas             -2.152e+04   1.05e+04     -2.045      0.041   -4.21e+04    -884.329\n",
            "STNAME_California            1.918e+05    1.2e+04     15.949      0.000    1.68e+05    2.15e+05\n",
            "STNAME_Colorado              1.789e+05   1.12e+04     15.916      0.000    1.57e+05    2.01e+05\n",
            "STNAME_Connecticut          -2.226e+05   3.06e+04     -7.275      0.000   -2.83e+05   -1.63e+05\n",
            "STNAME_Delaware               6.32e+04   4.83e+04      1.310      0.190   -3.14e+04    1.58e+05\n",
            "STNAME_District of Columbia  1.393e+05   8.34e+04      1.671      0.095   -2.41e+04    3.03e+05\n",
            "STNAME_Florida               7.998e+04   1.07e+04      7.460      0.000     5.9e+04    1.01e+05\n",
            "STNAME_Georgia              -8820.3154   7394.206     -1.193      0.233   -2.33e+04    5678.360\n",
            "STNAME_Hawaii                5.494e+05    4.2e+04     13.066      0.000    4.67e+05    6.32e+05\n",
            "STNAME_Idaho                 1.592e+05   1.33e+04     11.966      0.000    1.33e+05    1.85e+05\n",
            "STNAME_Illinois             -1.896e+05   9151.075    -20.720      0.000   -2.08e+05   -1.72e+05\n",
            "STNAME_Indiana              -4.409e+04   9686.045     -4.552      0.000   -6.31e+04   -2.51e+04\n",
            "STNAME_Iowa                 -1.303e+05   8901.156    -14.641      0.000   -1.48e+05   -1.13e+05\n",
            "STNAME_Kansas               -1.228e+05   1.07e+04    -11.429      0.000   -1.44e+05   -1.02e+05\n",
            "STNAME_Kentucky               -3.5e+04   8619.529     -4.061      0.000   -5.19e+04   -1.81e+04\n",
            "STNAME_Louisiana              460.2137   1.14e+04      0.040      0.968   -2.19e+04    2.28e+04\n",
            "STNAME_Maine                  -44.0026   2.11e+04     -0.002      0.998   -4.13e+04    4.13e+04\n",
            "STNAME_Maryland             -8.904e+04   1.74e+04     -5.106      0.000   -1.23e+05   -5.49e+04\n",
            "STNAME_Massachusetts         1.629e+05   2.29e+04      7.105      0.000    1.18e+05    2.08e+05\n",
            "STNAME_Michigan             -6.747e+04   9669.776     -6.977      0.000   -8.64e+04   -4.85e+04\n",
            "STNAME_Minnesota            -7.599e+04   9528.208     -7.975      0.000   -9.47e+04   -5.73e+04\n",
            "STNAME_Mississippi          -2.301e+04   1.09e+04     -2.105      0.035   -4.45e+04   -1571.891\n",
            "STNAME_Missouri             -2.541e+04   8775.815     -2.895      0.004   -4.26e+04   -8201.318\n",
            "STNAME_Montana               1.195e+05   1.42e+04      8.418      0.000    9.17e+04    1.47e+05\n",
            "STNAME_Nebraska             -1.036e+05   1.12e+04     -9.212      0.000   -1.26e+05   -8.15e+04\n",
            "STNAME_Nevada                 6.73e+04   2.13e+04      3.167      0.002    2.56e+04    1.09e+05\n",
            "STNAME_New Hampshire        -1.321e+05   2.75e+04     -4.802      0.000   -1.86e+05   -7.82e+04\n",
            "STNAME_New Jersey           -2.839e+05   2.32e+04    -12.235      0.000   -3.29e+05   -2.38e+05\n",
            "STNAME_New Mexico            3.828e+04    1.7e+04      2.246      0.025    4866.962    7.17e+04\n",
            "STNAME_New York             -1.395e+05   1.24e+04    -11.238      0.000   -1.64e+05   -1.15e+05\n",
            "STNAME_North Carolina        4.155e+04   9035.494      4.598      0.000    2.38e+04    5.93e+04\n",
            "STNAME_North Dakota         -8.722e+04   1.73e+04     -5.028      0.000   -1.21e+05   -5.32e+04\n",
            "STNAME_Ohio                 -8.569e+04   9358.558     -9.156      0.000   -1.04e+05   -6.73e+04\n",
            "STNAME_Oklahoma              -5.49e+04   1.05e+04     -5.230      0.000   -7.55e+04   -3.43e+04\n",
            "STNAME_Oregon                7.976e+04   1.42e+04      5.611      0.000    5.19e+04    1.08e+05\n",
            "STNAME_Pennsylvania         -1.027e+05   1.06e+04     -9.658      0.000   -1.24e+05   -8.19e+04\n",
            "STNAME_Rhode Island         -2.859e+04   3.77e+04     -0.757      0.449   -1.03e+05    4.54e+04\n",
            "STNAME_South Carolina        2.878e+04    1.3e+04      2.206      0.027    3199.677    5.44e+04\n",
            "STNAME_South Dakota         -4.742e+04   1.55e+04     -3.062      0.002   -7.78e+04   -1.71e+04\n",
            "STNAME_Tennessee             3.291e+04   9379.499      3.508      0.000    1.45e+04    5.13e+04\n",
            "STNAME_Texas                -5.883e+04   6468.832     -9.094      0.000   -7.15e+04   -4.61e+04\n",
            "STNAME_Utah                  1.781e+05   1.79e+04      9.950      0.000    1.43e+05    2.13e+05\n",
            "STNAME_Vermont              -8.765e+04   2.33e+04     -3.767      0.000   -1.33e+05    -4.2e+04\n",
            "STNAME_Virginia             -1.165e+04   7970.468     -1.461      0.144   -2.73e+04    3980.922\n",
            "STNAME_Washington            1.144e+05   1.37e+04      8.366      0.000    8.76e+04    1.41e+05\n",
            "STNAME_West Virginia        -4.061e+04   1.25e+04     -3.256      0.001   -6.51e+04   -1.62e+04\n",
            "STNAME_Wisconsin            -1.115e+05   1.04e+04    -10.674      0.000   -1.32e+05    -9.1e+04\n",
            "STNAME_Wyoming               8.213e+04   1.86e+04      4.423      0.000    4.57e+04    1.19e+05\n",
            "==============================================================================\n",
            "Omnibus:                     3320.199   Durbin-Watson:                   2.124\n",
            "Prob(Omnibus):                  0.000   Jarque-Bera (JB):           851334.579\n",
            "Skew:                           5.706   Prob(JB):                         0.00\n",
            "Kurtosis:                      87.048   Cond. No.                     2.61e+17\n",
            "==============================================================================\n",
            "\n",
            "Notes:\n",
            "[1] Standard Errors assume that the covariance matrix of the errors is correctly specified.\n",
            "[2] The smallest eigenvalue is 5.67e-21. This might indicate that there are\n",
            "strong multicollinearity problems or that the design matrix is singular.\n"
          ]
        },
        {
          "output_type": "stream",
          "name": "stderr",
          "text": [
            "/usr/local/lib/python3.8/dist-packages/statsmodels/tsa/tsatools.py:142: FutureWarning: In a future version of pandas all arguments of concat except for the argument 'objs' will be keyword-only\n",
            "  x = pd.concat(x[::order], 1)\n"
          ]
        }
      ]
    },
    {
      "cell_type": "code",
      "source": [
        "plt.rcParams[\"figure.figsize\"] = (10,6)"
      ],
      "metadata": {
        "id": "L-3DK4huFGkQ"
      },
      "id": "L-3DK4huFGkQ",
      "execution_count": 416,
      "outputs": []
    },
    {
      "cell_type": "markdown",
      "source": [
        "Plot Regression Model"
      ],
      "metadata": {
        "id": "xqwdzp0QOnb2"
      },
      "id": "xqwdzp0QOnb2"
    },
    {
      "cell_type": "code",
      "source": [
        "# Plot the data and the predictions\n",
        "plt.scatter(X[\"Income\"], y, color='b')\n",
        "plt.scatter(X[\"Income\"], y_pred, color='r')\n",
        "plt.xlabel(\"Income\")\n",
        "plt.ylabel(\"House Price\")\n",
        "plt.show()\n"
      ],
      "metadata": {
        "colab": {
          "base_uri": "https://localhost:8080/",
          "height": 399
        },
        "id": "LU7kDr_v8i82",
        "outputId": "706607d2-3ab4-42f2-d2c7-b411ff5fceb1"
      },
      "id": "LU7kDr_v8i82",
      "execution_count": 417,
      "outputs": [
        {
          "output_type": "display_data",
          "data": {
            "text/plain": [
              "<Figure size 720x432 with 1 Axes>"
            ],
            "image/png": "[encoded data removed]"
          },
          "metadata": {
            "needs_background": "light"
          }
        }
      ]
    },
    {
      "cell_type": "code",
      "source": [
        "\n",
        "plt.scatter(X[\"Population\"], y, color='b')\n",
        "plt.scatter(X[\"Population\"], y_pred, color='r')\n",
        "plt.xlabel(\"Population\")\n",
        "plt.ylabel(\"House Price\")\n",
        "plt.show()"
      ],
      "metadata": {
        "colab": {
          "base_uri": "https://localhost:8080/",
          "height": 399
        },
        "id": "j38wGNuY9a9k",
        "outputId": "6d9a339c-134f-4eda-aa25-86dca7ec0752"
      },
      "id": "j38wGNuY9a9k",
      "execution_count": 418,
      "outputs": [
        {
          "output_type": "display_data",
          "data": {
            "text/plain": [
              "<Figure size 720x432 with 1 Axes>"
            ],
            "image/png": "[encoded data removed]"
          },
          "metadata": {
            "needs_background": "light"
          }
        }
      ]
    },
    {
      "cell_type": "code",
      "source": [
        "# Calculate the residuals\n",
        "residuals = y_pred - y\n",
        "\n",
        "# Plot the residuals\n",
        "plt.scatter(X[\"Income\"], residuals, color = 'b')\n",
        "plt.xlabel(\"Income\")\n",
        "plt.ylabel(\"Residuals\")\n",
        "#plt.show()\n",
        "\n"
      ],
      "metadata": {
        "colab": {
          "base_uri": "https://localhost:8080/",
          "height": 416
        },
        "id": "gYE6AJRuxzLE",
        "outputId": "6e2112a3-842e-4183-9fbf-a5b5ad25d09e"
      },
      "id": "gYE6AJRuxzLE",
      "execution_count": 419,
      "outputs": [
        {
          "output_type": "execute_result",
          "data": {
            "text/plain": [
              "Text(0, 0.5, 'Residuals')"
            ]
          },
          "metadata": {},
          "execution_count": 419
        },
        {
          "output_type": "display_data",
          "data": {
            "text/plain": [
              "<Figure size 720x432 with 1 Axes>"
            ],
            "image/png": "[encoded data removed]"
          },
          "metadata": {
            "needs_background": "light"
          }
        }
      ]
    },
    {
      "cell_type": "code",
      "execution_count": 420,
      "id": "30f57702",
      "metadata": {
        "colab": {
          "base_uri": "https://localhost:8080/",
          "height": 404
        },
        "id": "30f57702",
        "outputId": "ccc5ae14-a031-47a2-bed7-98c037eafa97"
      },
      "outputs": [
        {
          "output_type": "display_data",
          "data": {
            "text/plain": [
              "<Figure size 720x432 with 1 Axes>"
            ],
            "image/png": "[encoded data removed]"
          },
          "metadata": {
            "needs_background": "light"
          }
        }
      ],
      "source": [
        "# Per County Housing Cost\n",
        "plt.hist(merged3[\"House_Price\"], 100, facecolor='r', alpha=.75)\n",
        "plt.xlabel('Housing Cost ($million)')\n",
        "plt.ylabel('Count')\n",
        "plt.title('Per County Housing Cost')\n",
        "\n",
        "plt.axvline(HP_mean, color='black')\n",
        "txt = f'$\\mu={HP_mean:.0f},\\ \\sigma={HP_SD:.0f}$\\n Median: {HP_50:.0f}'\n",
        "plt.text(1000000, 200, txt)\n",
        "\n",
        "plt.savefig('House_cost.png')\n",
        "plt.show()"
      ]
    },
    {
      "cell_type": "code",
      "execution_count": 421,
      "id": "6e912305",
      "metadata": {
        "id": "6e912305",
        "colab": {
          "base_uri": "https://localhost:8080/",
          "height": 404
        },
        "outputId": "33282116-82ee-4f5f-ab7b-3971deb0a424"
      },
      "outputs": [
        {
          "output_type": "display_data",
          "data": {
            "text/plain": [
              "<Figure size 720x432 with 1 Axes>"
            ],
            "image/png": "[encoded data removed]"
          },
          "metadata": {
            "needs_background": "light"
          }
        }
      ],
      "source": [
        "plt.hist(merged3[\"House_Price\"], 100, facecolor='r', alpha=.75, weights=merged3[\"Labor_Force\"])\n",
        "plt.xlabel('County Housing Cost x $1 million')\n",
        "plt.ylabel('Weighted Count')\n",
        "plt.title('Population-Weighted County Housing Cost')\n",
        "\n",
        "plt.axvline(HP_Wmean, color='black')\n",
        "txt = f'$\\mu={HP_mean:.0f},\\ \\sigma={HP_SD:.0f}$\\n Median: {HP_50:.0f}'\n",
        "plt.text(1000000, 6000000, txt)\n",
        "\n",
        "plt.savefig('House_cost_weighted')\n",
        "plt.show()"
      ]
    },
    {
      "cell_type": "markdown",
      "id": "d4c31c49",
      "metadata": {
        "id": "d4c31c49"
      },
      "source": [
        "Plot Histogram of Price-to-Income Ratios"
      ]
    },
    {
      "cell_type": "code",
      "execution_count": 422,
      "id": "72fb03ae",
      "metadata": {
        "colab": {
          "base_uri": "https://localhost:8080/",
          "height": 404
        },
        "id": "72fb03ae",
        "outputId": "b3ba26f9-b1b4-4df7-f22e-d02f6f1a36ae"
      },
      "outputs": [
        {
          "output_type": "display_data",
          "data": {
            "text/plain": [
              "<Figure size 720x432 with 1 Axes>"
            ],
            "image/png": "[encoded data removed]"
          },
          "metadata": {
            "needs_background": "light"
          }
        }
      ],
      "source": [
        "plt.hist(merged3[\"Income\"], 100, facecolor='g', alpha=.75)\n",
        "plt.xlabel('County Income')\n",
        "plt.ylabel('Count')\n",
        "plt.title('Per-County Income Distribution')\n",
        "plt.axvline(US_MHI, color='black')\n",
        "txt = f'$\\mu={INC_mean:.0f},\\ \\sigma={INC_SD:.0f}$\\n Median: {INC_50:.0f}'\n",
        "plt.text(100000, 100, txt)\n",
        "plt.savefig('Income.png')\n",
        "plt.show()"
      ]
    },
    {
      "cell_type": "code",
      "execution_count": 423,
      "id": "3d5b6fd4",
      "metadata": {
        "colab": {
          "base_uri": "https://localhost:8080/",
          "height": 404
        },
        "id": "3d5b6fd4",
        "outputId": "a8107dd8-5159-4890-c839-c65b72aaf3af"
      },
      "outputs": [
        {
          "output_type": "display_data",
          "data": {
            "text/plain": [
              "<Figure size 720x432 with 1 Axes>"
            ],
            "image/png": "[encoded data removed]"
          },
          "metadata": {
            "needs_background": "light"
          }
        }
      ],
      "source": [
        "plt.hist(merged3[\"Income\"], 100, facecolor='g', alpha=.75, weights=merged3[\"Labor_Force\"])\n",
        "plt.xlabel('Income ($)')\n",
        "plt.ylabel('Weighted Count')\n",
        "plt.title('Population-Weighted County Income Distribution')\n",
        "plt.axvline(US_MHI, color='black')\n",
        "txt = f'$\\mu={INC_mean:.0f},\\ \\sigma={INC_SD:.0f}$\\n Median: {INC_50:.0f}'\n",
        "plt.text(100000, 6000000, txt)\n",
        "plt.savefig('Income_weighted.png')\n",
        "plt.show()"
      ]
    },
    {
      "cell_type": "code",
      "execution_count": 424,
      "id": "755919af",
      "metadata": {
        "colab": {
          "base_uri": "https://localhost:8080/",
          "height": 295
        },
        "id": "755919af",
        "outputId": "ea3605fe-99d6-402c-8888-9af38c780c2a"
      },
      "outputs": [
        {
          "output_type": "display_data",
          "data": {
            "text/plain": [
              "<Figure size 864x288 with 1 Axes>"
            ],
            "image/png": "[encoded data removed]"
          },
          "metadata": {
            "needs_background": "light"
          }
        }
      ],
      "source": [
        "plt.rcParams[\"figure.figsize\"] = (12,4)\n",
        "\n",
        "plt.hist(merged3[PIR], 100, facecolor='b', alpha=.75)\n",
        "\n",
        "\n",
        "plt.xlabel('Price to Income Ratio')\n",
        "plt.ylabel('Count')\n",
        "plt.title('Per-County Price to Income Ratio Distribution')\n",
        "plt.axvline(PIR_mean, color='black')\n",
        "#plt.axvline(PIR_50, color='black')\n",
        "#plt.axvline(PIR_75, color='black')\n",
        "\n",
        "\n",
        "txt = f'$\\mu={PIR_mean:.3f},\\ \\sigma={PIR_SD:.3f}$\\n Median: {PIR_50:.3f}'\n",
        "plt.text(10, 100, txt)\n",
        "plt.savefig('PIR.png')\n",
        "plt.show()"
      ]
    },
    {
      "cell_type": "code",
      "execution_count": 425,
      "id": "7a0dfe9b",
      "metadata": {
        "colab": {
          "base_uri": "https://localhost:8080/",
          "height": 295
        },
        "id": "7a0dfe9b",
        "outputId": "6d678325-5698-4e1b-dcb4-26b7f955362e"
      },
      "outputs": [
        {
          "output_type": "display_data",
          "data": {
            "text/plain": [
              "<Figure size 864x288 with 1 Axes>"
            ],
            "image/png": "[encoded data removed]"
          },
          "metadata": {
            "needs_background": "light"
          }
        }
      ],
      "source": [
        "plt.hist(merged3[PIR], 100, facecolor='b', alpha=.75, weights=merged3[\"Labor_Force\"])\n",
        "\n",
        "\n",
        "plt.xlabel('Price to Income Ratio')\n",
        "plt.ylabel('Weighted Count')\n",
        "plt.title('Population-Weighted County Price to Income Ratio Distribution')\n",
        "plt.axvline(PIR_mean, color='black')\n",
        "#plt.axvline(PIR_50, color='black')\n",
        "#plt.axvline(PIR_75, color='black')\n",
        "txt = f'$\\mu={PIR_mean:.3f},\\ \\sigma={PIR_SD:.3f}$\\n Median: {PIR_50:.3f}'\n",
        "plt.text(10, 9000000, txt)\n",
        "plt.savefig('PIR_weighted.png')\n",
        "plt.show()"
      ]
    },
    {
      "cell_type": "code",
      "execution_count": 425,
      "id": "5018075b",
      "metadata": {
        "id": "5018075b"
      },
      "outputs": [],
      "source": []
    },
    {
      "cell_type": "code",
      "execution_count": 426,
      "id": "5a0b5190",
      "metadata": {
        "id": "5a0b5190",
        "colab": {
          "base_uri": "https://localhost:8080/",
          "height": 265
        },
        "outputId": "1a7b0a78-2f45-4bb8-d2db-eb257ef29f38"
      },
      "outputs": [
        {
          "output_type": "display_data",
          "data": {
            "text/plain": [
              "<Figure size 864x288 with 1 Axes>"
            ],
            "image/png": "[encoded data removed]"
          },
          "metadata": {
            "needs_background": "light"
          }
        }
      ],
      "source": [
        "n, bins, patches = plt.hist(merged3[\"Rural_urban\"], 100, alpha=.75)"
      ]
    }
  ],
  "metadata": {
    "colab": {
      "provenance": []
    },
    "kernelspec": {
      "display_name": "Python 3.10.4 64-bit",
      "language": "python",
      "name": "python3"
    },
    "language_info": {
      "codemirror_mode": {
        "name": "ipython",
        "version": 3
      },
      "file_extension": ".py",
      "mimetype": "text/x-python",
      "name": "python",
      "nbconvert_exporter": "python",
      "pygments_lexer": "ipython3",
      "version": "3.10.4"
    },
    "vscode": {
      "interpreter": {
        "hash": "91b0f9611463a9792426a975c97491acda42d543aee915178ee5e41afe7161ad"
      }
    }
  },
  "nbformat": 4,
  "nbformat_minor": 5
}