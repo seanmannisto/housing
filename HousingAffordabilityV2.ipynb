{
  "cells": [
    {
      "cell_type": "markdown",
      "id": "a0f22662",
      "metadata": {
        "id": "a0f22662"
      },
      "source": [
        "## Housing Affordability"
      ]
    },
    {
      "cell_type": "markdown",
      "id": "ef7ea448",
      "metadata": {
        "id": "ef7ea448"
      },
      "source": [
        "##### Original Datasets:\n",
        "###### Zillow \"Housing Value Index All Homes Time Series Smoothed Seasonally Adjusted\"\n",
        "###### https://www.zillow.com/research/data/\n",
        "###### USDA \"Unemployment and median household income for the U.S., States, and counties, 2000-2021\" \n",
        "###### https://www.ers.usda.gov/data-products/county-level-data-sets/county-level-data-sets-download-data/\n",
        "###### US Census \"Annual County Resident Population Estimates by Age, Sex, Race, and Hispanic Origin: April 1, 2020 to July 1, 2021\"\n",
        "###### https://www2.census.gov/programs-surveys/popest/datasets/2020-2021/counties/asrh/cc-est2021-agesex-all.csv\n",
        "\n"
      ]
    },
    {
      "cell_type": "markdown",
      "id": "6c214126",
      "metadata": {
        "id": "6c214126"
      },
      "source": [
        "Load in libraries"
      ]
    },
    {
      "cell_type": "code",
      "execution_count": null,
      "id": "2353e8c6",
      "metadata": {
        "id": "2353e8c6",
        "scrolled": true
      },
      "outputs": [],
      "source": [
        "import pandas as pd\n",
        "import numpy as np\n",
        "import math\n",
        "\n",
        "from matplotlib import pyplot as plt\n",
        "\n",
        "import sklearn\n"
      ]
    },
    {
      "cell_type": "code",
      "source": [
        "!pip install colorspacious\n",
        "from colorspacious import cspace_converter"
      ],
      "metadata": {
        "colab": {
          "base_uri": "https://localhost:8080/"
        },
        "id": "mjuIvnG3B8MV",
        "outputId": "4fd75216-89a4-47f5-e0a8-bfcf01f7101d"
      },
      "id": "mjuIvnG3B8MV",
      "execution_count": null,
      "outputs": [
        {
          "output_type": "stream",
          "name": "stdout",
          "text": [
            "Looking in indexes: https://pypi.org/simple, https://us-python.pkg.dev/colab-wheels/public/simple/\n",
            "Requirement already satisfied: colorspacious in /usr/local/lib/python3.8/dist-packages (1.1.2)\n",
            "Requirement already satisfied: numpy in /usr/local/lib/python3.8/dist-packages (from colorspacious) (1.21.6)\n"
          ]
        }
      ]
    },
    {
      "cell_type": "markdown",
      "id": "bd54d9e8",
      "metadata": {
        "id": "bd54d9e8"
      },
      "source": [
        "Download and read in USDA employment and income CSV to dataframe"
      ]
    },
    {
      "cell_type": "code",
      "execution_count": null,
      "id": "ff89e998",
      "metadata": {
        "id": "ff89e998"
      },
      "outputs": [],
      "source": [
        "# The first 3 rows are source information, so header index set to start at row 4.\n",
        "unemployment = pd.read_excel(\"https://www.ers.usda.gov/webdocs/DataFiles/48747/Unemployment.xlsx?v=7156\", \"Unemployment Med HH Income\", header = 4)\n"
      ]
    },
    {
      "cell_type": "code",
      "source": [
        "# Shape of the dataframe\n",
        "print(\"Shape: \"+ str(unemployment.shape))\n",
        "# Preview\n",
        "unemployment.head()"
      ],
      "metadata": {
        "colab": {
          "base_uri": "https://localhost:8080/",
          "height": 386
        },
        "id": "dE_9AnOh-HFE",
        "outputId": "a2f17b1f-8b5e-423d-c8f1-deaff220e14c"
      },
      "id": "dE_9AnOh-HFE",
      "execution_count": null,
      "outputs": [
        {
          "output_type": "stream",
          "name": "stdout",
          "text": [
            "Shape: (3277, 96)\n"
          ]
        },
        {
          "output_type": "execute_result",
          "data": {
            "text/plain": [
              "   FIPS_code State           Area_name  Rural_urban_continuum_code_2013  \\\n",
              "0          0    US       United States                              NaN   \n",
              "1       1000    AL             Alabama                              NaN   \n",
              "2       1001    AL  Autauga County, AL                              2.0   \n",
              "3       1003    AL  Baldwin County, AL                              3.0   \n",
              "4       1005    AL  Barbour County, AL                              6.0   \n",
              "\n",
              "   Urban_influence_code_2013  Metro_2013  Civilian_labor_force_2000  \\\n",
              "0                        NaN         NaN                142601576.0   \n",
              "1                        NaN         NaN                  2147173.0   \n",
              "2                        2.0         1.0                    21861.0   \n",
              "3                        2.0         1.0                    69979.0   \n",
              "4                        6.0         0.0                    11449.0   \n",
              "\n",
              "   Employed_2000  Unemployed_2000  Unemployment_rate_2000  ...  \\\n",
              "0    136904853.0        5696723.0                3.994853  ...   \n",
              "1      2047731.0          99442.0                4.600000  ...   \n",
              "2        20971.0            890.0                4.100000  ...   \n",
              "3        67370.0           2609.0                3.700000  ...   \n",
              "4        10812.0            637.0                5.600000  ...   \n",
              "\n",
              "   Civilian_labor_force_2020  Employed_2020  Unemployed_2020  \\\n",
              "0                161207103.0    148183367.0       13023736.0   \n",
              "1                  2268309.0      2121149.0         147160.0   \n",
              "2                    26405.0        24985.0           1420.0   \n",
              "3                    98910.0        92751.0           6159.0   \n",
              "4                     8680.0         8004.0            676.0   \n",
              "\n",
              "   Unemployment_rate_2020  Civilian_labor_force_2021  Employed_2021  \\\n",
              "0                8.078885                161758337.0    153099687.0   \n",
              "1                6.500000                  2246993.0      2169721.0   \n",
              "2                5.400000                    26341.0        25599.0   \n",
              "3                6.200000                    99427.0        96481.0   \n",
              "4                7.800000                     8197.0         7728.0   \n",
              "\n",
              "   Unemployed_2021  Unemployment_rate_2021  Median_Household_Income_2020  \\\n",
              "0        8658650.0                5.352831                       67340.0   \n",
              "1          77272.0                3.400000                       53958.0   \n",
              "2            742.0                2.800000                       67565.0   \n",
              "3           2946.0                3.000000                       71135.0   \n",
              "4            469.0                5.700000                       38866.0   \n",
              "\n",
              "   Med_HH_Income_Percent_of_State_Total_2020  \n",
              "0                                        NaN  \n",
              "1                                 100.000000  \n",
              "2                                 125.217762  \n",
              "3                                 131.834019  \n",
              "4                                  72.030097  \n",
              "\n",
              "[5 rows x 96 columns]"
            ],
            "text/html": [
              "\n",
              "  <div id=\"df-bfcb9122-fe8d-4adf-b72f-18200f7defaf\">\n",
              "    <div class=\"colab-df-container\">\n",
              "      <div>\n",
              "<style scoped>\n",
              "    .dataframe tbody tr th:only-of-type {\n",
              "        vertical-align: middle;\n",
              "    }\n",
              "\n",
              "    .dataframe tbody tr th {\n",
              "        vertical-align: top;\n",
              "    }\n",
              "\n",
              "    .dataframe thead th {\n",
              "        text-align: right;\n",
              "    }\n",
              "</style>\n",
              "<table border=\"1\" class=\"dataframe\">\n",
              "  <thead>\n",
              "    <tr style=\"text-align: right;\">\n",
              "      <th></th>\n",
              "      <th>FIPS_code</th>\n",
              "      <th>State</th>\n",
              "      <th>Area_name</th>\n",
              "      <th>Rural_urban_continuum_code_2013</th>\n",
              "      <th>Urban_influence_code_2013</th>\n",
              "      <th>Metro_2013</th>\n",
              "      <th>Civilian_labor_force_2000</th>\n",
              "      <th>Employed_2000</th>\n",
              "      <th>Unemployed_2000</th>\n",
              "      <th>Unemployment_rate_2000</th>\n",
              "      <th>...</th>\n",
              "      <th>Civilian_labor_force_2020</th>\n",
              "      <th>Employed_2020</th>\n",
              "      <th>Unemployed_2020</th>\n",
              "      <th>Unemployment_rate_2020</th>\n",
              "      <th>Civilian_labor_force_2021</th>\n",
              "      <th>Employed_2021</th>\n",
              "      <th>Unemployed_2021</th>\n",
              "      <th>Unemployment_rate_2021</th>\n",
              "      <th>Median_Household_Income_2020</th>\n",
              "      <th>Med_HH_Income_Percent_of_State_Total_2020</th>\n",
              "    </tr>\n",
              "  </thead>\n",
              "  <tbody>\n",
              "    <tr>\n",
              "      <th>0</th>\n",
              "      <td>0</td>\n",
              "      <td>US</td>\n",
              "      <td>United States</td>\n",
              "      <td>NaN</td>\n",
              "      <td>NaN</td>\n",
              "      <td>NaN</td>\n",
              "      <td>142601576.0</td>\n",
              "      <td>136904853.0</td>\n",
              "      <td>5696723.0</td>\n",
              "      <td>3.994853</td>\n",
              "      <td>...</td>\n",
              "      <td>161207103.0</td>\n",
              "      <td>148183367.0</td>\n",
              "      <td>13023736.0</td>\n",
              "      <td>8.078885</td>\n",
              "      <td>161758337.0</td>\n",
              "      <td>153099687.0</td>\n",
              "      <td>8658650.0</td>\n",
              "      <td>5.352831</td>\n",
              "      <td>67340.0</td>\n",
              "      <td>NaN</td>\n",
              "    </tr>\n",
              "    <tr>\n",
              "      <th>1</th>\n",
              "      <td>1000</td>\n",
              "      <td>AL</td>\n",
              "      <td>Alabama</td>\n",
              "      <td>NaN</td>\n",
              "      <td>NaN</td>\n",
              "      <td>NaN</td>\n",
              "      <td>2147173.0</td>\n",
              "      <td>2047731.0</td>\n",
              "      <td>99442.0</td>\n",
              "      <td>4.600000</td>\n",
              "      <td>...</td>\n",
              "      <td>2268309.0</td>\n",
              "      <td>2121149.0</td>\n",
              "      <td>147160.0</td>\n",
              "      <td>6.500000</td>\n",
              "      <td>2246993.0</td>\n",
              "      <td>2169721.0</td>\n",
              "      <td>77272.0</td>\n",
              "      <td>3.400000</td>\n",
              "      <td>53958.0</td>\n",
              "      <td>100.000000</td>\n",
              "    </tr>\n",
              "    <tr>\n",
              "      <th>2</th>\n",
              "      <td>1001</td>\n",
              "      <td>AL</td>\n",
              "      <td>Autauga County, AL</td>\n",
              "      <td>2.0</td>\n",
              "      <td>2.0</td>\n",
              "      <td>1.0</td>\n",
              "      <td>21861.0</td>\n",
              "      <td>20971.0</td>\n",
              "      <td>890.0</td>\n",
              "      <td>4.100000</td>\n",
              "      <td>...</td>\n",
              "      <td>26405.0</td>\n",
              "      <td>24985.0</td>\n",
              "      <td>1420.0</td>\n",
              "      <td>5.400000</td>\n",
              "      <td>26341.0</td>\n",
              "      <td>25599.0</td>\n",
              "      <td>742.0</td>\n",
              "      <td>2.800000</td>\n",
              "      <td>67565.0</td>\n",
              "      <td>125.217762</td>\n",
              "    </tr>\n",
              "    <tr>\n",
              "      <th>3</th>\n",
              "      <td>1003</td>\n",
              "      <td>AL</td>\n",
              "      <td>Baldwin County, AL</td>\n",
              "      <td>3.0</td>\n",
              "      <td>2.0</td>\n",
              "      <td>1.0</td>\n",
              "      <td>69979.0</td>\n",
              "      <td>67370.0</td>\n",
              "      <td>2609.0</td>\n",
              "      <td>3.700000</td>\n",
              "      <td>...</td>\n",
              "      <td>98910.0</td>\n",
              "      <td>92751.0</td>\n",
              "      <td>6159.0</td>\n",
              "      <td>6.200000</td>\n",
              "      <td>99427.0</td>\n",
              "      <td>96481.0</td>\n",
              "      <td>2946.0</td>\n",
              "      <td>3.000000</td>\n",
              "      <td>71135.0</td>\n",
              "      <td>131.834019</td>\n",
              "    </tr>\n",
              "    <tr>\n",
              "      <th>4</th>\n",
              "      <td>1005</td>\n",
              "      <td>AL</td>\n",
              "      <td>Barbour County, AL</td>\n",
              "      <td>6.0</td>\n",
              "      <td>6.0</td>\n",
              "      <td>0.0</td>\n",
              "      <td>11449.0</td>\n",
              "      <td>10812.0</td>\n",
              "      <td>637.0</td>\n",
              "      <td>5.600000</td>\n",
              "      <td>...</td>\n",
              "      <td>8680.0</td>\n",
              "      <td>8004.0</td>\n",
              "      <td>676.0</td>\n",
              "      <td>7.800000</td>\n",
              "      <td>8197.0</td>\n",
              "      <td>7728.0</td>\n",
              "      <td>469.0</td>\n",
              "      <td>5.700000</td>\n",
              "      <td>38866.0</td>\n",
              "      <td>72.030097</td>\n",
              "    </tr>\n",
              "  </tbody>\n",
              "</table>\n",
              "<p>5 rows × 96 columns</p>\n",
              "</div>\n",
              "      <button class=\"colab-df-convert\" onclick=\"convertToInteractive('df-bfcb9122-fe8d-4adf-b72f-18200f7defaf')\"\n",
              "              title=\"Convert this dataframe to an interactive table.\"\n",
              "              style=\"display:none;\">\n",
              "        \n",
              "  <svg xmlns=\"http://www.w3.org/2000/svg\" height=\"24px\"viewBox=\"0 0 24 24\"\n",
              "       width=\"24px\">\n",
              "    <path d=\"M0 0h24v24H0V0z\" fill=\"none\"/>\n",
              "    <path d=\"M18.56 5.44l.94 2.06.94-2.06 2.06-.94-2.06-.94-.94-2.06-.94 2.06-2.06.94zm-11 1L8.5 8.5l.94-2.06 2.06-.94-2.06-.94L8.5 2.5l-.94 2.06-2.06.94zm10 10l.94 2.06.94-2.06 2.06-.94-2.06-.94-.94-2.06-.94 2.06-2.06.94z\"/><path d=\"M17.41 7.96l-1.37-1.37c-.4-.4-.92-.59-1.43-.59-.52 0-1.04.2-1.43.59L10.3 9.45l-7.72 7.72c-.78.78-.78 2.05 0 2.83L4 21.41c.39.39.9.59 1.41.59.51 0 1.02-.2 1.41-.59l7.78-7.78 2.81-2.81c.8-.78.8-2.07 0-2.86zM5.41 20L4 18.59l7.72-7.72 1.47 1.35L5.41 20z\"/>\n",
              "  </svg>\n",
              "      </button>\n",
              "      \n",
              "  <style>\n",
              "    .colab-df-container {\n",
              "      display:flex;\n",
              "      flex-wrap:wrap;\n",
              "      gap: 12px;\n",
              "    }\n",
              "\n",
              "    .colab-df-convert {\n",
              "      background-color: #E8F0FE;\n",
              "      border: none;\n",
              "      border-radius: 50%;\n",
              "      cursor: pointer;\n",
              "      display: none;\n",
              "      fill: #1967D2;\n",
              "      height: 32px;\n",
              "      padding: 0 0 0 0;\n",
              "      width: 32px;\n",
              "    }\n",
              "\n",
              "    .colab-df-convert:hover {\n",
              "      background-color: #E2EBFA;\n",
              "      box-shadow: 0px 1px 2px rgba(60, 64, 67, 0.3), 0px 1px 3px 1px rgba(60, 64, 67, 0.15);\n",
              "      fill: #174EA6;\n",
              "    }\n",
              "\n",
              "    [theme=dark] .colab-df-convert {\n",
              "      background-color: #3B4455;\n",
              "      fill: #D2E3FC;\n",
              "    }\n",
              "\n",
              "    [theme=dark] .colab-df-convert:hover {\n",
              "      background-color: #434B5C;\n",
              "      box-shadow: 0px 1px 3px 1px rgba(0, 0, 0, 0.15);\n",
              "      filter: drop-shadow(0px 1px 2px rgba(0, 0, 0, 0.3));\n",
              "      fill: #FFFFFF;\n",
              "    }\n",
              "  </style>\n",
              "\n",
              "      <script>\n",
              "        const buttonEl =\n",
              "          document.querySelector('#df-bfcb9122-fe8d-4adf-b72f-18200f7defaf button.colab-df-convert');\n",
              "        buttonEl.style.display =\n",
              "          google.colab.kernel.accessAllowed ? 'block' : 'none';\n",
              "\n",
              "        async function convertToInteractive(key) {\n",
              "          const element = document.querySelector('#df-bfcb9122-fe8d-4adf-b72f-18200f7defaf');\n",
              "          const dataTable =\n",
              "            await google.colab.kernel.invokeFunction('convertToInteractive',\n",
              "                                                     [key], {});\n",
              "          if (!dataTable) return;\n",
              "\n",
              "          const docLinkHtml = 'Like what you see? Visit the ' +\n",
              "            '<a target=\"_blank\" href=https://colab.research.google.com/notebooks/data_table.ipynb>data table notebook</a>'\n",
              "            + ' to learn more about interactive tables.';\n",
              "          element.innerHTML = '';\n",
              "          dataTable['output_type'] = 'display_data';\n",
              "          await google.colab.output.renderOutput(dataTable, element);\n",
              "          const docLink = document.createElement('div');\n",
              "          docLink.innerHTML = docLinkHtml;\n",
              "          element.appendChild(docLink);\n",
              "        }\n",
              "      </script>\n",
              "    </div>\n",
              "  </div>\n",
              "  "
            ]
          },
          "metadata": {},
          "execution_count": 522
        }
      ]
    },
    {
      "cell_type": "markdown",
      "id": "27744efd",
      "metadata": {
        "id": "27744efd"
      },
      "source": [
        "Save nationwide stats for later, then remove the statewide and nationwide rows "
      ]
    },
    {
      "cell_type": "code",
      "execution_count": null,
      "id": "f9620da0",
      "metadata": {
        "id": "f9620da0"
      },
      "outputs": [],
      "source": [
        "# Nationwide Stats\n",
        "US_LF = unemployment.iloc[0][\"Civilian_labor_force_2021\"]\n",
        "US_MHI = unemployment.iloc[0][\"Median_Household_Income_2020\"]\n",
        "\n",
        "# Check the \"Rural_urban_continuum_code_2013\" column for rows with null values.\n",
        "unemployment = unemployment.loc[pd.notna(unemployment['Rural_urban_continuum_code_2013'])]"
      ]
    },
    {
      "cell_type": "markdown",
      "id": "6ac66ecf",
      "metadata": {
        "id": "6ac66ecf"
      },
      "source": [
        "Standardize FIPS code"
      ]
    },
    {
      "cell_type": "code",
      "execution_count": null,
      "id": "e97886c4",
      "metadata": {
        "id": "e97886c4",
        "colab": {
          "base_uri": "https://localhost:8080/"
        },
        "outputId": "1c48a7bf-da59-49f2-a5e2-15638f856730"
      },
      "outputs": [
        {
          "output_type": "stream",
          "name": "stderr",
          "text": [
            "/usr/local/lib/python3.8/dist-packages/pandas/core/indexing.py:1773: SettingWithCopyWarning: \n",
            "A value is trying to be set on a copy of a slice from a DataFrame.\n",
            "Try using .loc[row_indexer,col_indexer] = value instead\n",
            "\n",
            "See the caveats in the documentation: https://pandas.pydata.org/pandas-docs/stable/user_guide/indexing.html#returning-a-view-versus-a-copy\n",
            "  self._setitem_single_column(ilocs[0], value, pi)\n"
          ]
        }
      ],
      "source": [
        "# Use lambda function to format code to 5 digits\n",
        "unemployment.loc[:, \"FIPS_code\"]=unemployment[\"FIPS_code\"].apply(lambda x: '{0:0>5}'.format(x))"
      ]
    },
    {
      "cell_type": "markdown",
      "id": "929df842",
      "metadata": {
        "id": "929df842"
      },
      "source": [
        "Set as new income dataframe with only the relevant columns."
      ]
    },
    {
      "cell_type": "code",
      "execution_count": null,
      "id": "2a6790d5",
      "metadata": {
        "colab": {
          "base_uri": "https://localhost:8080/",
          "height": 206
        },
        "id": "2a6790d5",
        "outputId": "a9d806ee-7f9d-4b0f-a108-bde8a74b7ae7"
      },
      "outputs": [
        {
          "output_type": "execute_result",
          "data": {
            "text/plain": [
              "  FIPS_code           Area_name  Civilian_labor_force_2021  \\\n",
              "2     01001  Autauga County, AL                    26341.0   \n",
              "3     01003  Baldwin County, AL                    99427.0   \n",
              "4     01005  Barbour County, AL                     8197.0   \n",
              "5     01007     Bibb County, AL                     8560.0   \n",
              "6     01009   Blount County, AL                    25127.0   \n",
              "\n",
              "   Median_Household_Income_2020  Rural_urban_continuum_code_2013  \n",
              "2                       67565.0                              2.0  \n",
              "3                       71135.0                              3.0  \n",
              "4                       38866.0                              6.0  \n",
              "5                       50907.0                              1.0  \n",
              "6                       55203.0                              1.0  "
            ],
            "text/html": [
              "\n",
              "  <div id=\"df-3593961b-9da6-4c81-9393-b66cd7f36e8b\">\n",
              "    <div class=\"colab-df-container\">\n",
              "      <div>\n",
              "<style scoped>\n",
              "    .dataframe tbody tr th:only-of-type {\n",
              "        vertical-align: middle;\n",
              "    }\n",
              "\n",
              "    .dataframe tbody tr th {\n",
              "        vertical-align: top;\n",
              "    }\n",
              "\n",
              "    .dataframe thead th {\n",
              "        text-align: right;\n",
              "    }\n",
              "</style>\n",
              "<table border=\"1\" class=\"dataframe\">\n",
              "  <thead>\n",
              "    <tr style=\"text-align: right;\">\n",
              "      <th></th>\n",
              "      <th>FIPS_code</th>\n",
              "      <th>Area_name</th>\n",
              "      <th>Civilian_labor_force_2021</th>\n",
              "      <th>Median_Household_Income_2020</th>\n",
              "      <th>Rural_urban_continuum_code_2013</th>\n",
              "    </tr>\n",
              "  </thead>\n",
              "  <tbody>\n",
              "    <tr>\n",
              "      <th>2</th>\n",
              "      <td>01001</td>\n",
              "      <td>Autauga County, AL</td>\n",
              "      <td>26341.0</td>\n",
              "      <td>67565.0</td>\n",
              "      <td>2.0</td>\n",
              "    </tr>\n",
              "    <tr>\n",
              "      <th>3</th>\n",
              "      <td>01003</td>\n",
              "      <td>Baldwin County, AL</td>\n",
              "      <td>99427.0</td>\n",
              "      <td>71135.0</td>\n",
              "      <td>3.0</td>\n",
              "    </tr>\n",
              "    <tr>\n",
              "      <th>4</th>\n",
              "      <td>01005</td>\n",
              "      <td>Barbour County, AL</td>\n",
              "      <td>8197.0</td>\n",
              "      <td>38866.0</td>\n",
              "      <td>6.0</td>\n",
              "    </tr>\n",
              "    <tr>\n",
              "      <th>5</th>\n",
              "      <td>01007</td>\n",
              "      <td>Bibb County, AL</td>\n",
              "      <td>8560.0</td>\n",
              "      <td>50907.0</td>\n",
              "      <td>1.0</td>\n",
              "    </tr>\n",
              "    <tr>\n",
              "      <th>6</th>\n",
              "      <td>01009</td>\n",
              "      <td>Blount County, AL</td>\n",
              "      <td>25127.0</td>\n",
              "      <td>55203.0</td>\n",
              "      <td>1.0</td>\n",
              "    </tr>\n",
              "  </tbody>\n",
              "</table>\n",
              "</div>\n",
              "      <button class=\"colab-df-convert\" onclick=\"convertToInteractive('df-3593961b-9da6-4c81-9393-b66cd7f36e8b')\"\n",
              "              title=\"Convert this dataframe to an interactive table.\"\n",
              "              style=\"display:none;\">\n",
              "        \n",
              "  <svg xmlns=\"http://www.w3.org/2000/svg\" height=\"24px\"viewBox=\"0 0 24 24\"\n",
              "       width=\"24px\">\n",
              "    <path d=\"M0 0h24v24H0V0z\" fill=\"none\"/>\n",
              "    <path d=\"M18.56 5.44l.94 2.06.94-2.06 2.06-.94-2.06-.94-.94-2.06-.94 2.06-2.06.94zm-11 1L8.5 8.5l.94-2.06 2.06-.94-2.06-.94L8.5 2.5l-.94 2.06-2.06.94zm10 10l.94 2.06.94-2.06 2.06-.94-2.06-.94-.94-2.06-.94 2.06-2.06.94z\"/><path d=\"M17.41 7.96l-1.37-1.37c-.4-.4-.92-.59-1.43-.59-.52 0-1.04.2-1.43.59L10.3 9.45l-7.72 7.72c-.78.78-.78 2.05 0 2.83L4 21.41c.39.39.9.59 1.41.59.51 0 1.02-.2 1.41-.59l7.78-7.78 2.81-2.81c.8-.78.8-2.07 0-2.86zM5.41 20L4 18.59l7.72-7.72 1.47 1.35L5.41 20z\"/>\n",
              "  </svg>\n",
              "      </button>\n",
              "      \n",
              "  <style>\n",
              "    .colab-df-container {\n",
              "      display:flex;\n",
              "      flex-wrap:wrap;\n",
              "      gap: 12px;\n",
              "    }\n",
              "\n",
              "    .colab-df-convert {\n",
              "      background-color: #E8F0FE;\n",
              "      border: none;\n",
              "      border-radius: 50%;\n",
              "      cursor: pointer;\n",
              "      display: none;\n",
              "      fill: #1967D2;\n",
              "      height: 32px;\n",
              "      padding: 0 0 0 0;\n",
              "      width: 32px;\n",
              "    }\n",
              "\n",
              "    .colab-df-convert:hover {\n",
              "      background-color: #E2EBFA;\n",
              "      box-shadow: 0px 1px 2px rgba(60, 64, 67, 0.3), 0px 1px 3px 1px rgba(60, 64, 67, 0.15);\n",
              "      fill: #174EA6;\n",
              "    }\n",
              "\n",
              "    [theme=dark] .colab-df-convert {\n",
              "      background-color: #3B4455;\n",
              "      fill: #D2E3FC;\n",
              "    }\n",
              "\n",
              "    [theme=dark] .colab-df-convert:hover {\n",
              "      background-color: #434B5C;\n",
              "      box-shadow: 0px 1px 3px 1px rgba(0, 0, 0, 0.15);\n",
              "      filter: drop-shadow(0px 1px 2px rgba(0, 0, 0, 0.3));\n",
              "      fill: #FFFFFF;\n",
              "    }\n",
              "  </style>\n",
              "\n",
              "      <script>\n",
              "        const buttonEl =\n",
              "          document.querySelector('#df-3593961b-9da6-4c81-9393-b66cd7f36e8b button.colab-df-convert');\n",
              "        buttonEl.style.display =\n",
              "          google.colab.kernel.accessAllowed ? 'block' : 'none';\n",
              "\n",
              "        async function convertToInteractive(key) {\n",
              "          const element = document.querySelector('#df-3593961b-9da6-4c81-9393-b66cd7f36e8b');\n",
              "          const dataTable =\n",
              "            await google.colab.kernel.invokeFunction('convertToInteractive',\n",
              "                                                     [key], {});\n",
              "          if (!dataTable) return;\n",
              "\n",
              "          const docLinkHtml = 'Like what you see? Visit the ' +\n",
              "            '<a target=\"_blank\" href=https://colab.research.google.com/notebooks/data_table.ipynb>data table notebook</a>'\n",
              "            + ' to learn more about interactive tables.';\n",
              "          element.innerHTML = '';\n",
              "          dataTable['output_type'] = 'display_data';\n",
              "          await google.colab.output.renderOutput(dataTable, element);\n",
              "          const docLink = document.createElement('div');\n",
              "          docLink.innerHTML = docLinkHtml;\n",
              "          element.appendChild(docLink);\n",
              "        }\n",
              "      </script>\n",
              "    </div>\n",
              "  </div>\n",
              "  "
            ]
          },
          "metadata": {},
          "execution_count": 525
        }
      ],
      "source": [
        "unemployment = unemployment[[\"FIPS_code\", \"Area_name\", \"Civilian_labor_force_2021\", \"Median_Household_Income_2020\", \"Rural_urban_continuum_code_2013\"]]\n",
        "unemployment.head()\n"
      ]
    },
    {
      "cell_type": "markdown",
      "id": "878f98e3",
      "metadata": {
        "id": "878f98e3"
      },
      "source": [
        "Load Zillow Housing Value Index"
      ]
    },
    {
      "cell_type": "code",
      "execution_count": null,
      "id": "15fb1e75",
      "metadata": {
        "id": "15fb1e75"
      },
      "outputs": [],
      "source": [
        "# Download and read CSV\n",
        "zhvi = pd.read_csv(\"https://files.zillowstatic.com/research/public_csvs/zhvi/County_zhvi_uc_sfrcondo_tier_0.33_0.67_sm_sa_month.csv?t=1670291347\")"
      ]
    },
    {
      "cell_type": "markdown",
      "id": "9671ad9b",
      "metadata": {
        "id": "9671ad9b"
      },
      "source": [
        "Set relevant columns to new price dataframe and drop entries with no price data"
      ]
    },
    {
      "cell_type": "code",
      "execution_count": null,
      "id": "41805afc",
      "metadata": {
        "colab": {
          "base_uri": "https://localhost:8080/",
          "height": 206
        },
        "id": "41805afc",
        "outputId": "5775004b-885f-4e5a-888c-4ccd76ead3db"
      },
      "outputs": [
        {
          "output_type": "execute_result",
          "data": {
            "text/plain": [
              "    FIPS          RegionName  2022-12-31\n",
              "0  06037  Los Angeles County    845596.0\n",
              "1  17031         Cook County    312317.0\n",
              "2  48201       Harris County    289591.0\n",
              "3  04013     Maricopa County    451699.0\n",
              "4  06073    San Diego County    874095.0"
            ],
            "text/html": [
              "\n",
              "  <div id=\"df-a9c6ce15-70bb-4e64-a617-71ed5414a05e\">\n",
              "    <div class=\"colab-df-container\">\n",
              "      <div>\n",
              "<style scoped>\n",
              "    .dataframe tbody tr th:only-of-type {\n",
              "        vertical-align: middle;\n",
              "    }\n",
              "\n",
              "    .dataframe tbody tr th {\n",
              "        vertical-align: top;\n",
              "    }\n",
              "\n",
              "    .dataframe thead th {\n",
              "        text-align: right;\n",
              "    }\n",
              "</style>\n",
              "<table border=\"1\" class=\"dataframe\">\n",
              "  <thead>\n",
              "    <tr style=\"text-align: right;\">\n",
              "      <th></th>\n",
              "      <th>FIPS</th>\n",
              "      <th>RegionName</th>\n",
              "      <th>2022-12-31</th>\n",
              "    </tr>\n",
              "  </thead>\n",
              "  <tbody>\n",
              "    <tr>\n",
              "      <th>0</th>\n",
              "      <td>06037</td>\n",
              "      <td>Los Angeles County</td>\n",
              "      <td>845596.0</td>\n",
              "    </tr>\n",
              "    <tr>\n",
              "      <th>1</th>\n",
              "      <td>17031</td>\n",
              "      <td>Cook County</td>\n",
              "      <td>312317.0</td>\n",
              "    </tr>\n",
              "    <tr>\n",
              "      <th>2</th>\n",
              "      <td>48201</td>\n",
              "      <td>Harris County</td>\n",
              "      <td>289591.0</td>\n",
              "    </tr>\n",
              "    <tr>\n",
              "      <th>3</th>\n",
              "      <td>04013</td>\n",
              "      <td>Maricopa County</td>\n",
              "      <td>451699.0</td>\n",
              "    </tr>\n",
              "    <tr>\n",
              "      <th>4</th>\n",
              "      <td>06073</td>\n",
              "      <td>San Diego County</td>\n",
              "      <td>874095.0</td>\n",
              "    </tr>\n",
              "  </tbody>\n",
              "</table>\n",
              "</div>\n",
              "      <button class=\"colab-df-convert\" onclick=\"convertToInteractive('df-a9c6ce15-70bb-4e64-a617-71ed5414a05e')\"\n",
              "              title=\"Convert this dataframe to an interactive table.\"\n",
              "              style=\"display:none;\">\n",
              "        \n",
              "  <svg xmlns=\"http://www.w3.org/2000/svg\" height=\"24px\"viewBox=\"0 0 24 24\"\n",
              "       width=\"24px\">\n",
              "    <path d=\"M0 0h24v24H0V0z\" fill=\"none\"/>\n",
              "    <path d=\"M18.56 5.44l.94 2.06.94-2.06 2.06-.94-2.06-.94-.94-2.06-.94 2.06-2.06.94zm-11 1L8.5 8.5l.94-2.06 2.06-.94-2.06-.94L8.5 2.5l-.94 2.06-2.06.94zm10 10l.94 2.06.94-2.06 2.06-.94-2.06-.94-.94-2.06-.94 2.06-2.06.94z\"/><path d=\"M17.41 7.96l-1.37-1.37c-.4-.4-.92-.59-1.43-.59-.52 0-1.04.2-1.43.59L10.3 9.45l-7.72 7.72c-.78.78-.78 2.05 0 2.83L4 21.41c.39.39.9.59 1.41.59.51 0 1.02-.2 1.41-.59l7.78-7.78 2.81-2.81c.8-.78.8-2.07 0-2.86zM5.41 20L4 18.59l7.72-7.72 1.47 1.35L5.41 20z\"/>\n",
              "  </svg>\n",
              "      </button>\n",
              "      \n",
              "  <style>\n",
              "    .colab-df-container {\n",
              "      display:flex;\n",
              "      flex-wrap:wrap;\n",
              "      gap: 12px;\n",
              "    }\n",
              "\n",
              "    .colab-df-convert {\n",
              "      background-color: #E8F0FE;\n",
              "      border: none;\n",
              "      border-radius: 50%;\n",
              "      cursor: pointer;\n",
              "      display: none;\n",
              "      fill: #1967D2;\n",
              "      height: 32px;\n",
              "      padding: 0 0 0 0;\n",
              "      width: 32px;\n",
              "    }\n",
              "\n",
              "    .colab-df-convert:hover {\n",
              "      background-color: #E2EBFA;\n",
              "      box-shadow: 0px 1px 2px rgba(60, 64, 67, 0.3), 0px 1px 3px 1px rgba(60, 64, 67, 0.15);\n",
              "      fill: #174EA6;\n",
              "    }\n",
              "\n",
              "    [theme=dark] .colab-df-convert {\n",
              "      background-color: #3B4455;\n",
              "      fill: #D2E3FC;\n",
              "    }\n",
              "\n",
              "    [theme=dark] .colab-df-convert:hover {\n",
              "      background-color: #434B5C;\n",
              "      box-shadow: 0px 1px 3px 1px rgba(0, 0, 0, 0.15);\n",
              "      filter: drop-shadow(0px 1px 2px rgba(0, 0, 0, 0.3));\n",
              "      fill: #FFFFFF;\n",
              "    }\n",
              "  </style>\n",
              "\n",
              "      <script>\n",
              "        const buttonEl =\n",
              "          document.querySelector('#df-a9c6ce15-70bb-4e64-a617-71ed5414a05e button.colab-df-convert');\n",
              "        buttonEl.style.display =\n",
              "          google.colab.kernel.accessAllowed ? 'block' : 'none';\n",
              "\n",
              "        async function convertToInteractive(key) {\n",
              "          const element = document.querySelector('#df-a9c6ce15-70bb-4e64-a617-71ed5414a05e');\n",
              "          const dataTable =\n",
              "            await google.colab.kernel.invokeFunction('convertToInteractive',\n",
              "                                                     [key], {});\n",
              "          if (!dataTable) return;\n",
              "\n",
              "          const docLinkHtml = 'Like what you see? Visit the ' +\n",
              "            '<a target=\"_blank\" href=https://colab.research.google.com/notebooks/data_table.ipynb>data table notebook</a>'\n",
              "            + ' to learn more about interactive tables.';\n",
              "          element.innerHTML = '';\n",
              "          dataTable['output_type'] = 'display_data';\n",
              "          await google.colab.output.renderOutput(dataTable, element);\n",
              "          const docLink = document.createElement('div');\n",
              "          docLink.innerHTML = docLinkHtml;\n",
              "          element.appendChild(docLink);\n",
              "        }\n",
              "      </script>\n",
              "    </div>\n",
              "  </div>\n",
              "  "
            ]
          },
          "metadata": {},
          "execution_count": 527
        }
      ],
      "source": [
        "# Set most recent column date name\n",
        "mostrecentZHVI = \"2022-12-31\"\n",
        "\n",
        "# Convert State and Municipal FIPS into single FIPS code. Format as 5 digits\n",
        "zhvi[\"FIPS\"] = zhvi[\"StateCodeFIPS\"]*1000 + zhvi[\"MunicipalCodeFIPS\"]\n",
        "zhvi[\"FIPS\"] = zhvi[\"FIPS\"].apply(lambda x: '{0:0>5}'.format(x))\n",
        "\n",
        "# Preview\n",
        "zhvi.head()\n",
        "# Only FIPS code, Name, Most Recent Price \n",
        "zhvi = zhvi[[\"FIPS\", \"RegionName\", mostrecentZHVI]]\n",
        "# Drop null rows\n",
        "zhvi = zhvi.dropna(subset=[mostrecentZHVI])\n",
        "zhvi.head()"
      ]
    },
    {
      "cell_type": "markdown",
      "id": "8c825012",
      "metadata": {
        "id": "8c825012"
      },
      "source": [
        "Join unemployment and ZHVI dataframes on the FIPS code column"
      ]
    },
    {
      "cell_type": "code",
      "execution_count": null,
      "id": "7085acee",
      "metadata": {
        "id": "7085acee",
        "scrolled": true,
        "colab": {
          "base_uri": "https://localhost:8080/",
          "height": 206
        },
        "outputId": "6cb522f9-0328-4416-ddc0-68592aa9fe97"
      },
      "outputs": [
        {
          "output_type": "execute_result",
          "data": {
            "text/plain": [
              "  FIPS_code           Area_name  Civilian_labor_force_2021  \\\n",
              "0     01001  Autauga County, AL                    26341.0   \n",
              "1     01003  Baldwin County, AL                    99427.0   \n",
              "2     01005  Barbour County, AL                     8197.0   \n",
              "3     01007     Bibb County, AL                     8560.0   \n",
              "4     01009   Blount County, AL                    25127.0   \n",
              "\n",
              "   Median_Household_Income_2020  Rural_urban_continuum_code_2013   FIPS  \\\n",
              "0                       67565.0                              2.0  01001   \n",
              "1                       71135.0                              3.0  01003   \n",
              "2                       38866.0                              6.0  01005   \n",
              "3                       50907.0                              1.0  01007   \n",
              "4                       55203.0                              1.0  01009   \n",
              "\n",
              "       RegionName  2022-12-31  \n",
              "0  Autauga County    247745.0  \n",
              "1  Baldwin County    378538.0  \n",
              "2  Barbour County    137713.0  \n",
              "3     Bibb County    183821.0  \n",
              "4   Blount County    265515.0  "
            ],
            "text/html": [
              "\n",
              "  <div id=\"df-250edd97-a404-4c76-81db-f80f28126c8c\">\n",
              "    <div class=\"colab-df-container\">\n",
              "      <div>\n",
              "<style scoped>\n",
              "    .dataframe tbody tr th:only-of-type {\n",
              "        vertical-align: middle;\n",
              "    }\n",
              "\n",
              "    .dataframe tbody tr th {\n",
              "        vertical-align: top;\n",
              "    }\n",
              "\n",
              "    .dataframe thead th {\n",
              "        text-align: right;\n",
              "    }\n",
              "</style>\n",
              "<table border=\"1\" class=\"dataframe\">\n",
              "  <thead>\n",
              "    <tr style=\"text-align: right;\">\n",
              "      <th></th>\n",
              "      <th>FIPS_code</th>\n",
              "      <th>Area_name</th>\n",
              "      <th>Civilian_labor_force_2021</th>\n",
              "      <th>Median_Household_Income_2020</th>\n",
              "      <th>Rural_urban_continuum_code_2013</th>\n",
              "      <th>FIPS</th>\n",
              "      <th>RegionName</th>\n",
              "      <th>2022-12-31</th>\n",
              "    </tr>\n",
              "  </thead>\n",
              "  <tbody>\n",
              "    <tr>\n",
              "      <th>0</th>\n",
              "      <td>01001</td>\n",
              "      <td>Autauga County, AL</td>\n",
              "      <td>26341.0</td>\n",
              "      <td>67565.0</td>\n",
              "      <td>2.0</td>\n",
              "      <td>01001</td>\n",
              "      <td>Autauga County</td>\n",
              "      <td>247745.0</td>\n",
              "    </tr>\n",
              "    <tr>\n",
              "      <th>1</th>\n",
              "      <td>01003</td>\n",
              "      <td>Baldwin County, AL</td>\n",
              "      <td>99427.0</td>\n",
              "      <td>71135.0</td>\n",
              "      <td>3.0</td>\n",
              "      <td>01003</td>\n",
              "      <td>Baldwin County</td>\n",
              "      <td>378538.0</td>\n",
              "    </tr>\n",
              "    <tr>\n",
              "      <th>2</th>\n",
              "      <td>01005</td>\n",
              "      <td>Barbour County, AL</td>\n",
              "      <td>8197.0</td>\n",
              "      <td>38866.0</td>\n",
              "      <td>6.0</td>\n",
              "      <td>01005</td>\n",
              "      <td>Barbour County</td>\n",
              "      <td>137713.0</td>\n",
              "    </tr>\n",
              "    <tr>\n",
              "      <th>3</th>\n",
              "      <td>01007</td>\n",
              "      <td>Bibb County, AL</td>\n",
              "      <td>8560.0</td>\n",
              "      <td>50907.0</td>\n",
              "      <td>1.0</td>\n",
              "      <td>01007</td>\n",
              "      <td>Bibb County</td>\n",
              "      <td>183821.0</td>\n",
              "    </tr>\n",
              "    <tr>\n",
              "      <th>4</th>\n",
              "      <td>01009</td>\n",
              "      <td>Blount County, AL</td>\n",
              "      <td>25127.0</td>\n",
              "      <td>55203.0</td>\n",
              "      <td>1.0</td>\n",
              "      <td>01009</td>\n",
              "      <td>Blount County</td>\n",
              "      <td>265515.0</td>\n",
              "    </tr>\n",
              "  </tbody>\n",
              "</table>\n",
              "</div>\n",
              "      <button class=\"colab-df-convert\" onclick=\"convertToInteractive('df-250edd97-a404-4c76-81db-f80f28126c8c')\"\n",
              "              title=\"Convert this dataframe to an interactive table.\"\n",
              "              style=\"display:none;\">\n",
              "        \n",
              "  <svg xmlns=\"http://www.w3.org/2000/svg\" height=\"24px\"viewBox=\"0 0 24 24\"\n",
              "       width=\"24px\">\n",
              "    <path d=\"M0 0h24v24H0V0z\" fill=\"none\"/>\n",
              "    <path d=\"M18.56 5.44l.94 2.06.94-2.06 2.06-.94-2.06-.94-.94-2.06-.94 2.06-2.06.94zm-11 1L8.5 8.5l.94-2.06 2.06-.94-2.06-.94L8.5 2.5l-.94 2.06-2.06.94zm10 10l.94 2.06.94-2.06 2.06-.94-2.06-.94-.94-2.06-.94 2.06-2.06.94z\"/><path d=\"M17.41 7.96l-1.37-1.37c-.4-.4-.92-.59-1.43-.59-.52 0-1.04.2-1.43.59L10.3 9.45l-7.72 7.72c-.78.78-.78 2.05 0 2.83L4 21.41c.39.39.9.59 1.41.59.51 0 1.02-.2 1.41-.59l7.78-7.78 2.81-2.81c.8-.78.8-2.07 0-2.86zM5.41 20L4 18.59l7.72-7.72 1.47 1.35L5.41 20z\"/>\n",
              "  </svg>\n",
              "      </button>\n",
              "      \n",
              "  <style>\n",
              "    .colab-df-container {\n",
              "      display:flex;\n",
              "      flex-wrap:wrap;\n",
              "      gap: 12px;\n",
              "    }\n",
              "\n",
              "    .colab-df-convert {\n",
              "      background-color: #E8F0FE;\n",
              "      border: none;\n",
              "      border-radius: 50%;\n",
              "      cursor: pointer;\n",
              "      display: none;\n",
              "      fill: #1967D2;\n",
              "      height: 32px;\n",
              "      padding: 0 0 0 0;\n",
              "      width: 32px;\n",
              "    }\n",
              "\n",
              "    .colab-df-convert:hover {\n",
              "      background-color: #E2EBFA;\n",
              "      box-shadow: 0px 1px 2px rgba(60, 64, 67, 0.3), 0px 1px 3px 1px rgba(60, 64, 67, 0.15);\n",
              "      fill: #174EA6;\n",
              "    }\n",
              "\n",
              "    [theme=dark] .colab-df-convert {\n",
              "      background-color: #3B4455;\n",
              "      fill: #D2E3FC;\n",
              "    }\n",
              "\n",
              "    [theme=dark] .colab-df-convert:hover {\n",
              "      background-color: #434B5C;\n",
              "      box-shadow: 0px 1px 3px 1px rgba(0, 0, 0, 0.15);\n",
              "      filter: drop-shadow(0px 1px 2px rgba(0, 0, 0, 0.3));\n",
              "      fill: #FFFFFF;\n",
              "    }\n",
              "  </style>\n",
              "\n",
              "      <script>\n",
              "        const buttonEl =\n",
              "          document.querySelector('#df-250edd97-a404-4c76-81db-f80f28126c8c button.colab-df-convert');\n",
              "        buttonEl.style.display =\n",
              "          google.colab.kernel.accessAllowed ? 'block' : 'none';\n",
              "\n",
              "        async function convertToInteractive(key) {\n",
              "          const element = document.querySelector('#df-250edd97-a404-4c76-81db-f80f28126c8c');\n",
              "          const dataTable =\n",
              "            await google.colab.kernel.invokeFunction('convertToInteractive',\n",
              "                                                     [key], {});\n",
              "          if (!dataTable) return;\n",
              "\n",
              "          const docLinkHtml = 'Like what you see? Visit the ' +\n",
              "            '<a target=\"_blank\" href=https://colab.research.google.com/notebooks/data_table.ipynb>data table notebook</a>'\n",
              "            + ' to learn more about interactive tables.';\n",
              "          element.innerHTML = '';\n",
              "          dataTable['output_type'] = 'display_data';\n",
              "          await google.colab.output.renderOutput(dataTable, element);\n",
              "          const docLink = document.createElement('div');\n",
              "          docLink.innerHTML = docLinkHtml;\n",
              "          element.appendChild(docLink);\n",
              "        }\n",
              "      </script>\n",
              "    </div>\n",
              "  </div>\n",
              "  "
            ]
          },
          "metadata": {},
          "execution_count": 528
        }
      ],
      "source": [
        "merged1 = pd.merge(left=unemployment, right=zhvi, left_on='FIPS_code', right_on='FIPS')\n",
        "merged1.head()"
      ]
    },
    {
      "cell_type": "markdown",
      "id": "48f5cce1",
      "metadata": {
        "id": "48f5cce1"
      },
      "source": [
        "Load population data"
      ]
    },
    {
      "cell_type": "code",
      "execution_count": null,
      "id": "473cfa40",
      "metadata": {
        "colab": {
          "base_uri": "https://localhost:8080/",
          "height": 366
        },
        "id": "473cfa40",
        "outputId": "2d795459-c5d5-4093-dac0-362852e44e33"
      },
      "outputs": [
        {
          "output_type": "execute_result",
          "data": {
            "text/plain": [
              "    SUMLEV  STATE  COUNTY   STNAME         CTYNAME  YEAR  POPESTIMATE  \\\n",
              "2       50      1       1  Alabama  Autauga County     3        59095   \n",
              "5       50      1       3  Alabama  Baldwin County     3       239294   \n",
              "8       50      1       5  Alabama  Barbour County     3        24964   \n",
              "11      50      1       7  Alabama     Bibb County     3        22477   \n",
              "14      50      1       9  Alabama   Blount County     3        59041   \n",
              "\n",
              "    POPEST_MALE  POPEST_FEM  UNDER5_TOT  ...  AGE7579_FEM  AGE8084_TOT  \\\n",
              "2         28733       30362        3388  ...         1065         1154   \n",
              "5        116422      122872       12252  ...         5091         5728   \n",
              "8         13305       11659        1307  ...          567          549   \n",
              "11        12134       10343        1180  ...          402          460   \n",
              "14        29407       29634        3433  ...         1177         1270   \n",
              "\n",
              "    AGE8084_MALE  AGE8084_FEM  AGE85PLUS_TOT  AGE85PLUS_MALE  AGE85PLUS_FEM  \\\n",
              "2            490          664            896             352            544   \n",
              "5           2619         3109           4232            1775           2457   \n",
              "8            231          318            477             157            320   \n",
              "11           190          270            359             118            241   \n",
              "14           567          703           1048             394            654   \n",
              "\n",
              "    MEDIAN_AGE_TOT  MEDIAN_AGE_MALE  MEDIAN_AGE_FEM  \n",
              "2             39.3             38.3            40.3  \n",
              "5             44.0             42.8            45.0  \n",
              "8             41.2             39.3            44.2  \n",
              "11            40.3             38.7            42.8  \n",
              "14            41.2             40.5            41.9  \n",
              "\n",
              "[5 rows x 96 columns]"
            ],
            "text/html": [
              "\n",
              "  <div id=\"df-c5a2586f-2172-447e-ad2a-a87d1a2829fb\">\n",
              "    <div class=\"colab-df-container\">\n",
              "      <div>\n",
              "<style scoped>\n",
              "    .dataframe tbody tr th:only-of-type {\n",
              "        vertical-align: middle;\n",
              "    }\n",
              "\n",
              "    .dataframe tbody tr th {\n",
              "        vertical-align: top;\n",
              "    }\n",
              "\n",
              "    .dataframe thead th {\n",
              "        text-align: right;\n",
              "    }\n",
              "</style>\n",
              "<table border=\"1\" class=\"dataframe\">\n",
              "  <thead>\n",
              "    <tr style=\"text-align: right;\">\n",
              "      <th></th>\n",
              "      <th>SUMLEV</th>\n",
              "      <th>STATE</th>\n",
              "      <th>COUNTY</th>\n",
              "      <th>STNAME</th>\n",
              "      <th>CTYNAME</th>\n",
              "      <th>YEAR</th>\n",
              "      <th>POPESTIMATE</th>\n",
              "      <th>POPEST_MALE</th>\n",
              "      <th>POPEST_FEM</th>\n",
              "      <th>UNDER5_TOT</th>\n",
              "      <th>...</th>\n",
              "      <th>AGE7579_FEM</th>\n",
              "      <th>AGE8084_TOT</th>\n",
              "      <th>AGE8084_MALE</th>\n",
              "      <th>AGE8084_FEM</th>\n",
              "      <th>AGE85PLUS_TOT</th>\n",
              "      <th>AGE85PLUS_MALE</th>\n",
              "      <th>AGE85PLUS_FEM</th>\n",
              "      <th>MEDIAN_AGE_TOT</th>\n",
              "      <th>MEDIAN_AGE_MALE</th>\n",
              "      <th>MEDIAN_AGE_FEM</th>\n",
              "    </tr>\n",
              "  </thead>\n",
              "  <tbody>\n",
              "    <tr>\n",
              "      <th>2</th>\n",
              "      <td>50</td>\n",
              "      <td>1</td>\n",
              "      <td>1</td>\n",
              "      <td>Alabama</td>\n",
              "      <td>Autauga County</td>\n",
              "      <td>3</td>\n",
              "      <td>59095</td>\n",
              "      <td>28733</td>\n",
              "      <td>30362</td>\n",
              "      <td>3388</td>\n",
              "      <td>...</td>\n",
              "      <td>1065</td>\n",
              "      <td>1154</td>\n",
              "      <td>490</td>\n",
              "      <td>664</td>\n",
              "      <td>896</td>\n",
              "      <td>352</td>\n",
              "      <td>544</td>\n",
              "      <td>39.3</td>\n",
              "      <td>38.3</td>\n",
              "      <td>40.3</td>\n",
              "    </tr>\n",
              "    <tr>\n",
              "      <th>5</th>\n",
              "      <td>50</td>\n",
              "      <td>1</td>\n",
              "      <td>3</td>\n",
              "      <td>Alabama</td>\n",
              "      <td>Baldwin County</td>\n",
              "      <td>3</td>\n",
              "      <td>239294</td>\n",
              "      <td>116422</td>\n",
              "      <td>122872</td>\n",
              "      <td>12252</td>\n",
              "      <td>...</td>\n",
              "      <td>5091</td>\n",
              "      <td>5728</td>\n",
              "      <td>2619</td>\n",
              "      <td>3109</td>\n",
              "      <td>4232</td>\n",
              "      <td>1775</td>\n",
              "      <td>2457</td>\n",
              "      <td>44.0</td>\n",
              "      <td>42.8</td>\n",
              "      <td>45.0</td>\n",
              "    </tr>\n",
              "    <tr>\n",
              "      <th>8</th>\n",
              "      <td>50</td>\n",
              "      <td>1</td>\n",
              "      <td>5</td>\n",
              "      <td>Alabama</td>\n",
              "      <td>Barbour County</td>\n",
              "      <td>3</td>\n",
              "      <td>24964</td>\n",
              "      <td>13305</td>\n",
              "      <td>11659</td>\n",
              "      <td>1307</td>\n",
              "      <td>...</td>\n",
              "      <td>567</td>\n",
              "      <td>549</td>\n",
              "      <td>231</td>\n",
              "      <td>318</td>\n",
              "      <td>477</td>\n",
              "      <td>157</td>\n",
              "      <td>320</td>\n",
              "      <td>41.2</td>\n",
              "      <td>39.3</td>\n",
              "      <td>44.2</td>\n",
              "    </tr>\n",
              "    <tr>\n",
              "      <th>11</th>\n",
              "      <td>50</td>\n",
              "      <td>1</td>\n",
              "      <td>7</td>\n",
              "      <td>Alabama</td>\n",
              "      <td>Bibb County</td>\n",
              "      <td>3</td>\n",
              "      <td>22477</td>\n",
              "      <td>12134</td>\n",
              "      <td>10343</td>\n",
              "      <td>1180</td>\n",
              "      <td>...</td>\n",
              "      <td>402</td>\n",
              "      <td>460</td>\n",
              "      <td>190</td>\n",
              "      <td>270</td>\n",
              "      <td>359</td>\n",
              "      <td>118</td>\n",
              "      <td>241</td>\n",
              "      <td>40.3</td>\n",
              "      <td>38.7</td>\n",
              "      <td>42.8</td>\n",
              "    </tr>\n",
              "    <tr>\n",
              "      <th>14</th>\n",
              "      <td>50</td>\n",
              "      <td>1</td>\n",
              "      <td>9</td>\n",
              "      <td>Alabama</td>\n",
              "      <td>Blount County</td>\n",
              "      <td>3</td>\n",
              "      <td>59041</td>\n",
              "      <td>29407</td>\n",
              "      <td>29634</td>\n",
              "      <td>3433</td>\n",
              "      <td>...</td>\n",
              "      <td>1177</td>\n",
              "      <td>1270</td>\n",
              "      <td>567</td>\n",
              "      <td>703</td>\n",
              "      <td>1048</td>\n",
              "      <td>394</td>\n",
              "      <td>654</td>\n",
              "      <td>41.2</td>\n",
              "      <td>40.5</td>\n",
              "      <td>41.9</td>\n",
              "    </tr>\n",
              "  </tbody>\n",
              "</table>\n",
              "<p>5 rows × 96 columns</p>\n",
              "</div>\n",
              "      <button class=\"colab-df-convert\" onclick=\"convertToInteractive('df-c5a2586f-2172-447e-ad2a-a87d1a2829fb')\"\n",
              "              title=\"Convert this dataframe to an interactive table.\"\n",
              "              style=\"display:none;\">\n",
              "        \n",
              "  <svg xmlns=\"http://www.w3.org/2000/svg\" height=\"24px\"viewBox=\"0 0 24 24\"\n",
              "       width=\"24px\">\n",
              "    <path d=\"M0 0h24v24H0V0z\" fill=\"none\"/>\n",
              "    <path d=\"M18.56 5.44l.94 2.06.94-2.06 2.06-.94-2.06-.94-.94-2.06-.94 2.06-2.06.94zm-11 1L8.5 8.5l.94-2.06 2.06-.94-2.06-.94L8.5 2.5l-.94 2.06-2.06.94zm10 10l.94 2.06.94-2.06 2.06-.94-2.06-.94-.94-2.06-.94 2.06-2.06.94z\"/><path d=\"M17.41 7.96l-1.37-1.37c-.4-.4-.92-.59-1.43-.59-.52 0-1.04.2-1.43.59L10.3 9.45l-7.72 7.72c-.78.78-.78 2.05 0 2.83L4 21.41c.39.39.9.59 1.41.59.51 0 1.02-.2 1.41-.59l7.78-7.78 2.81-2.81c.8-.78.8-2.07 0-2.86zM5.41 20L4 18.59l7.72-7.72 1.47 1.35L5.41 20z\"/>\n",
              "  </svg>\n",
              "      </button>\n",
              "      \n",
              "  <style>\n",
              "    .colab-df-container {\n",
              "      display:flex;\n",
              "      flex-wrap:wrap;\n",
              "      gap: 12px;\n",
              "    }\n",
              "\n",
              "    .colab-df-convert {\n",
              "      background-color: #E8F0FE;\n",
              "      border: none;\n",
              "      border-radius: 50%;\n",
              "      cursor: pointer;\n",
              "      display: none;\n",
              "      fill: #1967D2;\n",
              "      height: 32px;\n",
              "      padding: 0 0 0 0;\n",
              "      width: 32px;\n",
              "    }\n",
              "\n",
              "    .colab-df-convert:hover {\n",
              "      background-color: #E2EBFA;\n",
              "      box-shadow: 0px 1px 2px rgba(60, 64, 67, 0.3), 0px 1px 3px 1px rgba(60, 64, 67, 0.15);\n",
              "      fill: #174EA6;\n",
              "    }\n",
              "\n",
              "    [theme=dark] .colab-df-convert {\n",
              "      background-color: #3B4455;\n",
              "      fill: #D2E3FC;\n",
              "    }\n",
              "\n",
              "    [theme=dark] .colab-df-convert:hover {\n",
              "      background-color: #434B5C;\n",
              "      box-shadow: 0px 1px 3px 1px rgba(0, 0, 0, 0.15);\n",
              "      filter: drop-shadow(0px 1px 2px rgba(0, 0, 0, 0.3));\n",
              "      fill: #FFFFFF;\n",
              "    }\n",
              "  </style>\n",
              "\n",
              "      <script>\n",
              "        const buttonEl =\n",
              "          document.querySelector('#df-c5a2586f-2172-447e-ad2a-a87d1a2829fb button.colab-df-convert');\n",
              "        buttonEl.style.display =\n",
              "          google.colab.kernel.accessAllowed ? 'block' : 'none';\n",
              "\n",
              "        async function convertToInteractive(key) {\n",
              "          const element = document.querySelector('#df-c5a2586f-2172-447e-ad2a-a87d1a2829fb');\n",
              "          const dataTable =\n",
              "            await google.colab.kernel.invokeFunction('convertToInteractive',\n",
              "                                                     [key], {});\n",
              "          if (!dataTable) return;\n",
              "\n",
              "          const docLinkHtml = 'Like what you see? Visit the ' +\n",
              "            '<a target=\"_blank\" href=https://colab.research.google.com/notebooks/data_table.ipynb>data table notebook</a>'\n",
              "            + ' to learn more about interactive tables.';\n",
              "          element.innerHTML = '';\n",
              "          dataTable['output_type'] = 'display_data';\n",
              "          await google.colab.output.renderOutput(dataTable, element);\n",
              "          const docLink = document.createElement('div');\n",
              "          docLink.innerHTML = docLinkHtml;\n",
              "          element.appendChild(docLink);\n",
              "        }\n",
              "      </script>\n",
              "    </div>\n",
              "  </div>\n",
              "  "
            ]
          },
          "metadata": {},
          "execution_count": 529
        }
      ],
      "source": [
        "pop = pd.read_csv(\"https://www2.census.gov/programs-surveys/popest/datasets/2020-2021/counties/asrh/cc-est2021-agesex-all.csv\", encoding='latin-1')\n",
        "# Keep only the entries for the most recent year \"3\"\n",
        "pop = pop.loc[pop['YEAR'] == 3]\n",
        "# Preview\n",
        "pop.head()"
      ]
    },
    {
      "cell_type": "markdown",
      "source": [
        "Reformat FIPS code"
      ],
      "metadata": {
        "id": "dnlTa8_Us-VL"
      },
      "id": "dnlTa8_Us-VL"
    },
    {
      "cell_type": "code",
      "execution_count": null,
      "id": "daa894ed",
      "metadata": {
        "id": "daa894ed"
      },
      "outputs": [],
      "source": [
        "pop[\"FIPS2\"] = pop[\"STATE\"]*1000 + pop[\"COUNTY\"]\n",
        "pop[\"FIPS2\"] = pop[\"FIPS2\"].apply(lambda x: '{0:0>5}'.format(x)) "
      ]
    },
    {
      "cell_type": "code",
      "source": [
        "pop = pop[[\"POPESTIMATE\", \"FIPS2\"]]\n",
        "pop.head()\n"
      ],
      "metadata": {
        "colab": {
          "base_uri": "https://localhost:8080/",
          "height": 206
        },
        "id": "_fRjYXhgbd2Q",
        "outputId": "ec5823ee-21a3-4060-a50e-0892831b01ae"
      },
      "id": "_fRjYXhgbd2Q",
      "execution_count": null,
      "outputs": [
        {
          "output_type": "execute_result",
          "data": {
            "text/plain": [
              "    POPESTIMATE  FIPS2\n",
              "2         59095  01001\n",
              "5        239294  01003\n",
              "8         24964  01005\n",
              "11        22477  01007\n",
              "14        59041  01009"
            ],
            "text/html": [
              "\n",
              "  <div id=\"df-221a87d8-6971-468b-9c74-8ce69a8f6daf\">\n",
              "    <div class=\"colab-df-container\">\n",
              "      <div>\n",
              "<style scoped>\n",
              "    .dataframe tbody tr th:only-of-type {\n",
              "        vertical-align: middle;\n",
              "    }\n",
              "\n",
              "    .dataframe tbody tr th {\n",
              "        vertical-align: top;\n",
              "    }\n",
              "\n",
              "    .dataframe thead th {\n",
              "        text-align: right;\n",
              "    }\n",
              "</style>\n",
              "<table border=\"1\" class=\"dataframe\">\n",
              "  <thead>\n",
              "    <tr style=\"text-align: right;\">\n",
              "      <th></th>\n",
              "      <th>POPESTIMATE</th>\n",
              "      <th>FIPS2</th>\n",
              "    </tr>\n",
              "  </thead>\n",
              "  <tbody>\n",
              "    <tr>\n",
              "      <th>2</th>\n",
              "      <td>59095</td>\n",
              "      <td>01001</td>\n",
              "    </tr>\n",
              "    <tr>\n",
              "      <th>5</th>\n",
              "      <td>239294</td>\n",
              "      <td>01003</td>\n",
              "    </tr>\n",
              "    <tr>\n",
              "      <th>8</th>\n",
              "      <td>24964</td>\n",
              "      <td>01005</td>\n",
              "    </tr>\n",
              "    <tr>\n",
              "      <th>11</th>\n",
              "      <td>22477</td>\n",
              "      <td>01007</td>\n",
              "    </tr>\n",
              "    <tr>\n",
              "      <th>14</th>\n",
              "      <td>59041</td>\n",
              "      <td>01009</td>\n",
              "    </tr>\n",
              "  </tbody>\n",
              "</table>\n",
              "</div>\n",
              "      <button class=\"colab-df-convert\" onclick=\"convertToInteractive('df-221a87d8-6971-468b-9c74-8ce69a8f6daf')\"\n",
              "              title=\"Convert this dataframe to an interactive table.\"\n",
              "              style=\"display:none;\">\n",
              "        \n",
              "  <svg xmlns=\"http://www.w3.org/2000/svg\" height=\"24px\"viewBox=\"0 0 24 24\"\n",
              "       width=\"24px\">\n",
              "    <path d=\"M0 0h24v24H0V0z\" fill=\"none\"/>\n",
              "    <path d=\"M18.56 5.44l.94 2.06.94-2.06 2.06-.94-2.06-.94-.94-2.06-.94 2.06-2.06.94zm-11 1L8.5 8.5l.94-2.06 2.06-.94-2.06-.94L8.5 2.5l-.94 2.06-2.06.94zm10 10l.94 2.06.94-2.06 2.06-.94-2.06-.94-.94-2.06-.94 2.06-2.06.94z\"/><path d=\"M17.41 7.96l-1.37-1.37c-.4-.4-.92-.59-1.43-.59-.52 0-1.04.2-1.43.59L10.3 9.45l-7.72 7.72c-.78.78-.78 2.05 0 2.83L4 21.41c.39.39.9.59 1.41.59.51 0 1.02-.2 1.41-.59l7.78-7.78 2.81-2.81c.8-.78.8-2.07 0-2.86zM5.41 20L4 18.59l7.72-7.72 1.47 1.35L5.41 20z\"/>\n",
              "  </svg>\n",
              "      </button>\n",
              "      \n",
              "  <style>\n",
              "    .colab-df-container {\n",
              "      display:flex;\n",
              "      flex-wrap:wrap;\n",
              "      gap: 12px;\n",
              "    }\n",
              "\n",
              "    .colab-df-convert {\n",
              "      background-color: #E8F0FE;\n",
              "      border: none;\n",
              "      border-radius: 50%;\n",
              "      cursor: pointer;\n",
              "      display: none;\n",
              "      fill: #1967D2;\n",
              "      height: 32px;\n",
              "      padding: 0 0 0 0;\n",
              "      width: 32px;\n",
              "    }\n",
              "\n",
              "    .colab-df-convert:hover {\n",
              "      background-color: #E2EBFA;\n",
              "      box-shadow: 0px 1px 2px rgba(60, 64, 67, 0.3), 0px 1px 3px 1px rgba(60, 64, 67, 0.15);\n",
              "      fill: #174EA6;\n",
              "    }\n",
              "\n",
              "    [theme=dark] .colab-df-convert {\n",
              "      background-color: #3B4455;\n",
              "      fill: #D2E3FC;\n",
              "    }\n",
              "\n",
              "    [theme=dark] .colab-df-convert:hover {\n",
              "      background-color: #434B5C;\n",
              "      box-shadow: 0px 1px 3px 1px rgba(0, 0, 0, 0.15);\n",
              "      filter: drop-shadow(0px 1px 2px rgba(0, 0, 0, 0.3));\n",
              "      fill: #FFFFFF;\n",
              "    }\n",
              "  </style>\n",
              "\n",
              "      <script>\n",
              "        const buttonEl =\n",
              "          document.querySelector('#df-221a87d8-6971-468b-9c74-8ce69a8f6daf button.colab-df-convert');\n",
              "        buttonEl.style.display =\n",
              "          google.colab.kernel.accessAllowed ? 'block' : 'none';\n",
              "\n",
              "        async function convertToInteractive(key) {\n",
              "          const element = document.querySelector('#df-221a87d8-6971-468b-9c74-8ce69a8f6daf');\n",
              "          const dataTable =\n",
              "            await google.colab.kernel.invokeFunction('convertToInteractive',\n",
              "                                                     [key], {});\n",
              "          if (!dataTable) return;\n",
              "\n",
              "          const docLinkHtml = 'Like what you see? Visit the ' +\n",
              "            '<a target=\"_blank\" href=https://colab.research.google.com/notebooks/data_table.ipynb>data table notebook</a>'\n",
              "            + ' to learn more about interactive tables.';\n",
              "          element.innerHTML = '';\n",
              "          dataTable['output_type'] = 'display_data';\n",
              "          await google.colab.output.renderOutput(dataTable, element);\n",
              "          const docLink = document.createElement('div');\n",
              "          docLink.innerHTML = docLinkHtml;\n",
              "          element.appendChild(docLink);\n",
              "        }\n",
              "      </script>\n",
              "    </div>\n",
              "  </div>\n",
              "  "
            ]
          },
          "metadata": {},
          "execution_count": 531
        }
      ]
    },
    {
      "cell_type": "markdown",
      "source": [
        "Merge population with previous dataframe"
      ],
      "metadata": {
        "id": "tFNUQs-EdDyb"
      },
      "id": "tFNUQs-EdDyb"
    },
    {
      "cell_type": "code",
      "source": [
        "merged2=pd.merge(left=merged1, right=pop, left_on='FIPS_code', right_on='FIPS2')\n",
        "merged2.head()"
      ],
      "metadata": {
        "colab": {
          "base_uri": "https://localhost:8080/",
          "height": 206
        },
        "id": "dUsWfrhPYg6n",
        "outputId": "9270b033-2d64-4fde-86c7-27bf27d302df"
      },
      "id": "dUsWfrhPYg6n",
      "execution_count": null,
      "outputs": [
        {
          "output_type": "execute_result",
          "data": {
            "text/plain": [
              "  FIPS_code           Area_name  Civilian_labor_force_2021  \\\n",
              "0     01001  Autauga County, AL                    26341.0   \n",
              "1     01003  Baldwin County, AL                    99427.0   \n",
              "2     01005  Barbour County, AL                     8197.0   \n",
              "3     01007     Bibb County, AL                     8560.0   \n",
              "4     01009   Blount County, AL                    25127.0   \n",
              "\n",
              "   Median_Household_Income_2020  Rural_urban_continuum_code_2013   FIPS  \\\n",
              "0                       67565.0                              2.0  01001   \n",
              "1                       71135.0                              3.0  01003   \n",
              "2                       38866.0                              6.0  01005   \n",
              "3                       50907.0                              1.0  01007   \n",
              "4                       55203.0                              1.0  01009   \n",
              "\n",
              "       RegionName  2022-12-31  POPESTIMATE  FIPS2  \n",
              "0  Autauga County    247745.0        59095  01001  \n",
              "1  Baldwin County    378538.0       239294  01003  \n",
              "2  Barbour County    137713.0        24964  01005  \n",
              "3     Bibb County    183821.0        22477  01007  \n",
              "4   Blount County    265515.0        59041  01009  "
            ],
            "text/html": [
              "\n",
              "  <div id=\"df-4e596906-2636-45d7-be18-cb53171d8732\">\n",
              "    <div class=\"colab-df-container\">\n",
              "      <div>\n",
              "<style scoped>\n",
              "    .dataframe tbody tr th:only-of-type {\n",
              "        vertical-align: middle;\n",
              "    }\n",
              "\n",
              "    .dataframe tbody tr th {\n",
              "        vertical-align: top;\n",
              "    }\n",
              "\n",
              "    .dataframe thead th {\n",
              "        text-align: right;\n",
              "    }\n",
              "</style>\n",
              "<table border=\"1\" class=\"dataframe\">\n",
              "  <thead>\n",
              "    <tr style=\"text-align: right;\">\n",
              "      <th></th>\n",
              "      <th>FIPS_code</th>\n",
              "      <th>Area_name</th>\n",
              "      <th>Civilian_labor_force_2021</th>\n",
              "      <th>Median_Household_Income_2020</th>\n",
              "      <th>Rural_urban_continuum_code_2013</th>\n",
              "      <th>FIPS</th>\n",
              "      <th>RegionName</th>\n",
              "      <th>2022-12-31</th>\n",
              "      <th>POPESTIMATE</th>\n",
              "      <th>FIPS2</th>\n",
              "    </tr>\n",
              "  </thead>\n",
              "  <tbody>\n",
              "    <tr>\n",
              "      <th>0</th>\n",
              "      <td>01001</td>\n",
              "      <td>Autauga County, AL</td>\n",
              "      <td>26341.0</td>\n",
              "      <td>67565.0</td>\n",
              "      <td>2.0</td>\n",
              "      <td>01001</td>\n",
              "      <td>Autauga County</td>\n",
              "      <td>247745.0</td>\n",
              "      <td>59095</td>\n",
              "      <td>01001</td>\n",
              "    </tr>\n",
              "    <tr>\n",
              "      <th>1</th>\n",
              "      <td>01003</td>\n",
              "      <td>Baldwin County, AL</td>\n",
              "      <td>99427.0</td>\n",
              "      <td>71135.0</td>\n",
              "      <td>3.0</td>\n",
              "      <td>01003</td>\n",
              "      <td>Baldwin County</td>\n",
              "      <td>378538.0</td>\n",
              "      <td>239294</td>\n",
              "      <td>01003</td>\n",
              "    </tr>\n",
              "    <tr>\n",
              "      <th>2</th>\n",
              "      <td>01005</td>\n",
              "      <td>Barbour County, AL</td>\n",
              "      <td>8197.0</td>\n",
              "      <td>38866.0</td>\n",
              "      <td>6.0</td>\n",
              "      <td>01005</td>\n",
              "      <td>Barbour County</td>\n",
              "      <td>137713.0</td>\n",
              "      <td>24964</td>\n",
              "      <td>01005</td>\n",
              "    </tr>\n",
              "    <tr>\n",
              "      <th>3</th>\n",
              "      <td>01007</td>\n",
              "      <td>Bibb County, AL</td>\n",
              "      <td>8560.0</td>\n",
              "      <td>50907.0</td>\n",
              "      <td>1.0</td>\n",
              "      <td>01007</td>\n",
              "      <td>Bibb County</td>\n",
              "      <td>183821.0</td>\n",
              "      <td>22477</td>\n",
              "      <td>01007</td>\n",
              "    </tr>\n",
              "    <tr>\n",
              "      <th>4</th>\n",
              "      <td>01009</td>\n",
              "      <td>Blount County, AL</td>\n",
              "      <td>25127.0</td>\n",
              "      <td>55203.0</td>\n",
              "      <td>1.0</td>\n",
              "      <td>01009</td>\n",
              "      <td>Blount County</td>\n",
              "      <td>265515.0</td>\n",
              "      <td>59041</td>\n",
              "      <td>01009</td>\n",
              "    </tr>\n",
              "  </tbody>\n",
              "</table>\n",
              "</div>\n",
              "      <button class=\"colab-df-convert\" onclick=\"convertToInteractive('df-4e596906-2636-45d7-be18-cb53171d8732')\"\n",
              "              title=\"Convert this dataframe to an interactive table.\"\n",
              "              style=\"display:none;\">\n",
              "        \n",
              "  <svg xmlns=\"http://www.w3.org/2000/svg\" height=\"24px\"viewBox=\"0 0 24 24\"\n",
              "       width=\"24px\">\n",
              "    <path d=\"M0 0h24v24H0V0z\" fill=\"none\"/>\n",
              "    <path d=\"M18.56 5.44l.94 2.06.94-2.06 2.06-.94-2.06-.94-.94-2.06-.94 2.06-2.06.94zm-11 1L8.5 8.5l.94-2.06 2.06-.94-2.06-.94L8.5 2.5l-.94 2.06-2.06.94zm10 10l.94 2.06.94-2.06 2.06-.94-2.06-.94-.94-2.06-.94 2.06-2.06.94z\"/><path d=\"M17.41 7.96l-1.37-1.37c-.4-.4-.92-.59-1.43-.59-.52 0-1.04.2-1.43.59L10.3 9.45l-7.72 7.72c-.78.78-.78 2.05 0 2.83L4 21.41c.39.39.9.59 1.41.59.51 0 1.02-.2 1.41-.59l7.78-7.78 2.81-2.81c.8-.78.8-2.07 0-2.86zM5.41 20L4 18.59l7.72-7.72 1.47 1.35L5.41 20z\"/>\n",
              "  </svg>\n",
              "      </button>\n",
              "      \n",
              "  <style>\n",
              "    .colab-df-container {\n",
              "      display:flex;\n",
              "      flex-wrap:wrap;\n",
              "      gap: 12px;\n",
              "    }\n",
              "\n",
              "    .colab-df-convert {\n",
              "      background-color: #E8F0FE;\n",
              "      border: none;\n",
              "      border-radius: 50%;\n",
              "      cursor: pointer;\n",
              "      display: none;\n",
              "      fill: #1967D2;\n",
              "      height: 32px;\n",
              "      padding: 0 0 0 0;\n",
              "      width: 32px;\n",
              "    }\n",
              "\n",
              "    .colab-df-convert:hover {\n",
              "      background-color: #E2EBFA;\n",
              "      box-shadow: 0px 1px 2px rgba(60, 64, 67, 0.3), 0px 1px 3px 1px rgba(60, 64, 67, 0.15);\n",
              "      fill: #174EA6;\n",
              "    }\n",
              "\n",
              "    [theme=dark] .colab-df-convert {\n",
              "      background-color: #3B4455;\n",
              "      fill: #D2E3FC;\n",
              "    }\n",
              "\n",
              "    [theme=dark] .colab-df-convert:hover {\n",
              "      background-color: #434B5C;\n",
              "      box-shadow: 0px 1px 3px 1px rgba(0, 0, 0, 0.15);\n",
              "      filter: drop-shadow(0px 1px 2px rgba(0, 0, 0, 0.3));\n",
              "      fill: #FFFFFF;\n",
              "    }\n",
              "  </style>\n",
              "\n",
              "      <script>\n",
              "        const buttonEl =\n",
              "          document.querySelector('#df-4e596906-2636-45d7-be18-cb53171d8732 button.colab-df-convert');\n",
              "        buttonEl.style.display =\n",
              "          google.colab.kernel.accessAllowed ? 'block' : 'none';\n",
              "\n",
              "        async function convertToInteractive(key) {\n",
              "          const element = document.querySelector('#df-4e596906-2636-45d7-be18-cb53171d8732');\n",
              "          const dataTable =\n",
              "            await google.colab.kernel.invokeFunction('convertToInteractive',\n",
              "                                                     [key], {});\n",
              "          if (!dataTable) return;\n",
              "\n",
              "          const docLinkHtml = 'Like what you see? Visit the ' +\n",
              "            '<a target=\"_blank\" href=https://colab.research.google.com/notebooks/data_table.ipynb>data table notebook</a>'\n",
              "            + ' to learn more about interactive tables.';\n",
              "          element.innerHTML = '';\n",
              "          dataTable['output_type'] = 'display_data';\n",
              "          await google.colab.output.renderOutput(dataTable, element);\n",
              "          const docLink = document.createElement('div');\n",
              "          docLink.innerHTML = docLinkHtml;\n",
              "          element.appendChild(docLink);\n",
              "        }\n",
              "      </script>\n",
              "    </div>\n",
              "  </div>\n",
              "  "
            ]
          },
          "metadata": {},
          "execution_count": 532
        }
      ]
    },
    {
      "cell_type": "markdown",
      "id": "ce63ea99",
      "metadata": {
        "id": "ce63ea99"
      },
      "source": [
        "Calculate Price to Income Ratio"
      ]
    },
    {
      "cell_type": "code",
      "execution_count": null,
      "id": "2b3a25d3",
      "metadata": {
        "id": "2b3a25d3"
      },
      "outputs": [],
      "source": [
        "PIR = \"Price_Income_Ratio\"\n",
        "merged2[PIR] = merged2[mostrecentZHVI] / merged2[\"Median_Household_Income_2020\"]"
      ]
    },
    {
      "cell_type": "markdown",
      "id": "3a6fc510",
      "metadata": {
        "id": "3a6fc510"
      },
      "source": [
        "Rename and rearrange columns"
      ]
    },
    {
      "cell_type": "code",
      "execution_count": null,
      "id": "bd456fbc",
      "metadata": {
        "id": "bd456fbc"
      },
      "outputs": [],
      "source": [
        "merged2.rename(columns = {'Civilian_labor_force_2021':'Labor_Force', 'Median_Household_Income_2020':'Income', mostrecentZHVI:\"House_Price\", 'POPESTIMATE':'Population', 'Rural_urban_continuum_code_2013':'Rural_urban'}, inplace = True)\n",
        "merged2 = merged2[[\"FIPS_code\", \"Area_name\", PIR, \"House_Price\", \"Income\", \"Labor_Force\", \"Population\", \"Rural_urban\"]]\n"
      ]
    },
    {
      "cell_type": "markdown",
      "id": "ba78c0e8",
      "metadata": {
        "id": "ba78c0e8"
      },
      "source": [
        "Examine and Export"
      ]
    },
    {
      "cell_type": "code",
      "execution_count": null,
      "id": "a193144a",
      "metadata": {
        "id": "a193144a"
      },
      "outputs": [],
      "source": [
        "merged2.head()\n",
        "merged2.to_csv('merged.csv', encoding='utf-8', index=False)"
      ]
    },
    {
      "cell_type": "markdown",
      "id": "7862dd89",
      "metadata": {
        "id": "7862dd89"
      },
      "source": [
        "Calculate mean, standard deviation, percentiles, min/max\n",
        "\n",
        "Set as new dataframe and export"
      ]
    },
    {
      "cell_type": "code",
      "execution_count": null,
      "id": "0ca683c9",
      "metadata": {
        "id": "0ca683c9"
      },
      "outputs": [],
      "source": [
        "#Housing Price\n",
        "HP_mean = np.mean(merged2['House_Price'])\n",
        "HP_SD = np.std(merged2['House_Price'])\n",
        "HP_min = merged2['House_Price'].quantile(q=0)\n",
        "HP_25 = merged2['House_Price'].quantile(q=0.25)\n",
        "HP_50 = merged2['House_Price'].quantile(q=0.50)\n",
        "HP_75 = merged2['House_Price'].quantile(q=0.75)\n",
        "HP_max = merged2['House_Price'].quantile(q=1)\n",
        "\n",
        "#Median Income\n",
        "INC_mean = np.mean(merged2['Income'])\n",
        "INC_SD = np.std(merged2['Income'])\n",
        "INC_min = merged2['Income'].quantile(q=0)\n",
        "INC_25 = merged2['Income'].quantile(q=0.25)\n",
        "INC_50 = merged2['Income'].quantile(q=0.50)\n",
        "INC_75 = merged2['Income'].quantile(q=0.75)\n",
        "INC_max = merged2['Income'].quantile(q=1)\n",
        "\n",
        "#Price to Income Ratio\n",
        "PIR_mean = np.mean(merged2[PIR])\n",
        "PIR_SD = np.std(merged2[PIR])\n",
        "PIR_min = merged2[PIR].quantile(q=0)\n",
        "PIR_25 = merged2[PIR].quantile(q=0.25)\n",
        "PIR_50 = merged2[PIR].quantile(q=0.50)\n",
        "PIR_75 = merged2[PIR].quantile(q=0.75)\n",
        "PIR_max = merged2[PIR].quantile(q=1)\n"
      ]
    },
    {
      "cell_type": "code",
      "execution_count": null,
      "id": "7824f36e",
      "metadata": {
        "id": "7824f36e",
        "colab": {
          "base_uri": "https://localhost:8080/",
          "height": 143
        },
        "outputId": "bb4250bc-dfac-49cd-8142-18f98da4d44a"
      },
      "outputs": [
        {
          "output_type": "execute_result",
          "data": {
            "text/plain": [
              "                             Mean         St_Dev           Min            25%  \\\n",
              "Price_Income_Ratio       4.119392       1.883804      1.087423       2.920106   \n",
              "House_Price         249393.265845  168165.991808  39840.000000  146302.000000   \n",
              "Income               58018.909507   14684.018108  26866.000000   48286.750000   \n",
              "\n",
              "                           Median            75%           Max  \n",
              "Price_Income_Ratio       3.692877       4.745922  2.437296e+01  \n",
              "House_Price         203040.500000  302350.750000  2.332809e+06  \n",
              "Income               55627.000000   64502.750000  1.603050e+05  "
            ],
            "text/html": [
              "\n",
              "  <div id=\"df-df2a7b56-1f42-48dc-bbc2-5ec40d8e6046\">\n",
              "    <div class=\"colab-df-container\">\n",
              "      <div>\n",
              "<style scoped>\n",
              "    .dataframe tbody tr th:only-of-type {\n",
              "        vertical-align: middle;\n",
              "    }\n",
              "\n",
              "    .dataframe tbody tr th {\n",
              "        vertical-align: top;\n",
              "    }\n",
              "\n",
              "    .dataframe thead th {\n",
              "        text-align: right;\n",
              "    }\n",
              "</style>\n",
              "<table border=\"1\" class=\"dataframe\">\n",
              "  <thead>\n",
              "    <tr style=\"text-align: right;\">\n",
              "      <th></th>\n",
              "      <th>Mean</th>\n",
              "      <th>St_Dev</th>\n",
              "      <th>Min</th>\n",
              "      <th>25%</th>\n",
              "      <th>Median</th>\n",
              "      <th>75%</th>\n",
              "      <th>Max</th>\n",
              "    </tr>\n",
              "  </thead>\n",
              "  <tbody>\n",
              "    <tr>\n",
              "      <th>Price_Income_Ratio</th>\n",
              "      <td>4.119392</td>\n",
              "      <td>1.883804</td>\n",
              "      <td>1.087423</td>\n",
              "      <td>2.920106</td>\n",
              "      <td>3.692877</td>\n",
              "      <td>4.745922</td>\n",
              "      <td>2.437296e+01</td>\n",
              "    </tr>\n",
              "    <tr>\n",
              "      <th>House_Price</th>\n",
              "      <td>249393.265845</td>\n",
              "      <td>168165.991808</td>\n",
              "      <td>39840.000000</td>\n",
              "      <td>146302.000000</td>\n",
              "      <td>203040.500000</td>\n",
              "      <td>302350.750000</td>\n",
              "      <td>2.332809e+06</td>\n",
              "    </tr>\n",
              "    <tr>\n",
              "      <th>Income</th>\n",
              "      <td>58018.909507</td>\n",
              "      <td>14684.018108</td>\n",
              "      <td>26866.000000</td>\n",
              "      <td>48286.750000</td>\n",
              "      <td>55627.000000</td>\n",
              "      <td>64502.750000</td>\n",
              "      <td>1.603050e+05</td>\n",
              "    </tr>\n",
              "  </tbody>\n",
              "</table>\n",
              "</div>\n",
              "      <button class=\"colab-df-convert\" onclick=\"convertToInteractive('df-df2a7b56-1f42-48dc-bbc2-5ec40d8e6046')\"\n",
              "              title=\"Convert this dataframe to an interactive table.\"\n",
              "              style=\"display:none;\">\n",
              "        \n",
              "  <svg xmlns=\"http://www.w3.org/2000/svg\" height=\"24px\"viewBox=\"0 0 24 24\"\n",
              "       width=\"24px\">\n",
              "    <path d=\"M0 0h24v24H0V0z\" fill=\"none\"/>\n",
              "    <path d=\"M18.56 5.44l.94 2.06.94-2.06 2.06-.94-2.06-.94-.94-2.06-.94 2.06-2.06.94zm-11 1L8.5 8.5l.94-2.06 2.06-.94-2.06-.94L8.5 2.5l-.94 2.06-2.06.94zm10 10l.94 2.06.94-2.06 2.06-.94-2.06-.94-.94-2.06-.94 2.06-2.06.94z\"/><path d=\"M17.41 7.96l-1.37-1.37c-.4-.4-.92-.59-1.43-.59-.52 0-1.04.2-1.43.59L10.3 9.45l-7.72 7.72c-.78.78-.78 2.05 0 2.83L4 21.41c.39.39.9.59 1.41.59.51 0 1.02-.2 1.41-.59l7.78-7.78 2.81-2.81c.8-.78.8-2.07 0-2.86zM5.41 20L4 18.59l7.72-7.72 1.47 1.35L5.41 20z\"/>\n",
              "  </svg>\n",
              "      </button>\n",
              "      \n",
              "  <style>\n",
              "    .colab-df-container {\n",
              "      display:flex;\n",
              "      flex-wrap:wrap;\n",
              "      gap: 12px;\n",
              "    }\n",
              "\n",
              "    .colab-df-convert {\n",
              "      background-color: #E8F0FE;\n",
              "      border: none;\n",
              "      border-radius: 50%;\n",
              "      cursor: pointer;\n",
              "      display: none;\n",
              "      fill: #1967D2;\n",
              "      height: 32px;\n",
              "      padding: 0 0 0 0;\n",
              "      width: 32px;\n",
              "    }\n",
              "\n",
              "    .colab-df-convert:hover {\n",
              "      background-color: #E2EBFA;\n",
              "      box-shadow: 0px 1px 2px rgba(60, 64, 67, 0.3), 0px 1px 3px 1px rgba(60, 64, 67, 0.15);\n",
              "      fill: #174EA6;\n",
              "    }\n",
              "\n",
              "    [theme=dark] .colab-df-convert {\n",
              "      background-color: #3B4455;\n",
              "      fill: #D2E3FC;\n",
              "    }\n",
              "\n",
              "    [theme=dark] .colab-df-convert:hover {\n",
              "      background-color: #434B5C;\n",
              "      box-shadow: 0px 1px 3px 1px rgba(0, 0, 0, 0.15);\n",
              "      filter: drop-shadow(0px 1px 2px rgba(0, 0, 0, 0.3));\n",
              "      fill: #FFFFFF;\n",
              "    }\n",
              "  </style>\n",
              "\n",
              "      <script>\n",
              "        const buttonEl =\n",
              "          document.querySelector('#df-df2a7b56-1f42-48dc-bbc2-5ec40d8e6046 button.colab-df-convert');\n",
              "        buttonEl.style.display =\n",
              "          google.colab.kernel.accessAllowed ? 'block' : 'none';\n",
              "\n",
              "        async function convertToInteractive(key) {\n",
              "          const element = document.querySelector('#df-df2a7b56-1f42-48dc-bbc2-5ec40d8e6046');\n",
              "          const dataTable =\n",
              "            await google.colab.kernel.invokeFunction('convertToInteractive',\n",
              "                                                     [key], {});\n",
              "          if (!dataTable) return;\n",
              "\n",
              "          const docLinkHtml = 'Like what you see? Visit the ' +\n",
              "            '<a target=\"_blank\" href=https://colab.research.google.com/notebooks/data_table.ipynb>data table notebook</a>'\n",
              "            + ' to learn more about interactive tables.';\n",
              "          element.innerHTML = '';\n",
              "          dataTable['output_type'] = 'display_data';\n",
              "          await google.colab.output.renderOutput(dataTable, element);\n",
              "          const docLink = document.createElement('div');\n",
              "          docLink.innerHTML = docLinkHtml;\n",
              "          element.appendChild(docLink);\n",
              "        }\n",
              "      </script>\n",
              "    </div>\n",
              "  </div>\n",
              "  "
            ]
          },
          "metadata": {},
          "execution_count": 548
        }
      ],
      "source": [
        "#Merge all stats into new statsdf dataframe with headers\n",
        "statsdf = pd.DataFrame(columns=[\"Mean\", \"St_Dev\", \"Min\", \"25%\", \"Median\", \"75%\", \"Max\"])\n",
        "statsdf.loc['Price_Income_Ratio'] = [PIR_mean, PIR_SD, PIR_min, PIR_25, PIR_50, PIR_75, PIR_max]\n",
        "statsdf.loc['House_Price'] = [HP_mean, HP_SD, HP_min, HP_25, HP_50, HP_75, HP_max]\n",
        "statsdf.loc['Income'] = [INC_mean, INC_SD, INC_min, INC_25, INC_50, INC_75, INC_max]\n",
        "# Preview\n",
        "statsdf"
      ]
    },
    {
      "cell_type": "code",
      "source": [
        "# Export\n",
        "statsdf.to_csv('stats.csv', index=False)"
      ],
      "metadata": {
        "id": "8WfGBZoJ5eUU"
      },
      "id": "8WfGBZoJ5eUU",
      "execution_count": null,
      "outputs": []
    },
    {
      "cell_type": "markdown",
      "source": [
        "Create Large Color-Coded Scatterplot with Highlighted Counties"
      ],
      "metadata": {
        "id": "bIb83GAjQ52H"
      },
      "id": "bIb83GAjQ52H"
    },
    {
      "cell_type": "code",
      "execution_count": null,
      "id": "34927224",
      "metadata": {
        "colab": {
          "base_uri": "https://localhost:8080/",
          "height": 1000
        },
        "id": "34927224",
        "outputId": "aa689f2e-deef-4571-c820-bb53b1183f34"
      },
      "outputs": [
        {
          "output_type": "display_data",
          "data": {
            "text/plain": [
              "<Figure size 2160x1440 with 1 Axes>"
            ],
            "image/png": "[encoded data removed]"
          },
          "metadata": {
            "needs_background": "light"
          }
        }
      ],
      "source": [
        "#Calculate value arrays to use for colors and sizes\n",
        "colors = merged2[\"Price_Income_Ratio\"].apply(lambda x: math.log((1/x)))\n",
        "sizes = (merged2[\"Population\"])**1.4/1000000\n",
        "\n",
        "#Create initial graph\n",
        "plt.rcParams[\"figure.figsize\"] = (30,20)\n",
        "plt.scatter(merged2['Income'], merged2['House_Price'], c=colors, cmap='Spectral', s=sizes, edgecolors=\"None\")\n",
        "plt.xlabel('Median Household Income')\n",
        "plt.ylabel('Median House Price x $1million')\n",
        "plt.title('Housing Price to Income by County')\n",
        "\n",
        "#Add selected counties to list after a validity check\n",
        "county_list = []\n",
        "county_names = ['Los Angeles County, CA', 'Cook County, IL', 'Lake County, IL', 'Middlesex County, NJ', 'New York County, NY', 'Miami-Dade County, FL',   'Wayne County, MI', 'Hillsborough County, FL',  'Bronx County, NY', 'Hillsborough County, NH', 'Loudoun County, VA', 'Erie County, NY', 'Multnomah County, OR', 'Nantucket County/town, MA', 'Wyoming County, WV']\n",
        "for row in merged2.index: \n",
        "    if merged2.iloc[row][\"Area_name\"] in county_names:\n",
        "        county_list.append(row)\n",
        "        \n",
        "#Highlight selected counties\n",
        "for i in county_list:\n",
        "    plt.annotate(merged2.iloc[i]['Area_name'], (merged2.iloc[i]['Income']+(math.sqrt(sizes[i])*80), merged2.iloc[i]['House_Price']+math.sqrt(sizes[i])*20), fontsize=8)\n",
        "    plt.scatter(merged2.iloc[i]['Income'], merged2.iloc[i]['House_Price'], s=sizes[i], c='None', edgecolor='black')\n",
        "\n",
        "plt.savefig('Price_to_Income_scatter1.png')\n"
      ]
    },
    {
      "cell_type": "code",
      "execution_count": null,
      "id": "9748da19",
      "metadata": {
        "id": "9748da19",
        "colab": {
          "base_uri": "https://localhost:8080/",
          "height": 619
        },
        "outputId": "9f6c1622-95d5-4013-9a5d-3422ea1ec7fc"
      },
      "outputs": [
        {
          "output_type": "execute_result",
          "data": {
            "text/plain": [
              "<matplotlib.collections.PathCollection at 0x7fd90cb20370>"
            ]
          },
          "metadata": {},
          "execution_count": 539
        },
        {
          "output_type": "display_data",
          "data": {
            "text/plain": [
              "<Figure size 1440x720 with 1 Axes>"
            ],
            "image/png": "[encoded data removed]"
          },
          "metadata": {
            "needs_background": "light"
          }
        }
      ],
      "source": [
        "\n",
        "\n",
        "#plt.scatter(merged[\"Labor_Force\"], merged[\"Price_Income_Ratio\"],  c=colors, cmap='Spectral', s=sizes)\n",
        "#plt.xscale('log')\n",
        "#plt.yscale('linear')\n",
        "#for i in t:\n",
        "#    plt.annotate(merged.iloc[i]['Area_name'], (merged.iloc[i]['Income']+(math.sqrt(sizes[i])*80), merged.iloc[i]['House_Price']+math.sqrt(sizes[i])*20), fontsize=6)\n",
        "#    plt.scatter(merged.iloc[i][\"Labor_Force\"], merged.iloc[i][\"Price_Income_Ratio\"], s=sizes[i], c='None', edgecolor='black')\n",
        "plt.rcParams[\"figure.figsize\"] = (20,10)\n",
        "plt.scatter(merged2[\"Income\"], merged2[\"House_Price\"])\n",
        "\n"
      ]
    },
    {
      "cell_type": "markdown",
      "source": [
        "Generate Regression Model"
      ],
      "metadata": {
        "id": "oIb2hJFaOsCh"
      },
      "id": "oIb2hJFaOsCh"
    },
    {
      "cell_type": "code",
      "source": [
        "X = merged2[[\"Income\"]]\n",
        "y = merged2[[\"House_Price\"]]\n",
        "\n",
        "X_train, X_test, y_train, y_test = train_test_split(\n",
        "    X, y, test_size=0.3, random_state=101)\n",
        "\n",
        "lr = LinearRegression()\n",
        "lr.fit(X_train, y_train)\n",
        "y_pred = lr.predict(X)\n",
        "#lr.coef_\n",
        "#lr.intercept_"
      ],
      "metadata": {
        "id": "XVHKcFr38ydC"
      },
      "id": "XVHKcFr38ydC",
      "execution_count": null,
      "outputs": []
    },
    {
      "cell_type": "markdown",
      "source": [
        "Plot Regression Model"
      ],
      "metadata": {
        "id": "xqwdzp0QOnb2"
      },
      "id": "xqwdzp0QOnb2"
    },
    {
      "cell_type": "code",
      "source": [
        "plt.scatter(X, y, color = 'red')\n",
        "plt.plot(X, lr.predict(X), color = 'blue')\n",
        "plt.title('Countywide Median Household Income vs Housing Cost')\n",
        "plt.xlabel('Median Household Income')\n",
        "plt.ylabel('Housing Cost x $1million')\n",
        "plt.show()"
      ],
      "metadata": {
        "colab": {
          "base_uri": "https://localhost:8080/",
          "height": 621
        },
        "id": "f7swzAKF8FTQ",
        "outputId": "48039e88-b03d-478d-ba97-0b3d5fe31264"
      },
      "id": "f7swzAKF8FTQ",
      "execution_count": null,
      "outputs": [
        {
          "output_type": "display_data",
          "data": {
            "text/plain": [
              "<Figure size 1440x720 with 1 Axes>"
            ],
            "image/png": "[encoded data removed]"
          },
          "metadata": {
            "needs_background": "light"
          }
        }
      ]
    },
    {
      "cell_type": "markdown",
      "id": "d4c31c49",
      "metadata": {
        "id": "d4c31c49"
      },
      "source": [
        "Plot Histogram of Price-to-Income Ratios"
      ]
    },
    {
      "cell_type": "code",
      "execution_count": null,
      "id": "755919af",
      "metadata": {
        "colab": {
          "base_uri": "https://localhost:8080/",
          "height": 295
        },
        "id": "755919af",
        "outputId": "f8daac84-5e95-4432-8896-753354172bce"
      },
      "outputs": [
        {
          "output_type": "display_data",
          "data": {
            "text/plain": [
              "<Figure size 864x288 with 1 Axes>"
            ],
            "image/png": "[encoded data removed]"
          },
          "metadata": {
            "needs_background": "light"
          }
        }
      ],
      "source": [
        "plt.rcParams[\"figure.figsize\"] = (12,4)\n",
        "\n",
        "plt.hist(merged2[PIR], 100, facecolor='b', alpha=.75)\n",
        "#weights=merged[\"Labor_Force\"]\n",
        "\n",
        "plt.xlabel('Price to Income Ratio')\n",
        "plt.ylabel('Count')\n",
        "plt.title('County Price to Income Ratio Distribution')\n",
        "plt.axvline(PIR_mean, color='black')\n",
        "#plt.axvline(PIR_50, color='black')\n",
        "#plt.axvline(PIR_75, color='black')\n",
        "\n",
        "\n",
        "txt = f'$\\mu={PIR_mean:.3f},\\ \\sigma={PIR_SD:.3f}$\\n Median: {PIR_50:.3f}'\n",
        "plt.text(10, 100, txt)\n",
        "plt.savefig('PIR.png')\n",
        "plt.show()"
      ]
    },
    {
      "cell_type": "code",
      "execution_count": null,
      "id": "7a0dfe9b",
      "metadata": {
        "colab": {
          "base_uri": "https://localhost:8080/",
          "height": 295
        },
        "id": "7a0dfe9b",
        "outputId": "249dc1fd-6bfa-4217-964a-c738422ab78c"
      },
      "outputs": [
        {
          "output_type": "display_data",
          "data": {
            "text/plain": [
              "<Figure size 864x288 with 1 Axes>"
            ],
            "image/png": "[encoded data removed]"
          },
          "metadata": {
            "needs_background": "light"
          }
        }
      ],
      "source": [
        "plt.hist(merged2[PIR], 100, facecolor='b', alpha=.75, weights=merged2[\"Labor_Force\"])\n",
        "\n",
        "\n",
        "plt.xlabel('Price to Income Ratio')\n",
        "plt.ylabel('Weighted Count')\n",
        "plt.title('Population-Weighted County Price to Income Ratio Distribution')\n",
        "plt.axvline(PIR_mean, color='black')\n",
        "#plt.axvline(PIR_50, color='black')\n",
        "#plt.axvline(PIR_75, color='black')\n",
        "txt = f'$\\mu={PIR_mean:.3f},\\ \\sigma={PIR_SD:.3f}$\\n Median: {PIR_50:.3f}'\n",
        "plt.text(10, 9000000, txt)\n",
        "plt.savefig('PIR_weighted.png')\n",
        "plt.show()"
      ]
    },
    {
      "cell_type": "code",
      "execution_count": null,
      "id": "72fb03ae",
      "metadata": {
        "colab": {
          "base_uri": "https://localhost:8080/",
          "height": 295
        },
        "id": "72fb03ae",
        "outputId": "f83d2ffd-180a-4284-acc3-38529352333a"
      },
      "outputs": [
        {
          "output_type": "display_data",
          "data": {
            "text/plain": [
              "<Figure size 864x288 with 1 Axes>"
            ],
            "image/png": "[encoded data removed]"
          },
          "metadata": {
            "needs_background": "light"
          }
        }
      ],
      "source": [
        "n, bins, patches = plt.hist(merged2[\"Income\"], 100, facecolor='g', alpha=.75)\n",
        "plt.xlabel('County Income')\n",
        "plt.ylabel('Count')\n",
        "plt.title('County Income Distribution')\n",
        "plt.axvline(US_MHI, color='black')\n",
        "txt = f'$\\mu={INC_mean:.0f},\\ \\sigma={INC_SD:.0f}$\\n Median: {INC_50:.0f}'\n",
        "plt.text(100000, 100, txt)\n",
        "plt.savefig('Income.png')\n",
        "plt.show()"
      ]
    },
    {
      "cell_type": "code",
      "execution_count": null,
      "id": "3d5b6fd4",
      "metadata": {
        "colab": {
          "base_uri": "https://localhost:8080/",
          "height": 295
        },
        "id": "3d5b6fd4",
        "outputId": "12c42de1-a200-4ab7-d7cf-5c47a2632f47"
      },
      "outputs": [
        {
          "output_type": "display_data",
          "data": {
            "text/plain": [
              "<Figure size 864x288 with 1 Axes>"
            ],
            "image/png": "[encoded data removed]"
          },
          "metadata": {
            "needs_background": "light"
          }
        }
      ],
      "source": [
        "n, bins, patches = plt.hist(merged2[\"Income\"], 100, facecolor='g', alpha=.75, weights=merged2[\"Labor_Force\"])\n",
        "plt.xlabel('Income ($)')\n",
        "plt.ylabel('Weighted Count')\n",
        "plt.title('Population-Weighted County Income Distribution')\n",
        "plt.axvline(US_MHI, color='black')\n",
        "# plt.text(10, .025, r'$\\mu=100,\\ \\sigma=15$')\n",
        "plt.savefig('Income_weighted.png')\n",
        "plt.show()"
      ]
    },
    {
      "cell_type": "code",
      "execution_count": null,
      "id": "30f57702",
      "metadata": {
        "colab": {
          "base_uri": "https://localhost:8080/",
          "height": 295
        },
        "id": "30f57702",
        "outputId": "46f5c699-d87e-4d7b-d624-6d0fa9134060"
      },
      "outputs": [
        {
          "output_type": "display_data",
          "data": {
            "text/plain": [
              "<Figure size 864x288 with 1 Axes>"
            ],
            "image/png": "[encoded data removed]"
          },
          "metadata": {
            "needs_background": "light"
          }
        }
      ],
      "source": [
        "n, bins, patches = plt.hist(merged2[\"House_Price\"], 100, facecolor='r', alpha=.75)\n",
        "#plt.set_xticks([100000, 200000, 300000, 400000, 500000])\n",
        "plt.xlabel('Housing Cost ($million)')\n",
        "plt.ylabel('Count')\n",
        "plt.title('County Housing Cost')\n",
        "plt.savefig('House_cost.png')\n",
        "plt.show()"
      ]
    },
    {
      "cell_type": "code",
      "execution_count": null,
      "id": "5018075b",
      "metadata": {
        "id": "5018075b"
      },
      "outputs": [],
      "source": []
    },
    {
      "cell_type": "code",
      "execution_count": null,
      "id": "6e912305",
      "metadata": {
        "id": "6e912305",
        "colab": {
          "base_uri": "https://localhost:8080/",
          "height": 295
        },
        "outputId": "2a433b67-0f31-469c-8993-b1a6ad683136"
      },
      "outputs": [
        {
          "output_type": "display_data",
          "data": {
            "text/plain": [
              "<Figure size 864x288 with 1 Axes>"
            ],
            "image/png": "[encoded data removed]"
          },
          "metadata": {
            "needs_background": "light"
          }
        }
      ],
      "source": [
        "n, bins, patches = plt.hist(merged2[\"House_Price\"], 100, facecolor='r', alpha=.75, weights=merged2[\"Labor_Force\"])\n",
        "plt.xlabel('County Housing Cost x $1 million')\n",
        "plt.ylabel('Weighted Count')\n",
        "plt.title('Population-Weighted County Housing Cost')\n",
        "plt.savefig('House_cost_weighted')\n",
        "plt.show()"
      ]
    },
    {
      "cell_type": "code",
      "execution_count": null,
      "id": "5a0b5190",
      "metadata": {
        "id": "5a0b5190"
      },
      "outputs": [],
      "source": []
    }
  ],
  "metadata": {
    "colab": {
      "provenance": []
    },
    "kernelspec": {
      "display_name": "Python 3.10.4 64-bit",
      "language": "python",
      "name": "python3"
    },
    "language_info": {
      "codemirror_mode": {
        "name": "ipython",
        "version": 3
      },
      "file_extension": ".py",
      "mimetype": "text/x-python",
      "name": "python",
      "nbconvert_exporter": "python",
      "pygments_lexer": "ipython3",
      "version": "3.10.4"
    },
    "vscode": {
      "interpreter": {
        "hash": "91b0f9611463a9792426a975c97491acda42d543aee915178ee5e41afe7161ad"
      }
    }
  },
  "nbformat": 4,
  "nbformat_minor": 5
}