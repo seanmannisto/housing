{
  "cells": [
    {
      "cell_type": "markdown",
      "id": "a0f22662",
      "metadata": {
        "id": "a0f22662"
      },
      "source": [
        "## Housing Affordability"
      ]
    },
    {
      "cell_type": "markdown",
      "id": "ef7ea448",
      "metadata": {
        "id": "ef7ea448"
      },
      "source": [
        "##### Original Datasets:\n",
        "###### Zillow \"Housing Value Index All Homes Time Series Smoothed Seasonally Adjusted\"\n",
        "###### https://www.zillow.com/research/data/\n",
        "###### USDA \"Unemployment and median household income for the U.S., States, and counties, 2000-2021\" \n",
        "###### https://www.ers.usda.gov/data-products/county-level-data-sets/county-level-data-sets-download-data/\n",
        "###### US Census \"Annual County Resident Population Estimates by Age, Sex, Race, and Hispanic Origin: April 1, 2020 to July 1, 2021\"\n",
        "###### https://www2.census.gov/programs-surveys/popest/datasets/2020-2021/counties/asrh/cc-est2021-agesex-all.csv\n",
        "\n"
      ]
    },
    {
      "cell_type": "markdown",
      "id": "6c214126",
      "metadata": {
        "id": "6c214126"
      },
      "source": [
        "Load in libraries"
      ]
    },
    {
      "cell_type": "code",
      "execution_count": 160,
      "id": "2353e8c6",
      "metadata": {
        "id": "2353e8c6",
        "scrolled": true
      },
      "outputs": [],
      "source": [
        "import pandas as pd\n",
        "import numpy as np\n",
        "import math\n",
        "\n",
        "from matplotlib import pyplot as plt\n",
        "\n",
        "from sklearn.model_selection import train_test_split\n",
        "from sklearn.linear_model import LinearRegression\n",
        "from sklearn.metrics import mean_squared_error\n",
        "\n"
      ]
    },
    {
      "cell_type": "code",
      "source": [
        "#!pip install colorspacious\n",
        "from colorspacious import cspace_converter\n",
        "\n",
        "#!pip install statsmodels\n",
        "import statsmodels.api as sm"
      ],
      "metadata": {
        "id": "mjuIvnG3B8MV"
      },
      "id": "mjuIvnG3B8MV",
      "execution_count": 161,
      "outputs": []
    },
    {
      "cell_type": "markdown",
      "id": "bd54d9e8",
      "metadata": {
        "id": "bd54d9e8"
      },
      "source": [
        "Download and read in USDA employment and income CSV to dataframe"
      ]
    },
    {
      "cell_type": "code",
      "execution_count": 162,
      "id": "ff89e998",
      "metadata": {
        "id": "ff89e998"
      },
      "outputs": [],
      "source": [
        "# The first 3 rows are source information, so header index set to start at row 4.\n",
        "unemployment = pd.read_excel(\"https://www.ers.usda.gov/webdocs/DataFiles/48747/Unemployment.xlsx?v=7156\", \"Unemployment Med HH Income\", header = 4)\n"
      ]
    },
    {
      "cell_type": "code",
      "source": [
        "# Shape of the dataframe\n",
        "print(\"Shape: \"+ str(unemployment.shape))\n",
        "# Preview\n",
        "unemployment.head()"
      ],
      "metadata": {
        "colab": {
          "base_uri": "https://localhost:8080/",
          "height": 386
        },
        "id": "dE_9AnOh-HFE",
        "outputId": "a96d857b-54ca-48d8-b2e2-5c866c86df37"
      },
      "id": "dE_9AnOh-HFE",
      "execution_count": 163,
      "outputs": [
        {
          "output_type": "stream",
          "name": "stdout",
          "text": [
            "Shape: (3277, 96)\n"
          ]
        },
        {
          "output_type": "execute_result",
          "data": {
            "text/plain": [
              "   FIPS_code State           Area_name  Rural_urban_continuum_code_2013  \\\n",
              "0          0    US       United States                              NaN   \n",
              "1       1000    AL             Alabama                              NaN   \n",
              "2       1001    AL  Autauga County, AL                              2.0   \n",
              "3       1003    AL  Baldwin County, AL                              3.0   \n",
              "4       1005    AL  Barbour County, AL                              6.0   \n",
              "\n",
              "   Urban_influence_code_2013  Metro_2013  Civilian_labor_force_2000  \\\n",
              "0                        NaN         NaN                142601576.0   \n",
              "1                        NaN         NaN                  2147173.0   \n",
              "2                        2.0         1.0                    21861.0   \n",
              "3                        2.0         1.0                    69979.0   \n",
              "4                        6.0         0.0                    11449.0   \n",
              "\n",
              "   Employed_2000  Unemployed_2000  Unemployment_rate_2000  ...  \\\n",
              "0    136904853.0        5696723.0                3.994853  ...   \n",
              "1      2047731.0          99442.0                4.600000  ...   \n",
              "2        20971.0            890.0                4.100000  ...   \n",
              "3        67370.0           2609.0                3.700000  ...   \n",
              "4        10812.0            637.0                5.600000  ...   \n",
              "\n",
              "   Civilian_labor_force_2020  Employed_2020  Unemployed_2020  \\\n",
              "0                161207103.0    148183367.0       13023736.0   \n",
              "1                  2268309.0      2121149.0         147160.0   \n",
              "2                    26405.0        24985.0           1420.0   \n",
              "3                    98910.0        92751.0           6159.0   \n",
              "4                     8680.0         8004.0            676.0   \n",
              "\n",
              "   Unemployment_rate_2020  Civilian_labor_force_2021  Employed_2021  \\\n",
              "0                8.078885                161758337.0    153099687.0   \n",
              "1                6.500000                  2246993.0      2169721.0   \n",
              "2                5.400000                    26341.0        25599.0   \n",
              "3                6.200000                    99427.0        96481.0   \n",
              "4                7.800000                     8197.0         7728.0   \n",
              "\n",
              "   Unemployed_2021  Unemployment_rate_2021  Median_Household_Income_2020  \\\n",
              "0        8658650.0                5.352831                       67340.0   \n",
              "1          77272.0                3.400000                       53958.0   \n",
              "2            742.0                2.800000                       67565.0   \n",
              "3           2946.0                3.000000                       71135.0   \n",
              "4            469.0                5.700000                       38866.0   \n",
              "\n",
              "   Med_HH_Income_Percent_of_State_Total_2020  \n",
              "0                                        NaN  \n",
              "1                                 100.000000  \n",
              "2                                 125.217762  \n",
              "3                                 131.834019  \n",
              "4                                  72.030097  \n",
              "\n",
              "[5 rows x 96 columns]"
            ],
            "text/html": [
              "\n",
              "  <div id=\"df-203146ab-60bb-472a-90d3-d8527b2214cb\">\n",
              "    <div class=\"colab-df-container\">\n",
              "      <div>\n",
              "<style scoped>\n",
              "    .dataframe tbody tr th:only-of-type {\n",
              "        vertical-align: middle;\n",
              "    }\n",
              "\n",
              "    .dataframe tbody tr th {\n",
              "        vertical-align: top;\n",
              "    }\n",
              "\n",
              "    .dataframe thead th {\n",
              "        text-align: right;\n",
              "    }\n",
              "</style>\n",
              "<table border=\"1\" class=\"dataframe\">\n",
              "  <thead>\n",
              "    <tr style=\"text-align: right;\">\n",
              "      <th></th>\n",
              "      <th>FIPS_code</th>\n",
              "      <th>State</th>\n",
              "      <th>Area_name</th>\n",
              "      <th>Rural_urban_continuum_code_2013</th>\n",
              "      <th>Urban_influence_code_2013</th>\n",
              "      <th>Metro_2013</th>\n",
              "      <th>Civilian_labor_force_2000</th>\n",
              "      <th>Employed_2000</th>\n",
              "      <th>Unemployed_2000</th>\n",
              "      <th>Unemployment_rate_2000</th>\n",
              "      <th>...</th>\n",
              "      <th>Civilian_labor_force_2020</th>\n",
              "      <th>Employed_2020</th>\n",
              "      <th>Unemployed_2020</th>\n",
              "      <th>Unemployment_rate_2020</th>\n",
              "      <th>Civilian_labor_force_2021</th>\n",
              "      <th>Employed_2021</th>\n",
              "      <th>Unemployed_2021</th>\n",
              "      <th>Unemployment_rate_2021</th>\n",
              "      <th>Median_Household_Income_2020</th>\n",
              "      <th>Med_HH_Income_Percent_of_State_Total_2020</th>\n",
              "    </tr>\n",
              "  </thead>\n",
              "  <tbody>\n",
              "    <tr>\n",
              "      <th>0</th>\n",
              "      <td>0</td>\n",
              "      <td>US</td>\n",
              "      <td>United States</td>\n",
              "      <td>NaN</td>\n",
              "      <td>NaN</td>\n",
              "      <td>NaN</td>\n",
              "      <td>142601576.0</td>\n",
              "      <td>136904853.0</td>\n",
              "      <td>5696723.0</td>\n",
              "      <td>3.994853</td>\n",
              "      <td>...</td>\n",
              "      <td>161207103.0</td>\n",
              "      <td>148183367.0</td>\n",
              "      <td>13023736.0</td>\n",
              "      <td>8.078885</td>\n",
              "      <td>161758337.0</td>\n",
              "      <td>153099687.0</td>\n",
              "      <td>8658650.0</td>\n",
              "      <td>5.352831</td>\n",
              "      <td>67340.0</td>\n",
              "      <td>NaN</td>\n",
              "    </tr>\n",
              "    <tr>\n",
              "      <th>1</th>\n",
              "      <td>1000</td>\n",
              "      <td>AL</td>\n",
              "      <td>Alabama</td>\n",
              "      <td>NaN</td>\n",
              "      <td>NaN</td>\n",
              "      <td>NaN</td>\n",
              "      <td>2147173.0</td>\n",
              "      <td>2047731.0</td>\n",
              "      <td>99442.0</td>\n",
              "      <td>4.600000</td>\n",
              "      <td>...</td>\n",
              "      <td>2268309.0</td>\n",
              "      <td>2121149.0</td>\n",
              "      <td>147160.0</td>\n",
              "      <td>6.500000</td>\n",
              "      <td>2246993.0</td>\n",
              "      <td>2169721.0</td>\n",
              "      <td>77272.0</td>\n",
              "      <td>3.400000</td>\n",
              "      <td>53958.0</td>\n",
              "      <td>100.000000</td>\n",
              "    </tr>\n",
              "    <tr>\n",
              "      <th>2</th>\n",
              "      <td>1001</td>\n",
              "      <td>AL</td>\n",
              "      <td>Autauga County, AL</td>\n",
              "      <td>2.0</td>\n",
              "      <td>2.0</td>\n",
              "      <td>1.0</td>\n",
              "      <td>21861.0</td>\n",
              "      <td>20971.0</td>\n",
              "      <td>890.0</td>\n",
              "      <td>4.100000</td>\n",
              "      <td>...</td>\n",
              "      <td>26405.0</td>\n",
              "      <td>24985.0</td>\n",
              "      <td>1420.0</td>\n",
              "      <td>5.400000</td>\n",
              "      <td>26341.0</td>\n",
              "      <td>25599.0</td>\n",
              "      <td>742.0</td>\n",
              "      <td>2.800000</td>\n",
              "      <td>67565.0</td>\n",
              "      <td>125.217762</td>\n",
              "    </tr>\n",
              "    <tr>\n",
              "      <th>3</th>\n",
              "      <td>1003</td>\n",
              "      <td>AL</td>\n",
              "      <td>Baldwin County, AL</td>\n",
              "      <td>3.0</td>\n",
              "      <td>2.0</td>\n",
              "      <td>1.0</td>\n",
              "      <td>69979.0</td>\n",
              "      <td>67370.0</td>\n",
              "      <td>2609.0</td>\n",
              "      <td>3.700000</td>\n",
              "      <td>...</td>\n",
              "      <td>98910.0</td>\n",
              "      <td>92751.0</td>\n",
              "      <td>6159.0</td>\n",
              "      <td>6.200000</td>\n",
              "      <td>99427.0</td>\n",
              "      <td>96481.0</td>\n",
              "      <td>2946.0</td>\n",
              "      <td>3.000000</td>\n",
              "      <td>71135.0</td>\n",
              "      <td>131.834019</td>\n",
              "    </tr>\n",
              "    <tr>\n",
              "      <th>4</th>\n",
              "      <td>1005</td>\n",
              "      <td>AL</td>\n",
              "      <td>Barbour County, AL</td>\n",
              "      <td>6.0</td>\n",
              "      <td>6.0</td>\n",
              "      <td>0.0</td>\n",
              "      <td>11449.0</td>\n",
              "      <td>10812.0</td>\n",
              "      <td>637.0</td>\n",
              "      <td>5.600000</td>\n",
              "      <td>...</td>\n",
              "      <td>8680.0</td>\n",
              "      <td>8004.0</td>\n",
              "      <td>676.0</td>\n",
              "      <td>7.800000</td>\n",
              "      <td>8197.0</td>\n",
              "      <td>7728.0</td>\n",
              "      <td>469.0</td>\n",
              "      <td>5.700000</td>\n",
              "      <td>38866.0</td>\n",
              "      <td>72.030097</td>\n",
              "    </tr>\n",
              "  </tbody>\n",
              "</table>\n",
              "<p>5 rows × 96 columns</p>\n",
              "</div>\n",
              "      <button class=\"colab-df-convert\" onclick=\"convertToInteractive('df-203146ab-60bb-472a-90d3-d8527b2214cb')\"\n",
              "              title=\"Convert this dataframe to an interactive table.\"\n",
              "              style=\"display:none;\">\n",
              "        \n",
              "  <svg xmlns=\"http://www.w3.org/2000/svg\" height=\"24px\"viewBox=\"0 0 24 24\"\n",
              "       width=\"24px\">\n",
              "    <path d=\"M0 0h24v24H0V0z\" fill=\"none\"/>\n",
              "    <path d=\"M18.56 5.44l.94 2.06.94-2.06 2.06-.94-2.06-.94-.94-2.06-.94 2.06-2.06.94zm-11 1L8.5 8.5l.94-2.06 2.06-.94-2.06-.94L8.5 2.5l-.94 2.06-2.06.94zm10 10l.94 2.06.94-2.06 2.06-.94-2.06-.94-.94-2.06-.94 2.06-2.06.94z\"/><path d=\"M17.41 7.96l-1.37-1.37c-.4-.4-.92-.59-1.43-.59-.52 0-1.04.2-1.43.59L10.3 9.45l-7.72 7.72c-.78.78-.78 2.05 0 2.83L4 21.41c.39.39.9.59 1.41.59.51 0 1.02-.2 1.41-.59l7.78-7.78 2.81-2.81c.8-.78.8-2.07 0-2.86zM5.41 20L4 18.59l7.72-7.72 1.47 1.35L5.41 20z\"/>\n",
              "  </svg>\n",
              "      </button>\n",
              "      \n",
              "  <style>\n",
              "    .colab-df-container {\n",
              "      display:flex;\n",
              "      flex-wrap:wrap;\n",
              "      gap: 12px;\n",
              "    }\n",
              "\n",
              "    .colab-df-convert {\n",
              "      background-color: #E8F0FE;\n",
              "      border: none;\n",
              "      border-radius: 50%;\n",
              "      cursor: pointer;\n",
              "      display: none;\n",
              "      fill: #1967D2;\n",
              "      height: 32px;\n",
              "      padding: 0 0 0 0;\n",
              "      width: 32px;\n",
              "    }\n",
              "\n",
              "    .colab-df-convert:hover {\n",
              "      background-color: #E2EBFA;\n",
              "      box-shadow: 0px 1px 2px rgba(60, 64, 67, 0.3), 0px 1px 3px 1px rgba(60, 64, 67, 0.15);\n",
              "      fill: #174EA6;\n",
              "    }\n",
              "\n",
              "    [theme=dark] .colab-df-convert {\n",
              "      background-color: #3B4455;\n",
              "      fill: #D2E3FC;\n",
              "    }\n",
              "\n",
              "    [theme=dark] .colab-df-convert:hover {\n",
              "      background-color: #434B5C;\n",
              "      box-shadow: 0px 1px 3px 1px rgba(0, 0, 0, 0.15);\n",
              "      filter: drop-shadow(0px 1px 2px rgba(0, 0, 0, 0.3));\n",
              "      fill: #FFFFFF;\n",
              "    }\n",
              "  </style>\n",
              "\n",
              "      <script>\n",
              "        const buttonEl =\n",
              "          document.querySelector('#df-203146ab-60bb-472a-90d3-d8527b2214cb button.colab-df-convert');\n",
              "        buttonEl.style.display =\n",
              "          google.colab.kernel.accessAllowed ? 'block' : 'none';\n",
              "\n",
              "        async function convertToInteractive(key) {\n",
              "          const element = document.querySelector('#df-203146ab-60bb-472a-90d3-d8527b2214cb');\n",
              "          const dataTable =\n",
              "            await google.colab.kernel.invokeFunction('convertToInteractive',\n",
              "                                                     [key], {});\n",
              "          if (!dataTable) return;\n",
              "\n",
              "          const docLinkHtml = 'Like what you see? Visit the ' +\n",
              "            '<a target=\"_blank\" href=https://colab.research.google.com/notebooks/data_table.ipynb>data table notebook</a>'\n",
              "            + ' to learn more about interactive tables.';\n",
              "          element.innerHTML = '';\n",
              "          dataTable['output_type'] = 'display_data';\n",
              "          await google.colab.output.renderOutput(dataTable, element);\n",
              "          const docLink = document.createElement('div');\n",
              "          docLink.innerHTML = docLinkHtml;\n",
              "          element.appendChild(docLink);\n",
              "        }\n",
              "      </script>\n",
              "    </div>\n",
              "  </div>\n",
              "  "
            ]
          },
          "metadata": {},
          "execution_count": 163
        }
      ]
    },
    {
      "cell_type": "markdown",
      "id": "27744efd",
      "metadata": {
        "id": "27744efd"
      },
      "source": [
        "Save nationwide stats for later, then remove the statewide and nationwide rows "
      ]
    },
    {
      "cell_type": "code",
      "execution_count": 164,
      "id": "f9620da0",
      "metadata": {
        "id": "f9620da0"
      },
      "outputs": [],
      "source": [
        "# Nationwide Stats\n",
        "US_LF = unemployment.iloc[0][\"Civilian_labor_force_2021\"]\n",
        "US_MHI = unemployment.iloc[0][\"Median_Household_Income_2020\"]\n",
        "\n",
        "# Check the \"Rural_urban_continuum_code_2013\" column for rows with null values.\n",
        "unemployment = unemployment.loc[pd.notna(unemployment['Rural_urban_continuum_code_2013'])]"
      ]
    },
    {
      "cell_type": "markdown",
      "id": "6ac66ecf",
      "metadata": {
        "id": "6ac66ecf"
      },
      "source": [
        "Standardize FIPS code"
      ]
    },
    {
      "cell_type": "code",
      "execution_count": 165,
      "id": "e97886c4",
      "metadata": {
        "id": "e97886c4"
      },
      "outputs": [],
      "source": [
        "# Use lambda function to format code to 5 digits\n",
        "unemployment.loc[:, \"FIPS_code\"]=unemployment.loc[:, \"FIPS_code\"].apply(lambda x: '{0:0>5}'.format(x))"
      ]
    },
    {
      "cell_type": "markdown",
      "id": "929df842",
      "metadata": {
        "id": "929df842"
      },
      "source": [
        "Set as new income dataframe with only the relevant columns."
      ]
    },
    {
      "cell_type": "code",
      "execution_count": 166,
      "id": "2a6790d5",
      "metadata": {
        "colab": {
          "base_uri": "https://localhost:8080/",
          "height": 206
        },
        "id": "2a6790d5",
        "outputId": "ace0dfd8-096f-4966-d991-511e75561638"
      },
      "outputs": [
        {
          "output_type": "execute_result",
          "data": {
            "text/plain": [
              "  FIPS_code           Area_name  Civilian_labor_force_2021  \\\n",
              "2     01001  Autauga County, AL                    26341.0   \n",
              "3     01003  Baldwin County, AL                    99427.0   \n",
              "4     01005  Barbour County, AL                     8197.0   \n",
              "5     01007     Bibb County, AL                     8560.0   \n",
              "6     01009   Blount County, AL                    25127.0   \n",
              "\n",
              "   Median_Household_Income_2020  Rural_urban_continuum_code_2013  \n",
              "2                       67565.0                              2.0  \n",
              "3                       71135.0                              3.0  \n",
              "4                       38866.0                              6.0  \n",
              "5                       50907.0                              1.0  \n",
              "6                       55203.0                              1.0  "
            ],
            "text/html": [
              "\n",
              "  <div id=\"df-9c74a5e8-ef7d-41bd-95c7-bb1eca743807\">\n",
              "    <div class=\"colab-df-container\">\n",
              "      <div>\n",
              "<style scoped>\n",
              "    .dataframe tbody tr th:only-of-type {\n",
              "        vertical-align: middle;\n",
              "    }\n",
              "\n",
              "    .dataframe tbody tr th {\n",
              "        vertical-align: top;\n",
              "    }\n",
              "\n",
              "    .dataframe thead th {\n",
              "        text-align: right;\n",
              "    }\n",
              "</style>\n",
              "<table border=\"1\" class=\"dataframe\">\n",
              "  <thead>\n",
              "    <tr style=\"text-align: right;\">\n",
              "      <th></th>\n",
              "      <th>FIPS_code</th>\n",
              "      <th>Area_name</th>\n",
              "      <th>Civilian_labor_force_2021</th>\n",
              "      <th>Median_Household_Income_2020</th>\n",
              "      <th>Rural_urban_continuum_code_2013</th>\n",
              "    </tr>\n",
              "  </thead>\n",
              "  <tbody>\n",
              "    <tr>\n",
              "      <th>2</th>\n",
              "      <td>01001</td>\n",
              "      <td>Autauga County, AL</td>\n",
              "      <td>26341.0</td>\n",
              "      <td>67565.0</td>\n",
              "      <td>2.0</td>\n",
              "    </tr>\n",
              "    <tr>\n",
              "      <th>3</th>\n",
              "      <td>01003</td>\n",
              "      <td>Baldwin County, AL</td>\n",
              "      <td>99427.0</td>\n",
              "      <td>71135.0</td>\n",
              "      <td>3.0</td>\n",
              "    </tr>\n",
              "    <tr>\n",
              "      <th>4</th>\n",
              "      <td>01005</td>\n",
              "      <td>Barbour County, AL</td>\n",
              "      <td>8197.0</td>\n",
              "      <td>38866.0</td>\n",
              "      <td>6.0</td>\n",
              "    </tr>\n",
              "    <tr>\n",
              "      <th>5</th>\n",
              "      <td>01007</td>\n",
              "      <td>Bibb County, AL</td>\n",
              "      <td>8560.0</td>\n",
              "      <td>50907.0</td>\n",
              "      <td>1.0</td>\n",
              "    </tr>\n",
              "    <tr>\n",
              "      <th>6</th>\n",
              "      <td>01009</td>\n",
              "      <td>Blount County, AL</td>\n",
              "      <td>25127.0</td>\n",
              "      <td>55203.0</td>\n",
              "      <td>1.0</td>\n",
              "    </tr>\n",
              "  </tbody>\n",
              "</table>\n",
              "</div>\n",
              "      <button class=\"colab-df-convert\" onclick=\"convertToInteractive('df-9c74a5e8-ef7d-41bd-95c7-bb1eca743807')\"\n",
              "              title=\"Convert this dataframe to an interactive table.\"\n",
              "              style=\"display:none;\">\n",
              "        \n",
              "  <svg xmlns=\"http://www.w3.org/2000/svg\" height=\"24px\"viewBox=\"0 0 24 24\"\n",
              "       width=\"24px\">\n",
              "    <path d=\"M0 0h24v24H0V0z\" fill=\"none\"/>\n",
              "    <path d=\"M18.56 5.44l.94 2.06.94-2.06 2.06-.94-2.06-.94-.94-2.06-.94 2.06-2.06.94zm-11 1L8.5 8.5l.94-2.06 2.06-.94-2.06-.94L8.5 2.5l-.94 2.06-2.06.94zm10 10l.94 2.06.94-2.06 2.06-.94-2.06-.94-.94-2.06-.94 2.06-2.06.94z\"/><path d=\"M17.41 7.96l-1.37-1.37c-.4-.4-.92-.59-1.43-.59-.52 0-1.04.2-1.43.59L10.3 9.45l-7.72 7.72c-.78.78-.78 2.05 0 2.83L4 21.41c.39.39.9.59 1.41.59.51 0 1.02-.2 1.41-.59l7.78-7.78 2.81-2.81c.8-.78.8-2.07 0-2.86zM5.41 20L4 18.59l7.72-7.72 1.47 1.35L5.41 20z\"/>\n",
              "  </svg>\n",
              "      </button>\n",
              "      \n",
              "  <style>\n",
              "    .colab-df-container {\n",
              "      display:flex;\n",
              "      flex-wrap:wrap;\n",
              "      gap: 12px;\n",
              "    }\n",
              "\n",
              "    .colab-df-convert {\n",
              "      background-color: #E8F0FE;\n",
              "      border: none;\n",
              "      border-radius: 50%;\n",
              "      cursor: pointer;\n",
              "      display: none;\n",
              "      fill: #1967D2;\n",
              "      height: 32px;\n",
              "      padding: 0 0 0 0;\n",
              "      width: 32px;\n",
              "    }\n",
              "\n",
              "    .colab-df-convert:hover {\n",
              "      background-color: #E2EBFA;\n",
              "      box-shadow: 0px 1px 2px rgba(60, 64, 67, 0.3), 0px 1px 3px 1px rgba(60, 64, 67, 0.15);\n",
              "      fill: #174EA6;\n",
              "    }\n",
              "\n",
              "    [theme=dark] .colab-df-convert {\n",
              "      background-color: #3B4455;\n",
              "      fill: #D2E3FC;\n",
              "    }\n",
              "\n",
              "    [theme=dark] .colab-df-convert:hover {\n",
              "      background-color: #434B5C;\n",
              "      box-shadow: 0px 1px 3px 1px rgba(0, 0, 0, 0.15);\n",
              "      filter: drop-shadow(0px 1px 2px rgba(0, 0, 0, 0.3));\n",
              "      fill: #FFFFFF;\n",
              "    }\n",
              "  </style>\n",
              "\n",
              "      <script>\n",
              "        const buttonEl =\n",
              "          document.querySelector('#df-9c74a5e8-ef7d-41bd-95c7-bb1eca743807 button.colab-df-convert');\n",
              "        buttonEl.style.display =\n",
              "          google.colab.kernel.accessAllowed ? 'block' : 'none';\n",
              "\n",
              "        async function convertToInteractive(key) {\n",
              "          const element = document.querySelector('#df-9c74a5e8-ef7d-41bd-95c7-bb1eca743807');\n",
              "          const dataTable =\n",
              "            await google.colab.kernel.invokeFunction('convertToInteractive',\n",
              "                                                     [key], {});\n",
              "          if (!dataTable) return;\n",
              "\n",
              "          const docLinkHtml = 'Like what you see? Visit the ' +\n",
              "            '<a target=\"_blank\" href=https://colab.research.google.com/notebooks/data_table.ipynb>data table notebook</a>'\n",
              "            + ' to learn more about interactive tables.';\n",
              "          element.innerHTML = '';\n",
              "          dataTable['output_type'] = 'display_data';\n",
              "          await google.colab.output.renderOutput(dataTable, element);\n",
              "          const docLink = document.createElement('div');\n",
              "          docLink.innerHTML = docLinkHtml;\n",
              "          element.appendChild(docLink);\n",
              "        }\n",
              "      </script>\n",
              "    </div>\n",
              "  </div>\n",
              "  "
            ]
          },
          "metadata": {},
          "execution_count": 166
        }
      ],
      "source": [
        "unemployment = unemployment[[\"FIPS_code\", \"Area_name\", \"Civilian_labor_force_2021\", \"Median_Household_Income_2020\", \"Rural_urban_continuum_code_2013\"]]\n",
        "unemployment.head()\n"
      ]
    },
    {
      "cell_type": "markdown",
      "id": "878f98e3",
      "metadata": {
        "id": "878f98e3"
      },
      "source": [
        "Load Zillow Housing Value Index"
      ]
    },
    {
      "cell_type": "code",
      "execution_count": 167,
      "id": "15fb1e75",
      "metadata": {
        "id": "15fb1e75"
      },
      "outputs": [],
      "source": [
        "# Download and read CSV\n",
        "zhvi = pd.read_csv(\"https://files.zillowstatic.com/research/public_csvs/zhvi/County_zhvi_uc_sfrcondo_tier_0.33_0.67_sm_sa_month.csv?t=1670291347\")"
      ]
    },
    {
      "cell_type": "markdown",
      "id": "9671ad9b",
      "metadata": {
        "id": "9671ad9b"
      },
      "source": [
        "Set relevant columns to new price dataframe and drop entries with no price data"
      ]
    },
    {
      "cell_type": "code",
      "execution_count": 168,
      "id": "41805afc",
      "metadata": {
        "colab": {
          "base_uri": "https://localhost:8080/",
          "height": 206
        },
        "id": "41805afc",
        "outputId": "16fedde5-b861-4305-f9da-10986b52554c"
      },
      "outputs": [
        {
          "output_type": "execute_result",
          "data": {
            "text/plain": [
              "    FIPS          RegionName  2022-12-31\n",
              "0  06037  Los Angeles County    845596.0\n",
              "1  17031         Cook County    312317.0\n",
              "2  48201       Harris County    289591.0\n",
              "3  04013     Maricopa County    451699.0\n",
              "4  06073    San Diego County    874095.0"
            ],
            "text/html": [
              "\n",
              "  <div id=\"df-bddbbb8a-3c7f-4bec-a119-e16299a06a70\">\n",
              "    <div class=\"colab-df-container\">\n",
              "      <div>\n",
              "<style scoped>\n",
              "    .dataframe tbody tr th:only-of-type {\n",
              "        vertical-align: middle;\n",
              "    }\n",
              "\n",
              "    .dataframe tbody tr th {\n",
              "        vertical-align: top;\n",
              "    }\n",
              "\n",
              "    .dataframe thead th {\n",
              "        text-align: right;\n",
              "    }\n",
              "</style>\n",
              "<table border=\"1\" class=\"dataframe\">\n",
              "  <thead>\n",
              "    <tr style=\"text-align: right;\">\n",
              "      <th></th>\n",
              "      <th>FIPS</th>\n",
              "      <th>RegionName</th>\n",
              "      <th>2022-12-31</th>\n",
              "    </tr>\n",
              "  </thead>\n",
              "  <tbody>\n",
              "    <tr>\n",
              "      <th>0</th>\n",
              "      <td>06037</td>\n",
              "      <td>Los Angeles County</td>\n",
              "      <td>845596.0</td>\n",
              "    </tr>\n",
              "    <tr>\n",
              "      <th>1</th>\n",
              "      <td>17031</td>\n",
              "      <td>Cook County</td>\n",
              "      <td>312317.0</td>\n",
              "    </tr>\n",
              "    <tr>\n",
              "      <th>2</th>\n",
              "      <td>48201</td>\n",
              "      <td>Harris County</td>\n",
              "      <td>289591.0</td>\n",
              "    </tr>\n",
              "    <tr>\n",
              "      <th>3</th>\n",
              "      <td>04013</td>\n",
              "      <td>Maricopa County</td>\n",
              "      <td>451699.0</td>\n",
              "    </tr>\n",
              "    <tr>\n",
              "      <th>4</th>\n",
              "      <td>06073</td>\n",
              "      <td>San Diego County</td>\n",
              "      <td>874095.0</td>\n",
              "    </tr>\n",
              "  </tbody>\n",
              "</table>\n",
              "</div>\n",
              "      <button class=\"colab-df-convert\" onclick=\"convertToInteractive('df-bddbbb8a-3c7f-4bec-a119-e16299a06a70')\"\n",
              "              title=\"Convert this dataframe to an interactive table.\"\n",
              "              style=\"display:none;\">\n",
              "        \n",
              "  <svg xmlns=\"http://www.w3.org/2000/svg\" height=\"24px\"viewBox=\"0 0 24 24\"\n",
              "       width=\"24px\">\n",
              "    <path d=\"M0 0h24v24H0V0z\" fill=\"none\"/>\n",
              "    <path d=\"M18.56 5.44l.94 2.06.94-2.06 2.06-.94-2.06-.94-.94-2.06-.94 2.06-2.06.94zm-11 1L8.5 8.5l.94-2.06 2.06-.94-2.06-.94L8.5 2.5l-.94 2.06-2.06.94zm10 10l.94 2.06.94-2.06 2.06-.94-2.06-.94-.94-2.06-.94 2.06-2.06.94z\"/><path d=\"M17.41 7.96l-1.37-1.37c-.4-.4-.92-.59-1.43-.59-.52 0-1.04.2-1.43.59L10.3 9.45l-7.72 7.72c-.78.78-.78 2.05 0 2.83L4 21.41c.39.39.9.59 1.41.59.51 0 1.02-.2 1.41-.59l7.78-7.78 2.81-2.81c.8-.78.8-2.07 0-2.86zM5.41 20L4 18.59l7.72-7.72 1.47 1.35L5.41 20z\"/>\n",
              "  </svg>\n",
              "      </button>\n",
              "      \n",
              "  <style>\n",
              "    .colab-df-container {\n",
              "      display:flex;\n",
              "      flex-wrap:wrap;\n",
              "      gap: 12px;\n",
              "    }\n",
              "\n",
              "    .colab-df-convert {\n",
              "      background-color: #E8F0FE;\n",
              "      border: none;\n",
              "      border-radius: 50%;\n",
              "      cursor: pointer;\n",
              "      display: none;\n",
              "      fill: #1967D2;\n",
              "      height: 32px;\n",
              "      padding: 0 0 0 0;\n",
              "      width: 32px;\n",
              "    }\n",
              "\n",
              "    .colab-df-convert:hover {\n",
              "      background-color: #E2EBFA;\n",
              "      box-shadow: 0px 1px 2px rgba(60, 64, 67, 0.3), 0px 1px 3px 1px rgba(60, 64, 67, 0.15);\n",
              "      fill: #174EA6;\n",
              "    }\n",
              "\n",
              "    [theme=dark] .colab-df-convert {\n",
              "      background-color: #3B4455;\n",
              "      fill: #D2E3FC;\n",
              "    }\n",
              "\n",
              "    [theme=dark] .colab-df-convert:hover {\n",
              "      background-color: #434B5C;\n",
              "      box-shadow: 0px 1px 3px 1px rgba(0, 0, 0, 0.15);\n",
              "      filter: drop-shadow(0px 1px 2px rgba(0, 0, 0, 0.3));\n",
              "      fill: #FFFFFF;\n",
              "    }\n",
              "  </style>\n",
              "\n",
              "      <script>\n",
              "        const buttonEl =\n",
              "          document.querySelector('#df-bddbbb8a-3c7f-4bec-a119-e16299a06a70 button.colab-df-convert');\n",
              "        buttonEl.style.display =\n",
              "          google.colab.kernel.accessAllowed ? 'block' : 'none';\n",
              "\n",
              "        async function convertToInteractive(key) {\n",
              "          const element = document.querySelector('#df-bddbbb8a-3c7f-4bec-a119-e16299a06a70');\n",
              "          const dataTable =\n",
              "            await google.colab.kernel.invokeFunction('convertToInteractive',\n",
              "                                                     [key], {});\n",
              "          if (!dataTable) return;\n",
              "\n",
              "          const docLinkHtml = 'Like what you see? Visit the ' +\n",
              "            '<a target=\"_blank\" href=https://colab.research.google.com/notebooks/data_table.ipynb>data table notebook</a>'\n",
              "            + ' to learn more about interactive tables.';\n",
              "          element.innerHTML = '';\n",
              "          dataTable['output_type'] = 'display_data';\n",
              "          await google.colab.output.renderOutput(dataTable, element);\n",
              "          const docLink = document.createElement('div');\n",
              "          docLink.innerHTML = docLinkHtml;\n",
              "          element.appendChild(docLink);\n",
              "        }\n",
              "      </script>\n",
              "    </div>\n",
              "  </div>\n",
              "  "
            ]
          },
          "metadata": {},
          "execution_count": 168
        }
      ],
      "source": [
        "# Set most recent column date name\n",
        "mostrecentZHVI = \"2022-12-31\"\n",
        "\n",
        "# Convert State and Municipal FIPS into single FIPS code. Format as 5 digits\n",
        "zhvi[\"FIPS\"] = zhvi[\"StateCodeFIPS\"]*1000 + zhvi[\"MunicipalCodeFIPS\"]\n",
        "zhvi[\"FIPS\"] = zhvi[\"FIPS\"].apply(lambda x: '{0:0>5}'.format(x))\n",
        "\n",
        "# Preview\n",
        "zhvi.head()\n",
        "# Only FIPS code, Name, Most Recent Price \n",
        "zhvi = zhvi[[\"FIPS\", \"RegionName\", mostrecentZHVI]]\n",
        "# Drop null rows\n",
        "zhvi = zhvi.dropna(subset=[mostrecentZHVI])\n",
        "zhvi.head()"
      ]
    },
    {
      "cell_type": "markdown",
      "id": "8c825012",
      "metadata": {
        "id": "8c825012"
      },
      "source": [
        "Join unemployment and ZHVI dataframes on the FIPS code column"
      ]
    },
    {
      "cell_type": "code",
      "execution_count": 169,
      "id": "7085acee",
      "metadata": {
        "id": "7085acee",
        "scrolled": true,
        "colab": {
          "base_uri": "https://localhost:8080/",
          "height": 206
        },
        "outputId": "781ff840-259f-4944-aa75-5bceaf11dfaf"
      },
      "outputs": [
        {
          "output_type": "execute_result",
          "data": {
            "text/plain": [
              "  FIPS_code           Area_name  Civilian_labor_force_2021  \\\n",
              "0     01001  Autauga County, AL                    26341.0   \n",
              "1     01003  Baldwin County, AL                    99427.0   \n",
              "2     01005  Barbour County, AL                     8197.0   \n",
              "3     01007     Bibb County, AL                     8560.0   \n",
              "4     01009   Blount County, AL                    25127.0   \n",
              "\n",
              "   Median_Household_Income_2020  Rural_urban_continuum_code_2013   FIPS  \\\n",
              "0                       67565.0                              2.0  01001   \n",
              "1                       71135.0                              3.0  01003   \n",
              "2                       38866.0                              6.0  01005   \n",
              "3                       50907.0                              1.0  01007   \n",
              "4                       55203.0                              1.0  01009   \n",
              "\n",
              "       RegionName  2022-12-31  \n",
              "0  Autauga County    247745.0  \n",
              "1  Baldwin County    378538.0  \n",
              "2  Barbour County    137713.0  \n",
              "3     Bibb County    183821.0  \n",
              "4   Blount County    265515.0  "
            ],
            "text/html": [
              "\n",
              "  <div id=\"df-a3dab226-9972-4445-893b-88674d5c13f5\">\n",
              "    <div class=\"colab-df-container\">\n",
              "      <div>\n",
              "<style scoped>\n",
              "    .dataframe tbody tr th:only-of-type {\n",
              "        vertical-align: middle;\n",
              "    }\n",
              "\n",
              "    .dataframe tbody tr th {\n",
              "        vertical-align: top;\n",
              "    }\n",
              "\n",
              "    .dataframe thead th {\n",
              "        text-align: right;\n",
              "    }\n",
              "</style>\n",
              "<table border=\"1\" class=\"dataframe\">\n",
              "  <thead>\n",
              "    <tr style=\"text-align: right;\">\n",
              "      <th></th>\n",
              "      <th>FIPS_code</th>\n",
              "      <th>Area_name</th>\n",
              "      <th>Civilian_labor_force_2021</th>\n",
              "      <th>Median_Household_Income_2020</th>\n",
              "      <th>Rural_urban_continuum_code_2013</th>\n",
              "      <th>FIPS</th>\n",
              "      <th>RegionName</th>\n",
              "      <th>2022-12-31</th>\n",
              "    </tr>\n",
              "  </thead>\n",
              "  <tbody>\n",
              "    <tr>\n",
              "      <th>0</th>\n",
              "      <td>01001</td>\n",
              "      <td>Autauga County, AL</td>\n",
              "      <td>26341.0</td>\n",
              "      <td>67565.0</td>\n",
              "      <td>2.0</td>\n",
              "      <td>01001</td>\n",
              "      <td>Autauga County</td>\n",
              "      <td>247745.0</td>\n",
              "    </tr>\n",
              "    <tr>\n",
              "      <th>1</th>\n",
              "      <td>01003</td>\n",
              "      <td>Baldwin County, AL</td>\n",
              "      <td>99427.0</td>\n",
              "      <td>71135.0</td>\n",
              "      <td>3.0</td>\n",
              "      <td>01003</td>\n",
              "      <td>Baldwin County</td>\n",
              "      <td>378538.0</td>\n",
              "    </tr>\n",
              "    <tr>\n",
              "      <th>2</th>\n",
              "      <td>01005</td>\n",
              "      <td>Barbour County, AL</td>\n",
              "      <td>8197.0</td>\n",
              "      <td>38866.0</td>\n",
              "      <td>6.0</td>\n",
              "      <td>01005</td>\n",
              "      <td>Barbour County</td>\n",
              "      <td>137713.0</td>\n",
              "    </tr>\n",
              "    <tr>\n",
              "      <th>3</th>\n",
              "      <td>01007</td>\n",
              "      <td>Bibb County, AL</td>\n",
              "      <td>8560.0</td>\n",
              "      <td>50907.0</td>\n",
              "      <td>1.0</td>\n",
              "      <td>01007</td>\n",
              "      <td>Bibb County</td>\n",
              "      <td>183821.0</td>\n",
              "    </tr>\n",
              "    <tr>\n",
              "      <th>4</th>\n",
              "      <td>01009</td>\n",
              "      <td>Blount County, AL</td>\n",
              "      <td>25127.0</td>\n",
              "      <td>55203.0</td>\n",
              "      <td>1.0</td>\n",
              "      <td>01009</td>\n",
              "      <td>Blount County</td>\n",
              "      <td>265515.0</td>\n",
              "    </tr>\n",
              "  </tbody>\n",
              "</table>\n",
              "</div>\n",
              "      <button class=\"colab-df-convert\" onclick=\"convertToInteractive('df-a3dab226-9972-4445-893b-88674d5c13f5')\"\n",
              "              title=\"Convert this dataframe to an interactive table.\"\n",
              "              style=\"display:none;\">\n",
              "        \n",
              "  <svg xmlns=\"http://www.w3.org/2000/svg\" height=\"24px\"viewBox=\"0 0 24 24\"\n",
              "       width=\"24px\">\n",
              "    <path d=\"M0 0h24v24H0V0z\" fill=\"none\"/>\n",
              "    <path d=\"M18.56 5.44l.94 2.06.94-2.06 2.06-.94-2.06-.94-.94-2.06-.94 2.06-2.06.94zm-11 1L8.5 8.5l.94-2.06 2.06-.94-2.06-.94L8.5 2.5l-.94 2.06-2.06.94zm10 10l.94 2.06.94-2.06 2.06-.94-2.06-.94-.94-2.06-.94 2.06-2.06.94z\"/><path d=\"M17.41 7.96l-1.37-1.37c-.4-.4-.92-.59-1.43-.59-.52 0-1.04.2-1.43.59L10.3 9.45l-7.72 7.72c-.78.78-.78 2.05 0 2.83L4 21.41c.39.39.9.59 1.41.59.51 0 1.02-.2 1.41-.59l7.78-7.78 2.81-2.81c.8-.78.8-2.07 0-2.86zM5.41 20L4 18.59l7.72-7.72 1.47 1.35L5.41 20z\"/>\n",
              "  </svg>\n",
              "      </button>\n",
              "      \n",
              "  <style>\n",
              "    .colab-df-container {\n",
              "      display:flex;\n",
              "      flex-wrap:wrap;\n",
              "      gap: 12px;\n",
              "    }\n",
              "\n",
              "    .colab-df-convert {\n",
              "      background-color: #E8F0FE;\n",
              "      border: none;\n",
              "      border-radius: 50%;\n",
              "      cursor: pointer;\n",
              "      display: none;\n",
              "      fill: #1967D2;\n",
              "      height: 32px;\n",
              "      padding: 0 0 0 0;\n",
              "      width: 32px;\n",
              "    }\n",
              "\n",
              "    .colab-df-convert:hover {\n",
              "      background-color: #E2EBFA;\n",
              "      box-shadow: 0px 1px 2px rgba(60, 64, 67, 0.3), 0px 1px 3px 1px rgba(60, 64, 67, 0.15);\n",
              "      fill: #174EA6;\n",
              "    }\n",
              "\n",
              "    [theme=dark] .colab-df-convert {\n",
              "      background-color: #3B4455;\n",
              "      fill: #D2E3FC;\n",
              "    }\n",
              "\n",
              "    [theme=dark] .colab-df-convert:hover {\n",
              "      background-color: #434B5C;\n",
              "      box-shadow: 0px 1px 3px 1px rgba(0, 0, 0, 0.15);\n",
              "      filter: drop-shadow(0px 1px 2px rgba(0, 0, 0, 0.3));\n",
              "      fill: #FFFFFF;\n",
              "    }\n",
              "  </style>\n",
              "\n",
              "      <script>\n",
              "        const buttonEl =\n",
              "          document.querySelector('#df-a3dab226-9972-4445-893b-88674d5c13f5 button.colab-df-convert');\n",
              "        buttonEl.style.display =\n",
              "          google.colab.kernel.accessAllowed ? 'block' : 'none';\n",
              "\n",
              "        async function convertToInteractive(key) {\n",
              "          const element = document.querySelector('#df-a3dab226-9972-4445-893b-88674d5c13f5');\n",
              "          const dataTable =\n",
              "            await google.colab.kernel.invokeFunction('convertToInteractive',\n",
              "                                                     [key], {});\n",
              "          if (!dataTable) return;\n",
              "\n",
              "          const docLinkHtml = 'Like what you see? Visit the ' +\n",
              "            '<a target=\"_blank\" href=https://colab.research.google.com/notebooks/data_table.ipynb>data table notebook</a>'\n",
              "            + ' to learn more about interactive tables.';\n",
              "          element.innerHTML = '';\n",
              "          dataTable['output_type'] = 'display_data';\n",
              "          await google.colab.output.renderOutput(dataTable, element);\n",
              "          const docLink = document.createElement('div');\n",
              "          docLink.innerHTML = docLinkHtml;\n",
              "          element.appendChild(docLink);\n",
              "        }\n",
              "      </script>\n",
              "    </div>\n",
              "  </div>\n",
              "  "
            ]
          },
          "metadata": {},
          "execution_count": 169
        }
      ],
      "source": [
        "merged1 = pd.merge(left=unemployment, right=zhvi, left_on='FIPS_code', right_on='FIPS')\n",
        "merged1.head()"
      ]
    },
    {
      "cell_type": "markdown",
      "id": "48f5cce1",
      "metadata": {
        "id": "48f5cce1"
      },
      "source": [
        "Load population data"
      ]
    },
    {
      "cell_type": "code",
      "execution_count": 170,
      "id": "473cfa40",
      "metadata": {
        "colab": {
          "base_uri": "https://localhost:8080/",
          "height": 366
        },
        "id": "473cfa40",
        "outputId": "8228ae6d-5710-446e-c1c1-0a99c6628194"
      },
      "outputs": [
        {
          "output_type": "execute_result",
          "data": {
            "text/plain": [
              "    SUMLEV  STATE  COUNTY   STNAME         CTYNAME  YEAR  POPESTIMATE  \\\n",
              "2       50      1       1  Alabama  Autauga County     3        59095   \n",
              "5       50      1       3  Alabama  Baldwin County     3       239294   \n",
              "8       50      1       5  Alabama  Barbour County     3        24964   \n",
              "11      50      1       7  Alabama     Bibb County     3        22477   \n",
              "14      50      1       9  Alabama   Blount County     3        59041   \n",
              "\n",
              "    POPEST_MALE  POPEST_FEM  UNDER5_TOT  ...  AGE7579_FEM  AGE8084_TOT  \\\n",
              "2         28733       30362        3388  ...         1065         1154   \n",
              "5        116422      122872       12252  ...         5091         5728   \n",
              "8         13305       11659        1307  ...          567          549   \n",
              "11        12134       10343        1180  ...          402          460   \n",
              "14        29407       29634        3433  ...         1177         1270   \n",
              "\n",
              "    AGE8084_MALE  AGE8084_FEM  AGE85PLUS_TOT  AGE85PLUS_MALE  AGE85PLUS_FEM  \\\n",
              "2            490          664            896             352            544   \n",
              "5           2619         3109           4232            1775           2457   \n",
              "8            231          318            477             157            320   \n",
              "11           190          270            359             118            241   \n",
              "14           567          703           1048             394            654   \n",
              "\n",
              "    MEDIAN_AGE_TOT  MEDIAN_AGE_MALE  MEDIAN_AGE_FEM  \n",
              "2             39.3             38.3            40.3  \n",
              "5             44.0             42.8            45.0  \n",
              "8             41.2             39.3            44.2  \n",
              "11            40.3             38.7            42.8  \n",
              "14            41.2             40.5            41.9  \n",
              "\n",
              "[5 rows x 96 columns]"
            ],
            "text/html": [
              "\n",
              "  <div id=\"df-3bb65ca0-dcb4-48aa-a9f0-dd43c19e5524\">\n",
              "    <div class=\"colab-df-container\">\n",
              "      <div>\n",
              "<style scoped>\n",
              "    .dataframe tbody tr th:only-of-type {\n",
              "        vertical-align: middle;\n",
              "    }\n",
              "\n",
              "    .dataframe tbody tr th {\n",
              "        vertical-align: top;\n",
              "    }\n",
              "\n",
              "    .dataframe thead th {\n",
              "        text-align: right;\n",
              "    }\n",
              "</style>\n",
              "<table border=\"1\" class=\"dataframe\">\n",
              "  <thead>\n",
              "    <tr style=\"text-align: right;\">\n",
              "      <th></th>\n",
              "      <th>SUMLEV</th>\n",
              "      <th>STATE</th>\n",
              "      <th>COUNTY</th>\n",
              "      <th>STNAME</th>\n",
              "      <th>CTYNAME</th>\n",
              "      <th>YEAR</th>\n",
              "      <th>POPESTIMATE</th>\n",
              "      <th>POPEST_MALE</th>\n",
              "      <th>POPEST_FEM</th>\n",
              "      <th>UNDER5_TOT</th>\n",
              "      <th>...</th>\n",
              "      <th>AGE7579_FEM</th>\n",
              "      <th>AGE8084_TOT</th>\n",
              "      <th>AGE8084_MALE</th>\n",
              "      <th>AGE8084_FEM</th>\n",
              "      <th>AGE85PLUS_TOT</th>\n",
              "      <th>AGE85PLUS_MALE</th>\n",
              "      <th>AGE85PLUS_FEM</th>\n",
              "      <th>MEDIAN_AGE_TOT</th>\n",
              "      <th>MEDIAN_AGE_MALE</th>\n",
              "      <th>MEDIAN_AGE_FEM</th>\n",
              "    </tr>\n",
              "  </thead>\n",
              "  <tbody>\n",
              "    <tr>\n",
              "      <th>2</th>\n",
              "      <td>50</td>\n",
              "      <td>1</td>\n",
              "      <td>1</td>\n",
              "      <td>Alabama</td>\n",
              "      <td>Autauga County</td>\n",
              "      <td>3</td>\n",
              "      <td>59095</td>\n",
              "      <td>28733</td>\n",
              "      <td>30362</td>\n",
              "      <td>3388</td>\n",
              "      <td>...</td>\n",
              "      <td>1065</td>\n",
              "      <td>1154</td>\n",
              "      <td>490</td>\n",
              "      <td>664</td>\n",
              "      <td>896</td>\n",
              "      <td>352</td>\n",
              "      <td>544</td>\n",
              "      <td>39.3</td>\n",
              "      <td>38.3</td>\n",
              "      <td>40.3</td>\n",
              "    </tr>\n",
              "    <tr>\n",
              "      <th>5</th>\n",
              "      <td>50</td>\n",
              "      <td>1</td>\n",
              "      <td>3</td>\n",
              "      <td>Alabama</td>\n",
              "      <td>Baldwin County</td>\n",
              "      <td>3</td>\n",
              "      <td>239294</td>\n",
              "      <td>116422</td>\n",
              "      <td>122872</td>\n",
              "      <td>12252</td>\n",
              "      <td>...</td>\n",
              "      <td>5091</td>\n",
              "      <td>5728</td>\n",
              "      <td>2619</td>\n",
              "      <td>3109</td>\n",
              "      <td>4232</td>\n",
              "      <td>1775</td>\n",
              "      <td>2457</td>\n",
              "      <td>44.0</td>\n",
              "      <td>42.8</td>\n",
              "      <td>45.0</td>\n",
              "    </tr>\n",
              "    <tr>\n",
              "      <th>8</th>\n",
              "      <td>50</td>\n",
              "      <td>1</td>\n",
              "      <td>5</td>\n",
              "      <td>Alabama</td>\n",
              "      <td>Barbour County</td>\n",
              "      <td>3</td>\n",
              "      <td>24964</td>\n",
              "      <td>13305</td>\n",
              "      <td>11659</td>\n",
              "      <td>1307</td>\n",
              "      <td>...</td>\n",
              "      <td>567</td>\n",
              "      <td>549</td>\n",
              "      <td>231</td>\n",
              "      <td>318</td>\n",
              "      <td>477</td>\n",
              "      <td>157</td>\n",
              "      <td>320</td>\n",
              "      <td>41.2</td>\n",
              "      <td>39.3</td>\n",
              "      <td>44.2</td>\n",
              "    </tr>\n",
              "    <tr>\n",
              "      <th>11</th>\n",
              "      <td>50</td>\n",
              "      <td>1</td>\n",
              "      <td>7</td>\n",
              "      <td>Alabama</td>\n",
              "      <td>Bibb County</td>\n",
              "      <td>3</td>\n",
              "      <td>22477</td>\n",
              "      <td>12134</td>\n",
              "      <td>10343</td>\n",
              "      <td>1180</td>\n",
              "      <td>...</td>\n",
              "      <td>402</td>\n",
              "      <td>460</td>\n",
              "      <td>190</td>\n",
              "      <td>270</td>\n",
              "      <td>359</td>\n",
              "      <td>118</td>\n",
              "      <td>241</td>\n",
              "      <td>40.3</td>\n",
              "      <td>38.7</td>\n",
              "      <td>42.8</td>\n",
              "    </tr>\n",
              "    <tr>\n",
              "      <th>14</th>\n",
              "      <td>50</td>\n",
              "      <td>1</td>\n",
              "      <td>9</td>\n",
              "      <td>Alabama</td>\n",
              "      <td>Blount County</td>\n",
              "      <td>3</td>\n",
              "      <td>59041</td>\n",
              "      <td>29407</td>\n",
              "      <td>29634</td>\n",
              "      <td>3433</td>\n",
              "      <td>...</td>\n",
              "      <td>1177</td>\n",
              "      <td>1270</td>\n",
              "      <td>567</td>\n",
              "      <td>703</td>\n",
              "      <td>1048</td>\n",
              "      <td>394</td>\n",
              "      <td>654</td>\n",
              "      <td>41.2</td>\n",
              "      <td>40.5</td>\n",
              "      <td>41.9</td>\n",
              "    </tr>\n",
              "  </tbody>\n",
              "</table>\n",
              "<p>5 rows × 96 columns</p>\n",
              "</div>\n",
              "      <button class=\"colab-df-convert\" onclick=\"convertToInteractive('df-3bb65ca0-dcb4-48aa-a9f0-dd43c19e5524')\"\n",
              "              title=\"Convert this dataframe to an interactive table.\"\n",
              "              style=\"display:none;\">\n",
              "        \n",
              "  <svg xmlns=\"http://www.w3.org/2000/svg\" height=\"24px\"viewBox=\"0 0 24 24\"\n",
              "       width=\"24px\">\n",
              "    <path d=\"M0 0h24v24H0V0z\" fill=\"none\"/>\n",
              "    <path d=\"M18.56 5.44l.94 2.06.94-2.06 2.06-.94-2.06-.94-.94-2.06-.94 2.06-2.06.94zm-11 1L8.5 8.5l.94-2.06 2.06-.94-2.06-.94L8.5 2.5l-.94 2.06-2.06.94zm10 10l.94 2.06.94-2.06 2.06-.94-2.06-.94-.94-2.06-.94 2.06-2.06.94z\"/><path d=\"M17.41 7.96l-1.37-1.37c-.4-.4-.92-.59-1.43-.59-.52 0-1.04.2-1.43.59L10.3 9.45l-7.72 7.72c-.78.78-.78 2.05 0 2.83L4 21.41c.39.39.9.59 1.41.59.51 0 1.02-.2 1.41-.59l7.78-7.78 2.81-2.81c.8-.78.8-2.07 0-2.86zM5.41 20L4 18.59l7.72-7.72 1.47 1.35L5.41 20z\"/>\n",
              "  </svg>\n",
              "      </button>\n",
              "      \n",
              "  <style>\n",
              "    .colab-df-container {\n",
              "      display:flex;\n",
              "      flex-wrap:wrap;\n",
              "      gap: 12px;\n",
              "    }\n",
              "\n",
              "    .colab-df-convert {\n",
              "      background-color: #E8F0FE;\n",
              "      border: none;\n",
              "      border-radius: 50%;\n",
              "      cursor: pointer;\n",
              "      display: none;\n",
              "      fill: #1967D2;\n",
              "      height: 32px;\n",
              "      padding: 0 0 0 0;\n",
              "      width: 32px;\n",
              "    }\n",
              "\n",
              "    .colab-df-convert:hover {\n",
              "      background-color: #E2EBFA;\n",
              "      box-shadow: 0px 1px 2px rgba(60, 64, 67, 0.3), 0px 1px 3px 1px rgba(60, 64, 67, 0.15);\n",
              "      fill: #174EA6;\n",
              "    }\n",
              "\n",
              "    [theme=dark] .colab-df-convert {\n",
              "      background-color: #3B4455;\n",
              "      fill: #D2E3FC;\n",
              "    }\n",
              "\n",
              "    [theme=dark] .colab-df-convert:hover {\n",
              "      background-color: #434B5C;\n",
              "      box-shadow: 0px 1px 3px 1px rgba(0, 0, 0, 0.15);\n",
              "      filter: drop-shadow(0px 1px 2px rgba(0, 0, 0, 0.3));\n",
              "      fill: #FFFFFF;\n",
              "    }\n",
              "  </style>\n",
              "\n",
              "      <script>\n",
              "        const buttonEl =\n",
              "          document.querySelector('#df-3bb65ca0-dcb4-48aa-a9f0-dd43c19e5524 button.colab-df-convert');\n",
              "        buttonEl.style.display =\n",
              "          google.colab.kernel.accessAllowed ? 'block' : 'none';\n",
              "\n",
              "        async function convertToInteractive(key) {\n",
              "          const element = document.querySelector('#df-3bb65ca0-dcb4-48aa-a9f0-dd43c19e5524');\n",
              "          const dataTable =\n",
              "            await google.colab.kernel.invokeFunction('convertToInteractive',\n",
              "                                                     [key], {});\n",
              "          if (!dataTable) return;\n",
              "\n",
              "          const docLinkHtml = 'Like what you see? Visit the ' +\n",
              "            '<a target=\"_blank\" href=https://colab.research.google.com/notebooks/data_table.ipynb>data table notebook</a>'\n",
              "            + ' to learn more about interactive tables.';\n",
              "          element.innerHTML = '';\n",
              "          dataTable['output_type'] = 'display_data';\n",
              "          await google.colab.output.renderOutput(dataTable, element);\n",
              "          const docLink = document.createElement('div');\n",
              "          docLink.innerHTML = docLinkHtml;\n",
              "          element.appendChild(docLink);\n",
              "        }\n",
              "      </script>\n",
              "    </div>\n",
              "  </div>\n",
              "  "
            ]
          },
          "metadata": {},
          "execution_count": 170
        }
      ],
      "source": [
        "pop = pd.read_csv(\"https://www2.census.gov/programs-surveys/popest/datasets/2020-2021/counties/asrh/cc-est2021-agesex-all.csv\", encoding='latin-1')\n",
        "# Keep only the entries for the most recent year \"3\"\n",
        "pop = pop.loc[pop['YEAR'] == 3]\n",
        "# Preview\n",
        "pop.head()"
      ]
    },
    {
      "cell_type": "markdown",
      "source": [
        "Reformat FIPS code"
      ],
      "metadata": {
        "id": "dnlTa8_Us-VL"
      },
      "id": "dnlTa8_Us-VL"
    },
    {
      "cell_type": "code",
      "execution_count": 171,
      "id": "daa894ed",
      "metadata": {
        "id": "daa894ed"
      },
      "outputs": [],
      "source": [
        "pop[\"FIPS2\"] = pop[\"STATE\"]*1000 + pop[\"COUNTY\"]\n",
        "pop[\"FIPS2\"] = pop[\"FIPS2\"].apply(lambda x: '{0:0>5}'.format(x)) "
      ]
    },
    {
      "cell_type": "code",
      "source": [
        "pop = pop[[\"POPESTIMATE\", \"FIPS2\", \"STNAME\"]]\n",
        "pop.head()\n"
      ],
      "metadata": {
        "colab": {
          "base_uri": "https://localhost:8080/",
          "height": 206
        },
        "id": "_fRjYXhgbd2Q",
        "outputId": "f27140a9-e651-4cc8-e306-5d8880f679a2"
      },
      "id": "_fRjYXhgbd2Q",
      "execution_count": 172,
      "outputs": [
        {
          "output_type": "execute_result",
          "data": {
            "text/plain": [
              "    POPESTIMATE  FIPS2   STNAME\n",
              "2         59095  01001  Alabama\n",
              "5        239294  01003  Alabama\n",
              "8         24964  01005  Alabama\n",
              "11        22477  01007  Alabama\n",
              "14        59041  01009  Alabama"
            ],
            "text/html": [
              "\n",
              "  <div id=\"df-843ca573-493a-4bb5-8eb7-fd6cf64fa80a\">\n",
              "    <div class=\"colab-df-container\">\n",
              "      <div>\n",
              "<style scoped>\n",
              "    .dataframe tbody tr th:only-of-type {\n",
              "        vertical-align: middle;\n",
              "    }\n",
              "\n",
              "    .dataframe tbody tr th {\n",
              "        vertical-align: top;\n",
              "    }\n",
              "\n",
              "    .dataframe thead th {\n",
              "        text-align: right;\n",
              "    }\n",
              "</style>\n",
              "<table border=\"1\" class=\"dataframe\">\n",
              "  <thead>\n",
              "    <tr style=\"text-align: right;\">\n",
              "      <th></th>\n",
              "      <th>POPESTIMATE</th>\n",
              "      <th>FIPS2</th>\n",
              "      <th>STNAME</th>\n",
              "    </tr>\n",
              "  </thead>\n",
              "  <tbody>\n",
              "    <tr>\n",
              "      <th>2</th>\n",
              "      <td>59095</td>\n",
              "      <td>01001</td>\n",
              "      <td>Alabama</td>\n",
              "    </tr>\n",
              "    <tr>\n",
              "      <th>5</th>\n",
              "      <td>239294</td>\n",
              "      <td>01003</td>\n",
              "      <td>Alabama</td>\n",
              "    </tr>\n",
              "    <tr>\n",
              "      <th>8</th>\n",
              "      <td>24964</td>\n",
              "      <td>01005</td>\n",
              "      <td>Alabama</td>\n",
              "    </tr>\n",
              "    <tr>\n",
              "      <th>11</th>\n",
              "      <td>22477</td>\n",
              "      <td>01007</td>\n",
              "      <td>Alabama</td>\n",
              "    </tr>\n",
              "    <tr>\n",
              "      <th>14</th>\n",
              "      <td>59041</td>\n",
              "      <td>01009</td>\n",
              "      <td>Alabama</td>\n",
              "    </tr>\n",
              "  </tbody>\n",
              "</table>\n",
              "</div>\n",
              "      <button class=\"colab-df-convert\" onclick=\"convertToInteractive('df-843ca573-493a-4bb5-8eb7-fd6cf64fa80a')\"\n",
              "              title=\"Convert this dataframe to an interactive table.\"\n",
              "              style=\"display:none;\">\n",
              "        \n",
              "  <svg xmlns=\"http://www.w3.org/2000/svg\" height=\"24px\"viewBox=\"0 0 24 24\"\n",
              "       width=\"24px\">\n",
              "    <path d=\"M0 0h24v24H0V0z\" fill=\"none\"/>\n",
              "    <path d=\"M18.56 5.44l.94 2.06.94-2.06 2.06-.94-2.06-.94-.94-2.06-.94 2.06-2.06.94zm-11 1L8.5 8.5l.94-2.06 2.06-.94-2.06-.94L8.5 2.5l-.94 2.06-2.06.94zm10 10l.94 2.06.94-2.06 2.06-.94-2.06-.94-.94-2.06-.94 2.06-2.06.94z\"/><path d=\"M17.41 7.96l-1.37-1.37c-.4-.4-.92-.59-1.43-.59-.52 0-1.04.2-1.43.59L10.3 9.45l-7.72 7.72c-.78.78-.78 2.05 0 2.83L4 21.41c.39.39.9.59 1.41.59.51 0 1.02-.2 1.41-.59l7.78-7.78 2.81-2.81c.8-.78.8-2.07 0-2.86zM5.41 20L4 18.59l7.72-7.72 1.47 1.35L5.41 20z\"/>\n",
              "  </svg>\n",
              "      </button>\n",
              "      \n",
              "  <style>\n",
              "    .colab-df-container {\n",
              "      display:flex;\n",
              "      flex-wrap:wrap;\n",
              "      gap: 12px;\n",
              "    }\n",
              "\n",
              "    .colab-df-convert {\n",
              "      background-color: #E8F0FE;\n",
              "      border: none;\n",
              "      border-radius: 50%;\n",
              "      cursor: pointer;\n",
              "      display: none;\n",
              "      fill: #1967D2;\n",
              "      height: 32px;\n",
              "      padding: 0 0 0 0;\n",
              "      width: 32px;\n",
              "    }\n",
              "\n",
              "    .colab-df-convert:hover {\n",
              "      background-color: #E2EBFA;\n",
              "      box-shadow: 0px 1px 2px rgba(60, 64, 67, 0.3), 0px 1px 3px 1px rgba(60, 64, 67, 0.15);\n",
              "      fill: #174EA6;\n",
              "    }\n",
              "\n",
              "    [theme=dark] .colab-df-convert {\n",
              "      background-color: #3B4455;\n",
              "      fill: #D2E3FC;\n",
              "    }\n",
              "\n",
              "    [theme=dark] .colab-df-convert:hover {\n",
              "      background-color: #434B5C;\n",
              "      box-shadow: 0px 1px 3px 1px rgba(0, 0, 0, 0.15);\n",
              "      filter: drop-shadow(0px 1px 2px rgba(0, 0, 0, 0.3));\n",
              "      fill: #FFFFFF;\n",
              "    }\n",
              "  </style>\n",
              "\n",
              "      <script>\n",
              "        const buttonEl =\n",
              "          document.querySelector('#df-843ca573-493a-4bb5-8eb7-fd6cf64fa80a button.colab-df-convert');\n",
              "        buttonEl.style.display =\n",
              "          google.colab.kernel.accessAllowed ? 'block' : 'none';\n",
              "\n",
              "        async function convertToInteractive(key) {\n",
              "          const element = document.querySelector('#df-843ca573-493a-4bb5-8eb7-fd6cf64fa80a');\n",
              "          const dataTable =\n",
              "            await google.colab.kernel.invokeFunction('convertToInteractive',\n",
              "                                                     [key], {});\n",
              "          if (!dataTable) return;\n",
              "\n",
              "          const docLinkHtml = 'Like what you see? Visit the ' +\n",
              "            '<a target=\"_blank\" href=https://colab.research.google.com/notebooks/data_table.ipynb>data table notebook</a>'\n",
              "            + ' to learn more about interactive tables.';\n",
              "          element.innerHTML = '';\n",
              "          dataTable['output_type'] = 'display_data';\n",
              "          await google.colab.output.renderOutput(dataTable, element);\n",
              "          const docLink = document.createElement('div');\n",
              "          docLink.innerHTML = docLinkHtml;\n",
              "          element.appendChild(docLink);\n",
              "        }\n",
              "      </script>\n",
              "    </div>\n",
              "  </div>\n",
              "  "
            ]
          },
          "metadata": {},
          "execution_count": 172
        }
      ]
    },
    {
      "cell_type": "markdown",
      "source": [
        "Merge population with previous dataframe"
      ],
      "metadata": {
        "id": "tFNUQs-EdDyb"
      },
      "id": "tFNUQs-EdDyb"
    },
    {
      "cell_type": "code",
      "source": [
        "merged2=pd.merge(left=merged1, right=pop, left_on='FIPS_code', right_on='FIPS2')\n",
        "merged2.head()"
      ],
      "metadata": {
        "colab": {
          "base_uri": "https://localhost:8080/",
          "height": 206
        },
        "id": "dUsWfrhPYg6n",
        "outputId": "2fb395a1-09ab-4bb3-f1b3-90f41bb0f2d9"
      },
      "id": "dUsWfrhPYg6n",
      "execution_count": 173,
      "outputs": [
        {
          "output_type": "execute_result",
          "data": {
            "text/plain": [
              "  FIPS_code           Area_name  Civilian_labor_force_2021  \\\n",
              "0     01001  Autauga County, AL                    26341.0   \n",
              "1     01003  Baldwin County, AL                    99427.0   \n",
              "2     01005  Barbour County, AL                     8197.0   \n",
              "3     01007     Bibb County, AL                     8560.0   \n",
              "4     01009   Blount County, AL                    25127.0   \n",
              "\n",
              "   Median_Household_Income_2020  Rural_urban_continuum_code_2013   FIPS  \\\n",
              "0                       67565.0                              2.0  01001   \n",
              "1                       71135.0                              3.0  01003   \n",
              "2                       38866.0                              6.0  01005   \n",
              "3                       50907.0                              1.0  01007   \n",
              "4                       55203.0                              1.0  01009   \n",
              "\n",
              "       RegionName  2022-12-31  POPESTIMATE  FIPS2   STNAME  \n",
              "0  Autauga County    247745.0        59095  01001  Alabama  \n",
              "1  Baldwin County    378538.0       239294  01003  Alabama  \n",
              "2  Barbour County    137713.0        24964  01005  Alabama  \n",
              "3     Bibb County    183821.0        22477  01007  Alabama  \n",
              "4   Blount County    265515.0        59041  01009  Alabama  "
            ],
            "text/html": [
              "\n",
              "  <div id=\"df-88188827-d1fa-4532-8448-4bb1811f9ec2\">\n",
              "    <div class=\"colab-df-container\">\n",
              "      <div>\n",
              "<style scoped>\n",
              "    .dataframe tbody tr th:only-of-type {\n",
              "        vertical-align: middle;\n",
              "    }\n",
              "\n",
              "    .dataframe tbody tr th {\n",
              "        vertical-align: top;\n",
              "    }\n",
              "\n",
              "    .dataframe thead th {\n",
              "        text-align: right;\n",
              "    }\n",
              "</style>\n",
              "<table border=\"1\" class=\"dataframe\">\n",
              "  <thead>\n",
              "    <tr style=\"text-align: right;\">\n",
              "      <th></th>\n",
              "      <th>FIPS_code</th>\n",
              "      <th>Area_name</th>\n",
              "      <th>Civilian_labor_force_2021</th>\n",
              "      <th>Median_Household_Income_2020</th>\n",
              "      <th>Rural_urban_continuum_code_2013</th>\n",
              "      <th>FIPS</th>\n",
              "      <th>RegionName</th>\n",
              "      <th>2022-12-31</th>\n",
              "      <th>POPESTIMATE</th>\n",
              "      <th>FIPS2</th>\n",
              "      <th>STNAME</th>\n",
              "    </tr>\n",
              "  </thead>\n",
              "  <tbody>\n",
              "    <tr>\n",
              "      <th>0</th>\n",
              "      <td>01001</td>\n",
              "      <td>Autauga County, AL</td>\n",
              "      <td>26341.0</td>\n",
              "      <td>67565.0</td>\n",
              "      <td>2.0</td>\n",
              "      <td>01001</td>\n",
              "      <td>Autauga County</td>\n",
              "      <td>247745.0</td>\n",
              "      <td>59095</td>\n",
              "      <td>01001</td>\n",
              "      <td>Alabama</td>\n",
              "    </tr>\n",
              "    <tr>\n",
              "      <th>1</th>\n",
              "      <td>01003</td>\n",
              "      <td>Baldwin County, AL</td>\n",
              "      <td>99427.0</td>\n",
              "      <td>71135.0</td>\n",
              "      <td>3.0</td>\n",
              "      <td>01003</td>\n",
              "      <td>Baldwin County</td>\n",
              "      <td>378538.0</td>\n",
              "      <td>239294</td>\n",
              "      <td>01003</td>\n",
              "      <td>Alabama</td>\n",
              "    </tr>\n",
              "    <tr>\n",
              "      <th>2</th>\n",
              "      <td>01005</td>\n",
              "      <td>Barbour County, AL</td>\n",
              "      <td>8197.0</td>\n",
              "      <td>38866.0</td>\n",
              "      <td>6.0</td>\n",
              "      <td>01005</td>\n",
              "      <td>Barbour County</td>\n",
              "      <td>137713.0</td>\n",
              "      <td>24964</td>\n",
              "      <td>01005</td>\n",
              "      <td>Alabama</td>\n",
              "    </tr>\n",
              "    <tr>\n",
              "      <th>3</th>\n",
              "      <td>01007</td>\n",
              "      <td>Bibb County, AL</td>\n",
              "      <td>8560.0</td>\n",
              "      <td>50907.0</td>\n",
              "      <td>1.0</td>\n",
              "      <td>01007</td>\n",
              "      <td>Bibb County</td>\n",
              "      <td>183821.0</td>\n",
              "      <td>22477</td>\n",
              "      <td>01007</td>\n",
              "      <td>Alabama</td>\n",
              "    </tr>\n",
              "    <tr>\n",
              "      <th>4</th>\n",
              "      <td>01009</td>\n",
              "      <td>Blount County, AL</td>\n",
              "      <td>25127.0</td>\n",
              "      <td>55203.0</td>\n",
              "      <td>1.0</td>\n",
              "      <td>01009</td>\n",
              "      <td>Blount County</td>\n",
              "      <td>265515.0</td>\n",
              "      <td>59041</td>\n",
              "      <td>01009</td>\n",
              "      <td>Alabama</td>\n",
              "    </tr>\n",
              "  </tbody>\n",
              "</table>\n",
              "</div>\n",
              "      <button class=\"colab-df-convert\" onclick=\"convertToInteractive('df-88188827-d1fa-4532-8448-4bb1811f9ec2')\"\n",
              "              title=\"Convert this dataframe to an interactive table.\"\n",
              "              style=\"display:none;\">\n",
              "        \n",
              "  <svg xmlns=\"http://www.w3.org/2000/svg\" height=\"24px\"viewBox=\"0 0 24 24\"\n",
              "       width=\"24px\">\n",
              "    <path d=\"M0 0h24v24H0V0z\" fill=\"none\"/>\n",
              "    <path d=\"M18.56 5.44l.94 2.06.94-2.06 2.06-.94-2.06-.94-.94-2.06-.94 2.06-2.06.94zm-11 1L8.5 8.5l.94-2.06 2.06-.94-2.06-.94L8.5 2.5l-.94 2.06-2.06.94zm10 10l.94 2.06.94-2.06 2.06-.94-2.06-.94-.94-2.06-.94 2.06-2.06.94z\"/><path d=\"M17.41 7.96l-1.37-1.37c-.4-.4-.92-.59-1.43-.59-.52 0-1.04.2-1.43.59L10.3 9.45l-7.72 7.72c-.78.78-.78 2.05 0 2.83L4 21.41c.39.39.9.59 1.41.59.51 0 1.02-.2 1.41-.59l7.78-7.78 2.81-2.81c.8-.78.8-2.07 0-2.86zM5.41 20L4 18.59l7.72-7.72 1.47 1.35L5.41 20z\"/>\n",
              "  </svg>\n",
              "      </button>\n",
              "      \n",
              "  <style>\n",
              "    .colab-df-container {\n",
              "      display:flex;\n",
              "      flex-wrap:wrap;\n",
              "      gap: 12px;\n",
              "    }\n",
              "\n",
              "    .colab-df-convert {\n",
              "      background-color: #E8F0FE;\n",
              "      border: none;\n",
              "      border-radius: 50%;\n",
              "      cursor: pointer;\n",
              "      display: none;\n",
              "      fill: #1967D2;\n",
              "      height: 32px;\n",
              "      padding: 0 0 0 0;\n",
              "      width: 32px;\n",
              "    }\n",
              "\n",
              "    .colab-df-convert:hover {\n",
              "      background-color: #E2EBFA;\n",
              "      box-shadow: 0px 1px 2px rgba(60, 64, 67, 0.3), 0px 1px 3px 1px rgba(60, 64, 67, 0.15);\n",
              "      fill: #174EA6;\n",
              "    }\n",
              "\n",
              "    [theme=dark] .colab-df-convert {\n",
              "      background-color: #3B4455;\n",
              "      fill: #D2E3FC;\n",
              "    }\n",
              "\n",
              "    [theme=dark] .colab-df-convert:hover {\n",
              "      background-color: #434B5C;\n",
              "      box-shadow: 0px 1px 3px 1px rgba(0, 0, 0, 0.15);\n",
              "      filter: drop-shadow(0px 1px 2px rgba(0, 0, 0, 0.3));\n",
              "      fill: #FFFFFF;\n",
              "    }\n",
              "  </style>\n",
              "\n",
              "      <script>\n",
              "        const buttonEl =\n",
              "          document.querySelector('#df-88188827-d1fa-4532-8448-4bb1811f9ec2 button.colab-df-convert');\n",
              "        buttonEl.style.display =\n",
              "          google.colab.kernel.accessAllowed ? 'block' : 'none';\n",
              "\n",
              "        async function convertToInteractive(key) {\n",
              "          const element = document.querySelector('#df-88188827-d1fa-4532-8448-4bb1811f9ec2');\n",
              "          const dataTable =\n",
              "            await google.colab.kernel.invokeFunction('convertToInteractive',\n",
              "                                                     [key], {});\n",
              "          if (!dataTable) return;\n",
              "\n",
              "          const docLinkHtml = 'Like what you see? Visit the ' +\n",
              "            '<a target=\"_blank\" href=https://colab.research.google.com/notebooks/data_table.ipynb>data table notebook</a>'\n",
              "            + ' to learn more about interactive tables.';\n",
              "          element.innerHTML = '';\n",
              "          dataTable['output_type'] = 'display_data';\n",
              "          await google.colab.output.renderOutput(dataTable, element);\n",
              "          const docLink = document.createElement('div');\n",
              "          docLink.innerHTML = docLinkHtml;\n",
              "          element.appendChild(docLink);\n",
              "        }\n",
              "      </script>\n",
              "    </div>\n",
              "  </div>\n",
              "  "
            ]
          },
          "metadata": {},
          "execution_count": 173
        }
      ]
    },
    {
      "cell_type": "markdown",
      "id": "ce63ea99",
      "metadata": {
        "id": "ce63ea99"
      },
      "source": [
        "Calculate Price to Income Ratio"
      ]
    },
    {
      "cell_type": "code",
      "execution_count": 174,
      "id": "2b3a25d3",
      "metadata": {
        "id": "2b3a25d3"
      },
      "outputs": [],
      "source": [
        "PIR = \"Price_Income_Ratio\"\n",
        "merged2[PIR] = merged2[mostrecentZHVI] / merged2[\"Median_Household_Income_2020\"]"
      ]
    },
    {
      "cell_type": "markdown",
      "id": "3a6fc510",
      "metadata": {
        "id": "3a6fc510"
      },
      "source": [
        "Rename and rearrange columns"
      ]
    },
    {
      "cell_type": "code",
      "execution_count": 175,
      "id": "bd456fbc",
      "metadata": {
        "id": "bd456fbc"
      },
      "outputs": [],
      "source": [
        "merged2.rename(columns = {'Civilian_labor_force_2021':'Labor_Force', 'Median_Household_Income_2020':'Income', mostrecentZHVI:\"House_Price\", 'POPESTIMATE':'Population', 'Rural_urban_continuum_code_2013':'Rural_urban'}, inplace = True)\n",
        "merged2 = merged2[[\"FIPS_code\", \"Area_name\", PIR, \"House_Price\", \"Income\", \"Labor_Force\", \"Population\", \"Rural_urban\", \"STNAME\"]]\n"
      ]
    },
    {
      "cell_type": "markdown",
      "id": "ba78c0e8",
      "metadata": {
        "id": "ba78c0e8"
      },
      "source": [
        "Examine and Export"
      ]
    },
    {
      "cell_type": "code",
      "execution_count": 176,
      "id": "a193144a",
      "metadata": {
        "id": "a193144a"
      },
      "outputs": [],
      "source": [
        "merged2.head()\n",
        "merged2.to_csv('merged.csv', encoding='utf-8', index=False)"
      ]
    },
    {
      "cell_type": "markdown",
      "id": "7862dd89",
      "metadata": {
        "id": "7862dd89"
      },
      "source": [
        "Calculate mean, standard deviation, percentiles, min/max\n",
        "\n",
        "Set as new dataframe and export"
      ]
    },
    {
      "cell_type": "code",
      "execution_count": 177,
      "id": "0ca683c9",
      "metadata": {
        "id": "0ca683c9"
      },
      "outputs": [],
      "source": [
        "#Housing Price\n",
        "HP_mean = np.mean(merged2['House_Price'])\n",
        "HP_SD = np.std(merged2['House_Price'])\n",
        "HP_min = merged2['House_Price'].quantile(q=0)\n",
        "HP_25 = merged2['House_Price'].quantile(q=0.25)\n",
        "HP_50 = merged2['House_Price'].quantile(q=0.50)\n",
        "HP_75 = merged2['House_Price'].quantile(q=0.75)\n",
        "HP_max = merged2['House_Price'].quantile(q=1)\n",
        "\n",
        "#Median Income\n",
        "INC_mean = np.mean(merged2['Income'])\n",
        "INC_SD = np.std(merged2['Income'])\n",
        "INC_min = merged2['Income'].quantile(q=0)\n",
        "INC_25 = merged2['Income'].quantile(q=0.25)\n",
        "INC_50 = merged2['Income'].quantile(q=0.50)\n",
        "INC_75 = merged2['Income'].quantile(q=0.75)\n",
        "INC_max = merged2['Income'].quantile(q=1)\n",
        "\n",
        "#Price to Income Ratio\n",
        "PIR_mean = np.mean(merged2[PIR])\n",
        "PIR_SD = np.std(merged2[PIR])\n",
        "PIR_min = merged2[PIR].quantile(q=0)\n",
        "PIR_25 = merged2[PIR].quantile(q=0.25)\n",
        "PIR_50 = merged2[PIR].quantile(q=0.50)\n",
        "PIR_75 = merged2[PIR].quantile(q=0.75)\n",
        "PIR_max = merged2[PIR].quantile(q=1)\n"
      ]
    },
    {
      "cell_type": "code",
      "execution_count": 178,
      "id": "7824f36e",
      "metadata": {
        "id": "7824f36e",
        "colab": {
          "base_uri": "https://localhost:8080/",
          "height": 143
        },
        "outputId": "89a1a814-b220-4304-9b50-663775a68a91"
      },
      "outputs": [
        {
          "output_type": "execute_result",
          "data": {
            "text/plain": [
              "                             Mean         St_Dev           Min            25%  \\\n",
              "Price_Income_Ratio       4.119392       1.883804      1.087423       2.920106   \n",
              "House_Price         249393.265845  168165.991808  39840.000000  146302.000000   \n",
              "Income               58018.909507   14684.018108  26866.000000   48286.750000   \n",
              "\n",
              "                           Median            75%           Max  \n",
              "Price_Income_Ratio       3.692877       4.745922  2.437296e+01  \n",
              "House_Price         203040.500000  302350.750000  2.332809e+06  \n",
              "Income               55627.000000   64502.750000  1.603050e+05  "
            ],
            "text/html": [
              "\n",
              "  <div id=\"df-99154fd5-e227-430f-8718-c9d78164e166\">\n",
              "    <div class=\"colab-df-container\">\n",
              "      <div>\n",
              "<style scoped>\n",
              "    .dataframe tbody tr th:only-of-type {\n",
              "        vertical-align: middle;\n",
              "    }\n",
              "\n",
              "    .dataframe tbody tr th {\n",
              "        vertical-align: top;\n",
              "    }\n",
              "\n",
              "    .dataframe thead th {\n",
              "        text-align: right;\n",
              "    }\n",
              "</style>\n",
              "<table border=\"1\" class=\"dataframe\">\n",
              "  <thead>\n",
              "    <tr style=\"text-align: right;\">\n",
              "      <th></th>\n",
              "      <th>Mean</th>\n",
              "      <th>St_Dev</th>\n",
              "      <th>Min</th>\n",
              "      <th>25%</th>\n",
              "      <th>Median</th>\n",
              "      <th>75%</th>\n",
              "      <th>Max</th>\n",
              "    </tr>\n",
              "  </thead>\n",
              "  <tbody>\n",
              "    <tr>\n",
              "      <th>Price_Income_Ratio</th>\n",
              "      <td>4.119392</td>\n",
              "      <td>1.883804</td>\n",
              "      <td>1.087423</td>\n",
              "      <td>2.920106</td>\n",
              "      <td>3.692877</td>\n",
              "      <td>4.745922</td>\n",
              "      <td>2.437296e+01</td>\n",
              "    </tr>\n",
              "    <tr>\n",
              "      <th>House_Price</th>\n",
              "      <td>249393.265845</td>\n",
              "      <td>168165.991808</td>\n",
              "      <td>39840.000000</td>\n",
              "      <td>146302.000000</td>\n",
              "      <td>203040.500000</td>\n",
              "      <td>302350.750000</td>\n",
              "      <td>2.332809e+06</td>\n",
              "    </tr>\n",
              "    <tr>\n",
              "      <th>Income</th>\n",
              "      <td>58018.909507</td>\n",
              "      <td>14684.018108</td>\n",
              "      <td>26866.000000</td>\n",
              "      <td>48286.750000</td>\n",
              "      <td>55627.000000</td>\n",
              "      <td>64502.750000</td>\n",
              "      <td>1.603050e+05</td>\n",
              "    </tr>\n",
              "  </tbody>\n",
              "</table>\n",
              "</div>\n",
              "      <button class=\"colab-df-convert\" onclick=\"convertToInteractive('df-99154fd5-e227-430f-8718-c9d78164e166')\"\n",
              "              title=\"Convert this dataframe to an interactive table.\"\n",
              "              style=\"display:none;\">\n",
              "        \n",
              "  <svg xmlns=\"http://www.w3.org/2000/svg\" height=\"24px\"viewBox=\"0 0 24 24\"\n",
              "       width=\"24px\">\n",
              "    <path d=\"M0 0h24v24H0V0z\" fill=\"none\"/>\n",
              "    <path d=\"M18.56 5.44l.94 2.06.94-2.06 2.06-.94-2.06-.94-.94-2.06-.94 2.06-2.06.94zm-11 1L8.5 8.5l.94-2.06 2.06-.94-2.06-.94L8.5 2.5l-.94 2.06-2.06.94zm10 10l.94 2.06.94-2.06 2.06-.94-2.06-.94-.94-2.06-.94 2.06-2.06.94z\"/><path d=\"M17.41 7.96l-1.37-1.37c-.4-.4-.92-.59-1.43-.59-.52 0-1.04.2-1.43.59L10.3 9.45l-7.72 7.72c-.78.78-.78 2.05 0 2.83L4 21.41c.39.39.9.59 1.41.59.51 0 1.02-.2 1.41-.59l7.78-7.78 2.81-2.81c.8-.78.8-2.07 0-2.86zM5.41 20L4 18.59l7.72-7.72 1.47 1.35L5.41 20z\"/>\n",
              "  </svg>\n",
              "      </button>\n",
              "      \n",
              "  <style>\n",
              "    .colab-df-container {\n",
              "      display:flex;\n",
              "      flex-wrap:wrap;\n",
              "      gap: 12px;\n",
              "    }\n",
              "\n",
              "    .colab-df-convert {\n",
              "      background-color: #E8F0FE;\n",
              "      border: none;\n",
              "      border-radius: 50%;\n",
              "      cursor: pointer;\n",
              "      display: none;\n",
              "      fill: #1967D2;\n",
              "      height: 32px;\n",
              "      padding: 0 0 0 0;\n",
              "      width: 32px;\n",
              "    }\n",
              "\n",
              "    .colab-df-convert:hover {\n",
              "      background-color: #E2EBFA;\n",
              "      box-shadow: 0px 1px 2px rgba(60, 64, 67, 0.3), 0px 1px 3px 1px rgba(60, 64, 67, 0.15);\n",
              "      fill: #174EA6;\n",
              "    }\n",
              "\n",
              "    [theme=dark] .colab-df-convert {\n",
              "      background-color: #3B4455;\n",
              "      fill: #D2E3FC;\n",
              "    }\n",
              "\n",
              "    [theme=dark] .colab-df-convert:hover {\n",
              "      background-color: #434B5C;\n",
              "      box-shadow: 0px 1px 3px 1px rgba(0, 0, 0, 0.15);\n",
              "      filter: drop-shadow(0px 1px 2px rgba(0, 0, 0, 0.3));\n",
              "      fill: #FFFFFF;\n",
              "    }\n",
              "  </style>\n",
              "\n",
              "      <script>\n",
              "        const buttonEl =\n",
              "          document.querySelector('#df-99154fd5-e227-430f-8718-c9d78164e166 button.colab-df-convert');\n",
              "        buttonEl.style.display =\n",
              "          google.colab.kernel.accessAllowed ? 'block' : 'none';\n",
              "\n",
              "        async function convertToInteractive(key) {\n",
              "          const element = document.querySelector('#df-99154fd5-e227-430f-8718-c9d78164e166');\n",
              "          const dataTable =\n",
              "            await google.colab.kernel.invokeFunction('convertToInteractive',\n",
              "                                                     [key], {});\n",
              "          if (!dataTable) return;\n",
              "\n",
              "          const docLinkHtml = 'Like what you see? Visit the ' +\n",
              "            '<a target=\"_blank\" href=https://colab.research.google.com/notebooks/data_table.ipynb>data table notebook</a>'\n",
              "            + ' to learn more about interactive tables.';\n",
              "          element.innerHTML = '';\n",
              "          dataTable['output_type'] = 'display_data';\n",
              "          await google.colab.output.renderOutput(dataTable, element);\n",
              "          const docLink = document.createElement('div');\n",
              "          docLink.innerHTML = docLinkHtml;\n",
              "          element.appendChild(docLink);\n",
              "        }\n",
              "      </script>\n",
              "    </div>\n",
              "  </div>\n",
              "  "
            ]
          },
          "metadata": {},
          "execution_count": 178
        }
      ],
      "source": [
        "#Merge all stats into new statsdf dataframe with headers\n",
        "statsdf = pd.DataFrame(columns=[\"Mean\", \"St_Dev\", \"Min\", \"25%\", \"Median\", \"75%\", \"Max\"])\n",
        "statsdf.loc['Price_Income_Ratio'] = [PIR_mean, PIR_SD, PIR_min, PIR_25, PIR_50, PIR_75, PIR_max]\n",
        "statsdf.loc['House_Price'] = [HP_mean, HP_SD, HP_min, HP_25, HP_50, HP_75, HP_max]\n",
        "statsdf.loc['Income'] = [INC_mean, INC_SD, INC_min, INC_25, INC_50, INC_75, INC_max]\n",
        "# Preview\n",
        "statsdf"
      ]
    },
    {
      "cell_type": "code",
      "source": [
        "# Export\n",
        "statsdf.to_csv('stats.csv', index=False)"
      ],
      "metadata": {
        "id": "8WfGBZoJ5eUU"
      },
      "id": "8WfGBZoJ5eUU",
      "execution_count": 179,
      "outputs": []
    },
    {
      "cell_type": "markdown",
      "source": [
        "Create Large Color-Coded Scatterplot with Highlighted Counties"
      ],
      "metadata": {
        "id": "bIb83GAjQ52H"
      },
      "id": "bIb83GAjQ52H"
    },
    {
      "cell_type": "code",
      "execution_count": 180,
      "id": "34927224",
      "metadata": {
        "colab": {
          "base_uri": "https://localhost:8080/",
          "height": 1000
        },
        "id": "34927224",
        "outputId": "026a1e55-59eb-4d7a-9878-aeeacd9b13f2"
      },
      "outputs": [
        {
          "output_type": "display_data",
          "data": {
            "text/plain": [
              "<Figure size 2160x1440 with 1 Axes>"
            ],
            "image/png": "[encoded data removed]"
          },
          "metadata": {
            "needs_background": "light"
          }
        }
      ],
      "source": [
        "#Calculate value arrays to use for colors and sizes\n",
        "colors = merged2[\"Price_Income_Ratio\"].apply(lambda x: math.log((1/x)))\n",
        "sizes = (merged2[\"Population\"])**1.4/1000000\n",
        "\n",
        "#Create initial graph\n",
        "plt.rcParams[\"figure.figsize\"] = (30,20)\n",
        "plt.scatter(merged2['Income'], merged2['House_Price'], c=colors, cmap='Spectral', s=sizes, edgecolors=\"None\")\n",
        "plt.xlabel('Median Household Income')\n",
        "plt.ylabel('Median House Price x $1million')\n",
        "plt.title('Housing Price to Income by County')\n",
        "\n",
        "#Add selected counties to list after a validity check\n",
        "county_list = []\n",
        "county_names = ['Los Angeles County, CA', 'Cook County, IL', 'Lake County, IL', 'Middlesex County, NJ', 'New York County, NY', 'Miami-Dade County, FL',   'Wayne County, MI', 'Hillsborough County, FL',  'Bronx County, NY', 'Hillsborough County, NH', 'Loudoun County, VA', 'Erie County, NY', 'Multnomah County, OR', 'Nantucket County/town, MA', 'Wyoming County, WV']\n",
        "for row in merged2.index: \n",
        "    if merged2.iloc[row][\"Area_name\"] in county_names:\n",
        "        county_list.append(row)\n",
        "        \n",
        "#Highlight selected counties\n",
        "for i in county_list:\n",
        "    plt.annotate(merged2.iloc[i]['Area_name'], (merged2.iloc[i]['Income']+(math.sqrt(sizes[i])*80), merged2.iloc[i]['House_Price']+math.sqrt(sizes[i])*20), fontsize=8)\n",
        "    plt.scatter(merged2.iloc[i]['Income'], merged2.iloc[i]['House_Price'], s=sizes[i], c='None', edgecolor='black')\n",
        "\n",
        "plt.savefig('Price_to_Income_scatter1.png')\n"
      ]
    },
    {
      "cell_type": "code",
      "execution_count": 181,
      "id": "9748da19",
      "metadata": {
        "id": "9748da19"
      },
      "outputs": [],
      "source": [
        "plt.rcParams[\"figure.figsize\"] = (10,10)\n",
        "\n",
        "\n"
      ]
    },
    {
      "cell_type": "markdown",
      "source": [
        "Generate Regression Model"
      ],
      "metadata": {
        "id": "oIb2hJFaOsCh"
      },
      "id": "oIb2hJFaOsCh"
    },
    {
      "cell_type": "code",
      "source": [
        "X = merged2[[\"Income\",\"Population\",\"Rural_urban\", \"STNAME\"]]\n",
        "y = merged2[[\"House_Price\"]]\n",
        "\n",
        "# Create the linear regression model\n",
        "model = LinearRegression()\n",
        "\n",
        "# Create dummy variables for the categorical features \"Rural_urban\" and \"STNAME\"\n",
        "X = pd.get_dummies(X, columns=[\"Rural_urban\"])\n",
        "X = pd.get_dummies(X, columns=[\"STNAME\"])\n",
        "# Fit the model to the data\n",
        "model.fit(X, y)\n",
        "\n",
        "# Make predictions using the model\n",
        "y_pred = model.predict(X)\n",
        "\n",
        "\n",
        "\n"
      ],
      "metadata": {
        "id": "XVHKcFr38ydC"
      },
      "id": "XVHKcFr38ydC",
      "execution_count": 182,
      "outputs": []
    },
    {
      "cell_type": "code",
      "source": [
        "# Add a constant to the predictor variables\n",
        "X = sm.add_constant(X)\n",
        "\n",
        "# Fit the model using the OLS (ordinary least squares) method\n",
        "model = sm.OLS(y, X).fit()\n",
        "\n",
        "# Print the summary statistics\n",
        "print(model.summary())"
      ],
      "metadata": {
        "colab": {
          "base_uri": "https://localhost:8080/"
        },
        "id": "xwma9q9v8jOA",
        "outputId": "04abe755-276a-4a93-d012-010835d43338"
      },
      "id": "xwma9q9v8jOA",
      "execution_count": 183,
      "outputs": [
        {
          "output_type": "stream",
          "name": "stdout",
          "text": [
            "                            OLS Regression Results                            \n",
            "==============================================================================\n",
            "Dep. Variable:            House_Price   R-squared:                       0.724\n",
            "Model:                            OLS   Adj. R-squared:                  0.718\n",
            "Method:                 Least Squares   F-statistic:                     121.2\n",
            "Date:                Sun, 22 Jan 2023   Prob (F-statistic):               0.00\n",
            "Time:                        10:28:50   Log-Likelihood:                -36377.\n",
            "No. Observations:                2840   AIC:                         7.288e+04\n",
            "Df Residuals:                    2779   BIC:                         7.324e+04\n",
            "Df Model:                          60                                         \n",
            "Covariance Type:            nonrobust                                         \n",
            "===============================================================================================\n",
            "                                  coef    std err          t      P>|t|      [0.025      0.975]\n",
            "-----------------------------------------------------------------------------------------------\n",
            "const                       -1.188e+05   9360.429    -12.693      0.000   -1.37e+05      -1e+05\n",
            "Income                          7.1508      0.166     43.136      0.000       6.826       7.476\n",
            "Population                      0.0404      0.006      7.282      0.000       0.030       0.051\n",
            "Rural_urban_1.0             -2.503e+04   6191.463     -4.043      0.000   -3.72e+04   -1.29e+04\n",
            "Rural_urban_2.0             -2.423e+04   4986.814     -4.858      0.000    -3.4e+04   -1.44e+04\n",
            "Rural_urban_3.0             -1.255e+04   4867.706     -2.579      0.010   -2.21e+04   -3009.706\n",
            "Rural_urban_4.0             -5056.8800   5952.804     -0.849      0.396   -1.67e+04    6615.486\n",
            "Rural_urban_5.0              7234.0264   8801.723      0.822      0.411      -1e+04    2.45e+04\n",
            "Rural_urban_6.0             -1.857e+04   3866.827     -4.803      0.000   -2.62e+04    -1.1e+04\n",
            "Rural_urban_7.0             -1.199e+04   4548.109     -2.636      0.008   -2.09e+04   -3071.794\n",
            "Rural_urban_8.0             -1.626e+04   6318.063     -2.573      0.010   -2.86e+04   -3870.604\n",
            "Rural_urban_9.0             -1.236e+04   5796.676     -2.132      0.033   -2.37e+04    -989.742\n",
            "STNAME_Alabama              -4.501e+04   1.16e+04     -3.879      0.000   -6.78e+04   -2.23e+04\n",
            "STNAME_Alaska               -8.469e+04   3.35e+04     -2.526      0.012    -1.5e+05    -1.9e+04\n",
            "STNAME_Arizona               8.301e+04    2.3e+04      3.608      0.000    3.79e+04    1.28e+05\n",
            "STNAME_Arkansas             -5.654e+04   1.09e+04     -5.193      0.000   -7.79e+04   -3.52e+04\n",
            "STNAME_California            2.137e+05   1.27e+04     16.878      0.000    1.89e+05    2.39e+05\n",
            "STNAME_Colorado              1.239e+05   1.15e+04     10.737      0.000    1.01e+05    1.46e+05\n",
            "STNAME_Connecticut          -8.786e+04   3.13e+04     -2.806      0.005   -1.49e+05   -2.65e+04\n",
            "STNAME_Delaware              6007.4869   5.07e+04      0.118      0.906   -9.35e+04    1.05e+05\n",
            "STNAME_District of Columbia  1.272e+05   8.78e+04      1.448      0.148    -4.5e+04    2.99e+05\n",
            "STNAME_Florida               6.088e+04   1.13e+04      5.380      0.000    3.87e+04    8.31e+04\n",
            "STNAME_Georgia               -2.56e+04   7792.595     -3.286      0.001   -4.09e+04   -1.03e+04\n",
            "STNAME_Hawaii                4.498e+05   4.43e+04     10.148      0.000    3.63e+05    5.37e+05\n",
            "STNAME_Idaho                 1.272e+05   1.39e+04      9.143      0.000       1e+05    1.55e+05\n",
            "STNAME_Illinois             -1.626e+05   9527.108    -17.068      0.000   -1.81e+05   -1.44e+05\n",
            "STNAME_Indiana              -9.747e+04   9730.706    -10.017      0.000   -1.17e+05   -7.84e+04\n",
            "STNAME_Iowa                 -1.403e+05   9449.802    -14.844      0.000   -1.59e+05   -1.22e+05\n",
            "STNAME_Kansas               -1.267e+05   1.13e+04    -11.159      0.000   -1.49e+05   -1.04e+05\n",
            "STNAME_Kentucky             -6.192e+04   8973.559     -6.901      0.000   -7.95e+04   -4.43e+04\n",
            "STNAME_Louisiana            -4.077e+04   1.18e+04     -3.452      0.001   -6.39e+04   -1.76e+04\n",
            "STNAME_Maine                 2.753e+04   2.22e+04      1.242      0.214   -1.59e+04     7.1e+04\n",
            "STNAME_Maryland             -9.339e+04   1.84e+04     -5.078      0.000   -1.29e+05   -5.73e+04\n",
            "STNAME_Massachusetts         2.305e+05   2.38e+04      9.673      0.000    1.84e+05    2.77e+05\n",
            "STNAME_Michigan             -6.821e+04   1.02e+04     -6.668      0.000   -8.83e+04   -4.82e+04\n",
            "STNAME_Minnesota            -1.007e+05   9995.176    -10.076      0.000    -1.2e+05   -8.11e+04\n",
            "STNAME_Mississippi          -4.665e+04   1.15e+04     -4.065      0.000   -6.91e+04   -2.41e+04\n",
            "STNAME_Missouri             -5.318e+04   9124.078     -5.829      0.000   -7.11e+04   -3.53e+04\n",
            "STNAME_Montana               1.156e+05   1.51e+04      7.662      0.000     8.6e+04    1.45e+05\n",
            "STNAME_Nebraska             -1.084e+05   1.19e+04     -9.088      0.000   -1.32e+05    -8.5e+04\n",
            "STNAME_Nevada                6729.3330   2.22e+04      0.303      0.762   -3.68e+04    5.03e+04\n",
            "STNAME_New Hampshire        -7177.3363    2.8e+04     -0.256      0.798   -6.21e+04    4.78e+04\n",
            "STNAME_New Jersey           -3.567e+04   1.97e+04     -1.811      0.070   -7.43e+04    2959.985\n",
            "STNAME_New Mexico            5880.9787   1.79e+04      0.328      0.743   -2.92e+04     4.1e+04\n",
            "STNAME_New York             -3.597e+04   1.16e+04     -3.092      0.002   -5.88e+04   -1.32e+04\n",
            "STNAME_North Carolina        1.853e+04   9482.472      1.954      0.051     -66.474    3.71e+04\n",
            "STNAME_North Dakota         -1.225e+05   1.83e+04     -6.677      0.000   -1.58e+05   -8.65e+04\n",
            "STNAME_Ohio                 -9.307e+04   9967.996     -9.337      0.000   -1.13e+05   -7.35e+04\n",
            "STNAME_Oklahoma             -9.256e+04   1.08e+04     -8.531      0.000   -1.14e+05   -7.13e+04\n",
            "STNAME_Oregon                9.694e+04    1.5e+04      6.483      0.000    6.76e+04    1.26e+05\n",
            "STNAME_Pennsylvania         -8.265e+04   1.12e+04     -7.379      0.000   -1.05e+05   -6.07e+04\n",
            "STNAME_Rhode Island          6.591e+04   3.96e+04      1.666      0.096   -1.17e+04    1.43e+05\n",
            "STNAME_South Carolina       -9946.9525   1.37e+04     -0.728      0.466   -3.67e+04    1.68e+04\n",
            "STNAME_South Dakota         -5.279e+04   1.64e+04     -3.211      0.001    -8.5e+04   -2.06e+04\n",
            "STNAME_Tennessee            -3353.4933   9677.247     -0.347      0.729   -2.23e+04    1.56e+04\n",
            "STNAME_Texas                -5.417e+04   6850.733     -7.908      0.000   -6.76e+04   -4.07e+04\n",
            "STNAME_Utah                  1.249e+05   1.87e+04      6.692      0.000    8.83e+04    1.61e+05\n",
            "STNAME_Vermont               1.846e+04   2.37e+04      0.779      0.436    -2.8e+04     6.5e+04\n",
            "STNAME_Virginia             -3.543e+04   8335.140     -4.250      0.000   -5.18e+04   -1.91e+04\n",
            "STNAME_Washington            1.264e+05   1.44e+04      8.762      0.000    9.81e+04    1.55e+05\n",
            "STNAME_West Virginia        -8.203e+04   1.29e+04     -6.338      0.000   -1.07e+05   -5.67e+04\n",
            "STNAME_Wisconsin            -7.471e+04   1.08e+04     -6.893      0.000    -9.6e+04   -5.35e+04\n",
            "STNAME_Wyoming               3.418e+04   1.96e+04      1.742      0.082   -4284.308    7.27e+04\n",
            "==============================================================================\n",
            "Omnibus:                     3033.866   Durbin-Watson:                   2.106\n",
            "Prob(Omnibus):                  0.000   Jarque-Bera (JB):           507830.975\n",
            "Skew:                           4.977   Prob(JB):                         0.00\n",
            "Kurtosis:                      67.749   Cond. No.                     5.68e+17\n",
            "==============================================================================\n",
            "\n",
            "Notes:\n",
            "[1] Standard Errors assume that the covariance matrix of the errors is correctly specified.\n",
            "[2] The smallest eigenvalue is 1.19e-21. This might indicate that there are\n",
            "strong multicollinearity problems or that the design matrix is singular.\n"
          ]
        },
        {
          "output_type": "stream",
          "name": "stderr",
          "text": [
            "/usr/local/lib/python3.8/dist-packages/statsmodels/tsa/tsatools.py:142: FutureWarning: In a future version of pandas all arguments of concat except for the argument 'objs' will be keyword-only\n",
            "  x = pd.concat(x[::order], 1)\n"
          ]
        }
      ]
    },
    {
      "cell_type": "code",
      "source": [
        "# Plot the data and the predictions\n",
        "plt.scatter(X[\"Income\"], y, color='b')\n",
        "plt.scatter(X[\"Income\"], y_pred, color='r')\n",
        "plt.xlabel(\"Income\")\n",
        "plt.ylabel(\"House Price\")\n",
        "plt.show()\n"
      ],
      "metadata": {
        "colab": {
          "base_uri": "https://localhost:8080/",
          "height": 290
        },
        "id": "LU7kDr_v8i82",
        "outputId": "76d2a018-d4c5-43b3-8d59-313c2ee45d57"
      },
      "id": "LU7kDr_v8i82",
      "execution_count": 198,
      "outputs": [
        {
          "output_type": "display_data",
          "data": {
            "text/plain": [
              "<Figure size 864x288 with 1 Axes>"
            ],
            "image/png": "[encoded data removed]"
          },
          "metadata": {
            "needs_background": "light"
          }
        }
      ]
    },
    {
      "cell_type": "code",
      "source": [
        "\n",
        "plt.scatter(X[\"Population\"], y, color='b')\n",
        "plt.scatter(X[\"Population\"], y_pred, color='r')\n",
        "plt.xlabel(\"Population\")\n",
        "plt.ylabel(\"House Price\")\n",
        "plt.show()"
      ],
      "metadata": {
        "colab": {
          "base_uri": "https://localhost:8080/",
          "height": 290
        },
        "id": "j38wGNuY9a9k",
        "outputId": "76f2df3e-0e01-4f72-e2ea-700035a2d3bd"
      },
      "id": "j38wGNuY9a9k",
      "execution_count": 200,
      "outputs": [
        {
          "output_type": "display_data",
          "data": {
            "text/plain": [
              "<Figure size 864x288 with 1 Axes>"
            ],
            "image/png": "[encoded data removed]"
          },
          "metadata": {
            "needs_background": "light"
          }
        }
      ]
    },
    {
      "cell_type": "code",
      "source": [
        "# Calculate the residuals\n",
        "residuals = y_pred - y\n",
        "\n",
        "# Plot the residuals\n",
        "plt.scatter(X[\"Income\"], residuals)\n",
        "plt.xlabel(\"Income\")\n",
        "plt.ylabel(\"Residuals\")\n",
        "#plt.show()\n",
        "\n"
      ],
      "metadata": {
        "colab": {
          "base_uri": "https://localhost:8080/",
          "height": 307
        },
        "id": "gYE6AJRuxzLE",
        "outputId": "47180ff0-02f5-4ae5-dd76-4c3105889590"
      },
      "id": "gYE6AJRuxzLE",
      "execution_count": 201,
      "outputs": [
        {
          "output_type": "execute_result",
          "data": {
            "text/plain": [
              "Text(0, 0.5, 'Residuals')"
            ]
          },
          "metadata": {},
          "execution_count": 201
        },
        {
          "output_type": "display_data",
          "data": {
            "text/plain": [
              "<Figure size 864x288 with 1 Axes>"
            ],
            "image/png": "[encoded data removed]"
          },
          "metadata": {
            "needs_background": "light"
          }
        }
      ]
    },
    {
      "cell_type": "code",
      "source": [
        "plt.scatter(X[\"Population\"], y)\n",
        "plt.xlabel(\"Population\")\n",
        "plt.ylabel(\"House Price\")\n",
        "#plt.show()"
      ],
      "metadata": {
        "colab": {
          "base_uri": "https://localhost:8080/",
          "height": 633
        },
        "id": "yjpYrC0h7k4-",
        "outputId": "8c2aed4b-9bdc-4606-a807-8d643d4a8d89"
      },
      "id": "yjpYrC0h7k4-",
      "execution_count": 187,
      "outputs": [
        {
          "output_type": "execute_result",
          "data": {
            "text/plain": [
              "Text(0, 0.5, 'House Price')"
            ]
          },
          "metadata": {},
          "execution_count": 187
        },
        {
          "output_type": "display_data",
          "data": {
            "text/plain": [
              "<Figure size 720x720 with 1 Axes>"
            ],
            "image/png": "[encoded data removed]"
          },
          "metadata": {
            "needs_background": "light"
          }
        }
      ]
    },
    {
      "cell_type": "code",
      "source": [],
      "metadata": {
        "id": "MUYRNSetyqN4"
      },
      "id": "MUYRNSetyqN4",
      "execution_count": 187,
      "outputs": []
    },
    {
      "cell_type": "markdown",
      "source": [
        "Plot Regression Model"
      ],
      "metadata": {
        "id": "xqwdzp0QOnb2"
      },
      "id": "xqwdzp0QOnb2"
    },
    {
      "cell_type": "markdown",
      "id": "d4c31c49",
      "metadata": {
        "id": "d4c31c49"
      },
      "source": [
        "Plot Histogram of Price-to-Income Ratios"
      ]
    },
    {
      "cell_type": "code",
      "execution_count": 188,
      "id": "755919af",
      "metadata": {
        "colab": {
          "base_uri": "https://localhost:8080/",
          "height": 295
        },
        "id": "755919af",
        "outputId": "5b965d18-603f-4fd9-e8ac-ae1df5a60813"
      },
      "outputs": [
        {
          "output_type": "display_data",
          "data": {
            "text/plain": [
              "<Figure size 864x288 with 1 Axes>"
            ],
            "image/png": "[encoded data removed]"
          },
          "metadata": {
            "needs_background": "light"
          }
        }
      ],
      "source": [
        "plt.rcParams[\"figure.figsize\"] = (12,4)\n",
        "\n",
        "plt.hist(merged2[PIR], 100, facecolor='b', alpha=.75)\n",
        "\n",
        "\n",
        "plt.xlabel('Price to Income Ratio')\n",
        "plt.ylabel('Count')\n",
        "plt.title('County Price to Income Ratio Distribution')\n",
        "plt.axvline(PIR_mean, color='black')\n",
        "#plt.axvline(PIR_50, color='black')\n",
        "#plt.axvline(PIR_75, color='black')\n",
        "\n",
        "\n",
        "txt = f'$\\mu={PIR_mean:.3f},\\ \\sigma={PIR_SD:.3f}$\\n Median: {PIR_50:.3f}'\n",
        "plt.text(10, 100, txt)\n",
        "plt.savefig('PIR.png')\n",
        "plt.show()"
      ]
    },
    {
      "cell_type": "code",
      "execution_count": 189,
      "id": "7a0dfe9b",
      "metadata": {
        "colab": {
          "base_uri": "https://localhost:8080/",
          "height": 295
        },
        "id": "7a0dfe9b",
        "outputId": "32a37f69-0a48-4fe4-ad99-468a4ee71ae5"
      },
      "outputs": [
        {
          "output_type": "display_data",
          "data": {
            "text/plain": [
              "<Figure size 864x288 with 1 Axes>"
            ],
            "image/png": "[encoded data removed]"
          },
          "metadata": {
            "needs_background": "light"
          }
        }
      ],
      "source": [
        "plt.hist(merged2[PIR], 100, facecolor='b', alpha=.75, weights=merged2[\"Labor_Force\"])\n",
        "\n",
        "\n",
        "plt.xlabel('Price to Income Ratio')\n",
        "plt.ylabel('Weighted Count')\n",
        "plt.title('Population-Weighted County Price to Income Ratio Distribution')\n",
        "plt.axvline(PIR_mean, color='black')\n",
        "#plt.axvline(PIR_50, color='black')\n",
        "#plt.axvline(PIR_75, color='black')\n",
        "txt = f'$\\mu={PIR_mean:.3f},\\ \\sigma={PIR_SD:.3f}$\\n Median: {PIR_50:.3f}'\n",
        "plt.text(10, 9000000, txt)\n",
        "plt.savefig('PIR_weighted.png')\n",
        "plt.show()"
      ]
    },
    {
      "cell_type": "code",
      "execution_count": 190,
      "id": "72fb03ae",
      "metadata": {
        "colab": {
          "base_uri": "https://localhost:8080/",
          "height": 295
        },
        "id": "72fb03ae",
        "outputId": "52670808-a1bd-42cd-893d-c6851a593f02"
      },
      "outputs": [
        {
          "output_type": "display_data",
          "data": {
            "text/plain": [
              "<Figure size 864x288 with 1 Axes>"
            ],
            "image/png": "[encoded data removed]"
          },
          "metadata": {
            "needs_background": "light"
          }
        }
      ],
      "source": [
        "plt.hist(merged2[\"Income\"], 100, facecolor='g', alpha=.75)\n",
        "plt.xlabel('County Income')\n",
        "plt.ylabel('Count')\n",
        "plt.title('County Income Distribution')\n",
        "plt.axvline(US_MHI, color='black')\n",
        "txt = f'$\\mu={INC_mean:.0f},\\ \\sigma={INC_SD:.0f}$\\n Median: {INC_50:.0f}'\n",
        "plt.text(100000, 100, txt)\n",
        "plt.savefig('Income.png')\n",
        "plt.show()"
      ]
    },
    {
      "cell_type": "code",
      "execution_count": 191,
      "id": "3d5b6fd4",
      "metadata": {
        "colab": {
          "base_uri": "https://localhost:8080/",
          "height": 295
        },
        "id": "3d5b6fd4",
        "outputId": "c703687a-0876-4557-99ce-2bd4056dd097"
      },
      "outputs": [
        {
          "output_type": "display_data",
          "data": {
            "text/plain": [
              "<Figure size 864x288 with 1 Axes>"
            ],
            "image/png": "[encoded data removed]"
          },
          "metadata": {
            "needs_background": "light"
          }
        }
      ],
      "source": [
        "plt.hist(merged2[\"Income\"], 100, facecolor='g', alpha=.75, weights=merged2[\"Labor_Force\"])\n",
        "plt.xlabel('Income ($)')\n",
        "plt.ylabel('Weighted Count')\n",
        "plt.title('Population-Weighted County Income Distribution')\n",
        "plt.axvline(US_MHI, color='black')\n",
        "# plt.text(10, .025, r'$\\mu=100,\\ \\sigma=15$')\n",
        "plt.savefig('Income_weighted.png')\n",
        "plt.show()"
      ]
    },
    {
      "cell_type": "code",
      "execution_count": 192,
      "id": "30f57702",
      "metadata": {
        "colab": {
          "base_uri": "https://localhost:8080/",
          "height": 295
        },
        "id": "30f57702",
        "outputId": "1ba1672b-8792-43e9-d63f-15e753f69531"
      },
      "outputs": [
        {
          "output_type": "display_data",
          "data": {
            "text/plain": [
              "<Figure size 864x288 with 1 Axes>"
            ],
            "image/png": "[encoded data removed]"
          },
          "metadata": {
            "needs_background": "light"
          }
        }
      ],
      "source": [
        "plt.hist(merged2[\"House_Price\"], 100, facecolor='r', alpha=.75)\n",
        "#plt.set_xticks([100000, 200000, 300000, 400000, 500000])\n",
        "plt.xlabel('Housing Cost ($million)')\n",
        "plt.ylabel('Count')\n",
        "plt.title('County Housing Cost')\n",
        "plt.savefig('House_cost.png')\n",
        "plt.show()"
      ]
    },
    {
      "cell_type": "code",
      "execution_count": 192,
      "id": "5018075b",
      "metadata": {
        "id": "5018075b"
      },
      "outputs": [],
      "source": []
    },
    {
      "cell_type": "code",
      "execution_count": 193,
      "id": "6e912305",
      "metadata": {
        "id": "6e912305",
        "colab": {
          "base_uri": "https://localhost:8080/",
          "height": 295
        },
        "outputId": "875ed829-6ca7-4c10-8f8c-a3f46d8b98cf"
      },
      "outputs": [
        {
          "output_type": "display_data",
          "data": {
            "text/plain": [
              "<Figure size 864x288 with 1 Axes>"
            ],
            "image/png": "[encoded data removed]"
          },
          "metadata": {
            "needs_background": "light"
          }
        }
      ],
      "source": [
        "plt.hist(merged2[\"House_Price\"], 100, facecolor='r', alpha=.75, weights=merged2[\"Labor_Force\"])\n",
        "plt.xlabel('County Housing Cost x $1 million')\n",
        "plt.ylabel('Weighted Count')\n",
        "plt.title('Population-Weighted County Housing Cost')\n",
        "plt.savefig('House_cost_weighted')\n",
        "plt.show()"
      ]
    },
    {
      "cell_type": "code",
      "execution_count": 194,
      "id": "5a0b5190",
      "metadata": {
        "id": "5a0b5190",
        "colab": {
          "base_uri": "https://localhost:8080/",
          "height": 265
        },
        "outputId": "d09ccc3d-45b5-4cd4-9176-8f8f0d6cb96c"
      },
      "outputs": [
        {
          "output_type": "display_data",
          "data": {
            "text/plain": [
              "<Figure size 864x288 with 1 Axes>"
            ],
            "image/png": "[encoded data removed]"
          },
          "metadata": {
            "needs_background": "light"
          }
        }
      ],
      "source": [
        "n, bins, patches = plt.hist(merged2[\"Rural_urban\"], 100, facecolor='r', alpha=.75)"
      ]
    }
  ],
  "metadata": {
    "colab": {
      "provenance": []
    },
    "kernelspec": {
      "display_name": "Python 3.10.4 64-bit",
      "language": "python",
      "name": "python3"
    },
    "language_info": {
      "codemirror_mode": {
        "name": "ipython",
        "version": 3
      },
      "file_extension": ".py",
      "mimetype": "text/x-python",
      "name": "python",
      "nbconvert_exporter": "python",
      "pygments_lexer": "ipython3",
      "version": "3.10.4"
    },
    "vscode": {
      "interpreter": {
        "hash": "91b0f9611463a9792426a975c97491acda42d543aee915178ee5e41afe7161ad"
      }
    }
  },
  "nbformat": 4,
  "nbformat_minor": 5
}